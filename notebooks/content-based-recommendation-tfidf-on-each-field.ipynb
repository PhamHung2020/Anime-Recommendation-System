{
 "cells": [
  {
   "cell_type": "code",
   "execution_count": 1,
   "metadata": {},
   "outputs": [
    {
     "data": {
      "text/html": [
       "        <script type=\"text/javascript\">\n",
       "        window.PlotlyConfig = {MathJaxConfig: 'local'};\n",
       "        if (window.MathJax && window.MathJax.Hub && window.MathJax.Hub.Config) {window.MathJax.Hub.Config({SVG: {font: \"STIX-Web\"}});}\n",
       "        if (typeof require !== 'undefined') {\n",
       "        require.undef(\"plotly\");\n",
       "        requirejs.config({\n",
       "            paths: {\n",
       "                'plotly': ['https://cdn.plot.ly/plotly-2.34.0.min']\n",
       "            }\n",
       "        });\n",
       "        require(['plotly'], function(Plotly) {\n",
       "            window._Plotly = Plotly;\n",
       "        });\n",
       "        }\n",
       "        </script>\n",
       "        "
      ]
     },
     "metadata": {},
     "output_type": "display_data"
    }
   ],
   "source": [
    "# Reading Dataset\n",
    "import numpy as np\n",
    "import pandas as pd\n",
    "\n",
    "# Visualization\n",
    "import plotly.express as px\n",
    "from plotly.offline import init_notebook_mode, iplot\n",
    "init_notebook_mode(connected=True)\n",
    "\n",
    "from datetime import datetime\n",
    "import pyspark.sql.functions as f"
   ]
  },
  {
   "cell_type": "code",
   "execution_count": 2,
   "metadata": {},
   "outputs": [
    {
     "name": "stderr",
     "output_type": "stream",
     "text": [
      "24/08/14 00:35:59 WARN Utils: Your hostname, ubuntu20 resolves to a loopback address: 127.0.1.1; using 192.168.1.107 instead (on interface wlp0s20f3)\n",
      "24/08/14 00:35:59 WARN Utils: Set SPARK_LOCAL_IP if you need to bind to another address\n"
     ]
    },
    {
     "name": "stdout",
     "output_type": "stream",
     "text": [
      ":: loading settings :: url = jar:file:/home/hungpm/Work/Master/BigData/my-anime-recommendation/.venv/lib/python3.11/site-packages/pyspark/jars/ivy-2.5.1.jar!/org/apache/ivy/core/settings/ivysettings.xml\n"
     ]
    },
    {
     "name": "stderr",
     "output_type": "stream",
     "text": [
      "Ivy Default Cache set to: /home/hungpm/.ivy2/cache\n",
      "The jars for the packages stored in: /home/hungpm/.ivy2/jars\n",
      "com.datastax.spark#spark-cassandra-connector_2.12 added as a dependency\n",
      ":: resolving dependencies :: org.apache.spark#spark-submit-parent-c7b701db-994f-4419-b22d-b9b1df77d996;1.0\n",
      "\tconfs: [default]\n",
      "\tfound com.datastax.spark#spark-cassandra-connector_2.12;3.2.0 in central\n",
      "\tfound com.datastax.spark#spark-cassandra-connector-driver_2.12;3.2.0 in central\n",
      "\tfound com.datastax.oss#java-driver-core-shaded;4.13.0 in central\n",
      "\tfound com.datastax.oss#native-protocol;1.5.0 in central\n",
      "\tfound com.datastax.oss#java-driver-shaded-guava;25.1-jre-graal-sub-1 in central\n",
      "\tfound com.typesafe#config;1.4.1 in central\n",
      "\tfound org.slf4j#slf4j-api;1.7.26 in central\n",
      "\tfound io.dropwizard.metrics#metrics-core;4.1.18 in central\n",
      "\tfound org.hdrhistogram#HdrHistogram;2.1.12 in central\n",
      "\tfound org.reactivestreams#reactive-streams;1.0.3 in central\n",
      "\tfound com.github.stephenc.jcip#jcip-annotations;1.0-1 in central\n",
      "\tfound com.github.spotbugs#spotbugs-annotations;3.1.12 in central\n",
      "\tfound com.google.code.findbugs#jsr305;3.0.2 in central\n",
      "\tfound com.datastax.oss#java-driver-mapper-runtime;4.13.0 in central\n",
      "\tfound com.datastax.oss#java-driver-query-builder;4.13.0 in central\n",
      "\tfound org.apache.commons#commons-lang3;3.10 in central\n",
      "\tfound com.thoughtworks.paranamer#paranamer;2.8 in central\n",
      "\tfound org.scala-lang#scala-reflect;2.12.11 in central\n",
      ":: resolution report :: resolve 604ms :: artifacts dl 22ms\n",
      "\t:: modules in use:\n",
      "\tcom.datastax.oss#java-driver-core-shaded;4.13.0 from central in [default]\n",
      "\tcom.datastax.oss#java-driver-mapper-runtime;4.13.0 from central in [default]\n",
      "\tcom.datastax.oss#java-driver-query-builder;4.13.0 from central in [default]\n",
      "\tcom.datastax.oss#java-driver-shaded-guava;25.1-jre-graal-sub-1 from central in [default]\n",
      "\tcom.datastax.oss#native-protocol;1.5.0 from central in [default]\n",
      "\tcom.datastax.spark#spark-cassandra-connector-driver_2.12;3.2.0 from central in [default]\n",
      "\tcom.datastax.spark#spark-cassandra-connector_2.12;3.2.0 from central in [default]\n",
      "\tcom.github.spotbugs#spotbugs-annotations;3.1.12 from central in [default]\n",
      "\tcom.github.stephenc.jcip#jcip-annotations;1.0-1 from central in [default]\n",
      "\tcom.google.code.findbugs#jsr305;3.0.2 from central in [default]\n",
      "\tcom.thoughtworks.paranamer#paranamer;2.8 from central in [default]\n",
      "\tcom.typesafe#config;1.4.1 from central in [default]\n",
      "\tio.dropwizard.metrics#metrics-core;4.1.18 from central in [default]\n",
      "\torg.apache.commons#commons-lang3;3.10 from central in [default]\n",
      "\torg.hdrhistogram#HdrHistogram;2.1.12 from central in [default]\n",
      "\torg.reactivestreams#reactive-streams;1.0.3 from central in [default]\n",
      "\torg.scala-lang#scala-reflect;2.12.11 from central in [default]\n",
      "\torg.slf4j#slf4j-api;1.7.26 from central in [default]\n",
      "\t---------------------------------------------------------------------\n",
      "\t|                  |            modules            ||   artifacts   |\n",
      "\t|       conf       | number| search|dwnlded|evicted|| number|dwnlded|\n",
      "\t---------------------------------------------------------------------\n",
      "\t|      default     |   18  |   0   |   0   |   0   ||   18  |   0   |\n",
      "\t---------------------------------------------------------------------\n",
      ":: retrieving :: org.apache.spark#spark-submit-parent-c7b701db-994f-4419-b22d-b9b1df77d996\n",
      "\tconfs: [default]\n",
      "\t0 artifacts copied, 18 already retrieved (0kB/10ms)\n",
      "24/08/14 00:36:06 WARN NativeCodeLoader: Unable to load native-hadoop library for your platform... using builtin-java classes where applicable\n",
      "Setting default log level to \"WARN\".\n",
      "To adjust logging level use sc.setLogLevel(newLevel). For SparkR, use setLogLevel(newLevel).\n"
     ]
    }
   ],
   "source": [
    "# Start spark session\n",
    "from pyspark.sql import SparkSession\n",
    "\n",
    "spark = SparkSession.builder \\\n",
    "            .config(\"spark.driver.memory\", \"12g\") \\\n",
    "            .config(\"spark.cassandra.connection.host\", \"172.19.0.2\") \\\n",
    "            .config(\"spark.jars.packages\", \"com.datastax.spark:spark-cassandra-connector_2.12:3.2.0\") \\\n",
    "            .getOrCreate()"
   ]
  },
  {
   "cell_type": "markdown",
   "metadata": {},
   "source": [
    "## Preprocessing"
   ]
  },
  {
   "cell_type": "markdown",
   "metadata": {},
   "source": [
    "### Load dataset"
   ]
  },
  {
   "cell_type": "code",
   "execution_count": 3,
   "metadata": {},
   "outputs": [],
   "source": [
    "# Load anime dataset\n",
    "from pyspark.sql.types import StructType, StructField, IntegerType, FloatType, StringType\n",
    "\n",
    "schema = StructType([\n",
    "    StructField(\"anime_id\", IntegerType(), True),\n",
    "    StructField(\"Name\", StringType(), True),\n",
    "    StructField(\"English name\", StringType(), True),\n",
    "    StructField(\"Other name\", StringType(), True),\n",
    "    StructField(\"Score\", FloatType(), True),\n",
    "    StructField(\"Genres\", StringType(), True),\n",
    "    StructField(\"Synopsis\", StringType(), True),\n",
    "    StructField(\"Type\", StringType(), True),\n",
    "    StructField(\"Episodes\", FloatType(), True),\n",
    "    StructField(\"Aired\", StringType(), True),\n",
    "    StructField(\"Premiered\", StringType(), True),\n",
    "    StructField(\"Status\", StringType(), True),\n",
    "    StructField(\"Producers\", StringType(), True),\n",
    "    StructField(\"Licensors\", StringType(), True),\n",
    "    StructField(\"Studios\", StringType(), True),\n",
    "    StructField(\"Source\", StringType(), True),\n",
    "    StructField(\"Duration\", StringType(), True),\n",
    "    StructField(\"Rating\", StringType(), True),\n",
    "    StructField(\"Rank\", FloatType(), True),\n",
    "    StructField(\"Popularity\", IntegerType(), True),\n",
    "    StructField(\"Favorites\", IntegerType(), True),\n",
    "    StructField(\"Scored By\", FloatType(), True),\n",
    "    StructField(\"Members\", FloatType(), True),\n",
    "    StructField(\"Image URL\", StringType(), True),\n",
    "])\n",
    "\n",
    "df_anime = spark.read.csv(\n",
    "    '../dataset/myanimelist-dataset/processed-dataset/anime-dataset-2023.csv', \n",
    "    header=True, \n",
    "    schema=schema, \n",
    "    multiLine=True, \n",
    "    quote='\\\"', \n",
    "    escape='\\\"'\n",
    ")"
   ]
  },
  {
   "cell_type": "code",
   "execution_count": 4,
   "metadata": {},
   "outputs": [],
   "source": [
    "# df_anime.select(f.col('anime_id'), f.col('Name').alias('name'), f.col('Score').alias('score')).write \\\n",
    "#   .format(\"org.apache.spark.sql.cassandra\") \\\n",
    "#   .mode(\"append\") \\\n",
    "#   .options(table=\"test_animes\", keyspace=\"anime\") \\\n",
    "#   .save()"
   ]
  },
  {
   "cell_type": "code",
   "execution_count": 4,
   "metadata": {},
   "outputs": [],
   "source": [
    "# Importing user details dataset\n",
    "schema = StructType([\n",
    "    StructField(\"Mal ID\", IntegerType(), True),\n",
    "    StructField(\"Username\", StringType(), True),\n",
    "    StructField(\"Gender\", StringType(), True),\n",
    "    StructField(\"Birthday\", StringType(), True),\n",
    "    StructField(\"Location\", StringType(), True),\n",
    "    StructField(\"Joined\", StringType(), True),\n",
    "    StructField(\"Days Watched\", FloatType(), True),\n",
    "    StructField(\"Mean Score\", FloatType(), True),\n",
    "    StructField(\"Watching\", FloatType(), True),\n",
    "    StructField(\"Completed\", FloatType(), True),\n",
    "    StructField(\"On Hold\", FloatType(), True),\n",
    "    StructField(\"Dropped\", FloatType(), True),\n",
    "    StructField(\"Plan to Watch\", FloatType(), True),\n",
    "    StructField(\"Total Entries\", FloatType(), True),\n",
    "    StructField(\"Rewatched\", FloatType(), True),\n",
    "    StructField(\"Episodes Watched\", FloatType(), True)\n",
    "])\n",
    "\n",
    "df_user = spark.read.csv(\"../dataset/myanimelist-dataset/processed-dataset/users-details-2023.csv\", header=True, schema=schema)"
   ]
  },
  {
   "cell_type": "code",
   "execution_count": 5,
   "metadata": {},
   "outputs": [],
   "source": [
    "# Importing user score dataset\n",
    "schema = StructType([\n",
    "    StructField(\"user_id\", IntegerType(), True),\n",
    "    StructField(\"Username\", StringType(), True),\n",
    "    StructField(\"anime_id\", IntegerType(), True),\n",
    "    StructField(\"Anime Title\", StringType(), True),\n",
    "    StructField(\"rating\", IntegerType(), True)\n",
    "])\n",
    "\n",
    "df_score = spark.read.csv(\"../dataset/myanimelist-dataset/processed-dataset/users-score-2023.csv\", header=True, schema=schema)"
   ]
  },
  {
   "cell_type": "markdown",
   "metadata": {},
   "source": [
    "### Filter anime dataset"
   ]
  },
  {
   "cell_type": "code",
   "execution_count": 6,
   "metadata": {},
   "outputs": [
    {
     "name": "stdout",
     "output_type": "stream",
     "text": [
      "+--------+--------------------+--------------------+------------------------------+-----+--------------------+--------------------+-----+--------+--------------------+-----------+----------------+--------------------+--------------------+----------------+-----------+-------------+--------------------+------+----------+---------+---------+---------+--------------------+\n",
      "|anime_id|                Name|        English name|                    Other name|Score|              Genres|            Synopsis| Type|Episodes|               Aired|  Premiered|          Status|           Producers|           Licensors|         Studios|     Source|     Duration|              Rating|  Rank|Popularity|Favorites|Scored By|  Members|           Image URL|\n",
      "+--------+--------------------+--------------------+------------------------------+-----+--------------------+--------------------+-----+--------+--------------------+-----------+----------------+--------------------+--------------------+----------------+-----------+-------------+--------------------+------+----------+---------+---------+---------+--------------------+\n",
      "|       1|        Cowboy Bebop|        Cowboy Bebop|            カウボーイビバップ| 8.75|Action, Award Win...|Crime is timeless...|   TV|    26.0|Apr 3, 1998 to Ap...|spring 1998| Finished Airing|       Bandai Visual|Funimation, Banda...|         Sunrise|   Original|24 min per ep|R - 17+ (violence...|  41.0|        43|    78525| 914193.0|1771505.0|https://cdn.myani...|\n",
      "|       5|Cowboy Bebop: Ten...|Cowboy Bebop: The...|   カウボーイビバップ 天国の扉| 8.38|      Action, Sci-Fi|Another day, anot...|Movie|     1.0|         Sep 1, 2001|    UNKNOWN| Finished Airing|Sunrise, Bandai V...|Sony Pictures Ent...|           Bones|   Original|  1 hr 55 min|R - 17+ (violence...| 189.0|       602|     1448| 206248.0| 360978.0|https://cdn.myani...|\n",
      "|       6|              Trigun|              Trigun|                    トライガン| 8.22|Action, Adventure...|Vash the Stampede...|   TV|    26.0|Apr 1, 1998 to Se...|spring 1998| Finished Airing|Victor Entertainment|Funimation, Geneo...|        Madhouse|      Manga|24 min per ep|PG-13 - Teens 13 ...| 328.0|       246|    15035| 356739.0| 727252.0|https://cdn.myani...|\n",
      "|       7|  Witch Hunter Robin|  Witch Hunter Robin|          Witch Hunter ROBI...| 7.25|Action, Drama, My...|Robin Sena is a p...|   TV|    26.0|Jul 3, 2002 to De...|summer 2002| Finished Airing|Bandai Visual, De...|Funimation, Banda...|         Sunrise|   Original|25 min per ep|PG-13 - Teens 13 ...|2764.0|      1795|      613|  42829.0| 111931.0|https://cdn.myani...|\n",
      "|       8|      Bouken Ou Beet|Beet the Vandel B...|                  冒険王ビィト| 6.94|Adventure, Fantas...|It is the dark ce...|   TV|    52.0|Sep 30, 2004 to S...|  fall 2004| Finished Airing|    TV Tokyo, Dentsu|Illumitoon Entert...|  Toei Animation|      Manga|23 min per ep|       PG - Children|4240.0|      5126|       14|   6413.0|  15001.0|https://cdn.myani...|\n",
      "|      15|        Eyeshield 21|             UNKNOWN|                アイシールド21| 7.92|              Sports|Shy, reserved, an...|   TV|   145.0|Apr 6, 2005 to Ma...|spring 2005| Finished Airing|TV Tokyo, Nihon A...|VIZ Media, Sentai...|          Gallop|      Manga|23 min per ep|PG-13 - Teens 13 ...| 688.0|      1252|     1997|  86524.0| 177688.0|https://cdn.myani...|\n",
      "|      16|Hachimitsu to Clover|    Honey and Clover|          ハチミツとクローバー|  8.0|Comedy, Drama, Ro...|Yuuta Takemoto, a...|   TV|    24.0|Apr 15, 2005 to S...|spring 2005| Finished Airing|Dentsu, Genco, Fu...|VIZ Media, Discot...|       J.C.Staff|      Manga|23 min per ep|PG-13 - Teens 13 ...| 589.0|       862|     4136|  81747.0| 260166.0|https://cdn.myani...|\n",
      "|      17|Hungry Heart: Wil...|             UNKNOWN|  ハングリーハート Wild Str...| 7.55|Comedy, Slice of ...|As the younger br...|   TV|    52.0|Sep 11, 2002 to S...|  fall 2002| Finished Airing|             UNKNOWN|             UNKNOWN|Nippon Animation|      Manga|23 min per ep|PG-13 - Teens 13 ...|1551.0|      4212|      237|  12960.0|  24172.0|https://cdn.myani...|\n",
      "|      18|Initial D Fourth ...|             UNKNOWN|頭文字〈イニシャル〉D FOURT...| 8.16|       Action, Drama|Takumi Fujiwara f...|   TV|    24.0|Apr 17, 2004 to F...|spring 2004| Finished Airing|OB Planning, Stud...|          Funimation|        A.C.G.T.|      Manga|27 min per ep|PG-13 - Teens 13 ...| 393.0|      1273|     1237|  97878.0| 173710.0|https://cdn.myani...|\n",
      "|      19|             Monster|             Monster|                    モンスター| 8.87|Drama, Mystery, S...|Dr. Kenzou Tenma,...|   TV|    74.0|Apr 7, 2004 to Se...|spring 2004| Finished Airing|VAP, Shogakukan-S...|           VIZ Media|        Madhouse|      Manga|24 min per ep|    R+ - Mild Nudity|  26.0|       142|    47235| 368569.0|1013100.0|https://cdn.myani...|\n",
      "|      20|              Naruto|              Naruto|                        ナルト| 7.99|Action, Adventure...|Moments prior to ...|   TV|   220.0|Oct 3, 2002 to Fe...|  fall 2002| Finished Airing|TV Tokyo, Aniplex...|           VIZ Media|         Pierrot|      Manga|23 min per ep|PG-13 - Teens 13 ...| 599.0|         8|    76343|1883772.0|2717330.0|https://cdn.myani...|\n",
      "|      21|           One Piece|           One Piece|                     ONE PIECE| 8.69|Action, Adventure...|Gol D. Roger was ...|   TV|    NULL|   Oct 20, 1999 to ?|  fall 1999|Currently Airing|Fuji TV, TAP, Shu...|Funimation, 4Kids...|  Toei Animation|      Manga|       24 min|PG-13 - Teens 13 ...|  55.0|        20|   198986|1226493.0|2168904.0|https://cdn.myani...|\n",
      "|      22| Tennis no Ouji-sama|The Prince of Tennis|                テニスの王子様| 7.86|              Sports|At the request of...|   TV|   178.0|Oct 10, 2001 to M...|  fall 2001| Finished Airing|Production I.G, N...|Funimation, VIZ M...|      Trans Arts|      Manga|22 min per ep|PG-13 - Teens 13 ...| 805.0|      1246|     3004|  81992.0| 178273.0|https://cdn.myani...|\n",
      "|      23|    Ring ni Kakero 1|             UNKNOWN|              リングにかけろ１| 6.39|      Action, Sports|In order to fulfi...|   TV|    12.0|Oct 6, 2004 to De...|  fall 2004| Finished Airing|             UNKNOWN|             UNKNOWN|  Toei Animation|      Manga|25 min per ep|       PG - Children|6943.0|      8288|        6|   1378.0|   4581.0|https://cdn.myani...|\n",
      "|      24|       School Rumble|       School Rumble|              スクールランブル| 7.89|     Comedy, Romance|Just the words \"I...|   TV|    26.0|Oct 5, 2004 to Ma...|  fall 2004| Finished Airing|TV Tokyo, Sotsu, ...|          Funimation|    Studio Comet|      Manga|23 min per ep|PG-13 - Teens 13 ...| 756.0|       687|     5139| 146597.0| 320203.0|https://cdn.myani...|\n",
      "|      25|           Sunabouzu|         Desert Punk|                      砂ぼうず| 7.38|Action, Adventure...|The Great Kanto D...|   TV|    24.0|Oct 6, 2004 to Ma...|  fall 2004| Finished Airing|GDH, Pony Canyon,...|          Funimation|           Gonzo|      Manga|24 min per ep|R - 17+ (violence...|2167.0|      1546|      822|  53709.0| 134894.0|https://cdn.myani...|\n",
      "|      26|          Texhnolyze|          Texhnolyze|                    TEXHNOLYZE| 7.76|Action, Drama, Sc...|In the dark under...|   TV|    22.0|Apr 17, 2003 to S...|spring 2003| Finished Airing|Group TAC, Rondo ...|Funimation, Geneo...|        Madhouse|   Original|23 min per ep|    R+ - Mild Nudity| 990.0|       935|     4786|  54857.0| 239423.0|https://cdn.myani...|\n",
      "|      27|       Trinity Blood|       Trinity Blood|          トリニティ・ブラッド| 7.29|Action, Supernatural|Following Armaged...|   TV|    24.0|Apr 29, 2005 to O...|spring 2005| Finished Airing|             UNKNOWN|          Funimation|           Gonzo|Light novel|24 min per ep|R - 17+ (violence...|2591.0|      1233|     1298|  79130.0| 179583.0|https://cdn.myani...|\n",
      "|      28|    Yakitate!! Japan|    Yakitate!! Japan|           焼きたて!! ジャぱん| 7.91|     Comedy, Gourmet|While countries s...|   TV|    69.0|Oct 12, 2004 to M...|  fall 2004| Finished Airing|TV Tokyo, Aniplex...|Nozomi Entertainment|         Sunrise|      Manga|24 min per ep|PG-13 - Teens 13 ...| 704.0|      1992|      897|  40492.0|  95380.0|https://cdn.myani...|\n",
      "|      29|              Zipang|             UNKNOWN|                      ジパング| 7.48|Action, Drama, Sc...|Mirai, an improve...|   TV|    26.0|Oct 8, 2004 to Ap...|  fall 2004| Finished Airing|      Marvelous, TBS|Geneon Entertainm...|     Studio Deen|      Manga|24 min per ep|PG-13 - Teens 13 ...|1778.0|      4430|      180|   7273.0|  21391.0|https://cdn.myani...|\n",
      "+--------+--------------------+--------------------+------------------------------+-----+--------------------+--------------------+-----+--------+--------------------+-----------+----------------+--------------------+--------------------+----------------+-----------+-------------+--------------------+------+----------+---------+---------+---------+--------------------+\n",
      "only showing top 20 rows\n",
      "\n"
     ]
    }
   ],
   "source": [
    "df_anime = df_anime \\\n",
    "            .filter(~f.col('Genres').contains('UNKNOWN')) \\\n",
    "            .filter(~f.col('Genres').contains('Hentai')) \\\n",
    "            .filter(~f.col('Studios').contains('UNKNOWN'))\n",
    "\n",
    "df_anime.show()"
   ]
  },
  {
   "cell_type": "code",
   "execution_count": 7,
   "metadata": {},
   "outputs": [
    {
     "name": "stdout",
     "output_type": "stream",
     "text": [
      "+--------+-------------------------------+------------------------------------+-----------------------------------------------------------------------------------------------------------------------------------------------------------------------------------------------------------------------------------------------------------------------------------------------------------------------------------------------------------------------------------------------------------------------------------------------------------------------------------------------------------------------------------------------------------------------------------------------------------------------------------------------------------------------------------------------------------------------------------------------------------------------------------------------------------------------------------------------------------------------------------------------------------------------------------------------------------------------------------------------------------------------------------------------------------------------------------------------------------------------------------------------------------------------------------------------------------------------------------------------------------------------------------------------------------------------------------------------------------------------------------------------------------------------+----------------+\n",
      "|anime_id|Name                           |Genres                              |Synopsis                                                                                                                                                                                                                                                                                                                                                                                                                                                                                                                                                                                                                                                                                                                                                                                                                                                                                                                                                                                                                                                                                                                                                                                                                                                                                                                                                                                                               |Studios         |\n",
      "+--------+-------------------------------+------------------------------------+-----------------------------------------------------------------------------------------------------------------------------------------------------------------------------------------------------------------------------------------------------------------------------------------------------------------------------------------------------------------------------------------------------------------------------------------------------------------------------------------------------------------------------------------------------------------------------------------------------------------------------------------------------------------------------------------------------------------------------------------------------------------------------------------------------------------------------------------------------------------------------------------------------------------------------------------------------------------------------------------------------------------------------------------------------------------------------------------------------------------------------------------------------------------------------------------------------------------------------------------------------------------------------------------------------------------------------------------------------------------------------------------------------------------------+----------------+\n",
      "|1       |Cowboy Bebop                   |Action, Award Winning, Sci-Fi       |Crime is timeless. By the year 2071, humanity has expanded across the galaxy, filling the surface of other planets with settlements like those on Earth. These new societies are plagued by murder, drug use, and theft, and intergalactic outlaws are hunted by a growing number of tough bounty hunters.\\n\\nSpike Spiegel and Jet Black pursue criminals throughout space to make a humble living. Beneath his goofy and aloof demeanor, Spike is haunted by the weight of his violent past. Meanwhile, Jet manages his own troubled memories while taking care of Spike and the Bebop, their ship. The duo is joined by the beautiful con artist Faye Valentine, odd child Edward Wong Hau Pepelu Tivrusky IV, and Ein, a bioengineered Welsh Corgi.\\n\\nWhile developing bonds and working to catch a colorful cast of criminals, the Bebop crew's lives are disrupted by a menace from Spike's past. As a rival's maniacal plot continues to unravel, Spike must choose between life with his newfound family or revenge for his old wounds.                                                                                                                                                                                                                                                                                                                                                                       |Sunrise         |\n",
      "|5       |Cowboy Bebop: Tengoku no Tobira|Action, Sci-Fi                      |Another day, another bounty—such is the life of the often unlucky crew of the Bebop. However, this routine is interrupted when Faye, who is chasing a fairly worthless target on Mars, witnesses an oil tanker suddenly explode, causing mass hysteria. As casualties mount due to a strange disease spreading through the smoke from the blast, a whopping three hundred million woolong price is placed on the head of the supposed perpetrator.\\n\\nWith lives at stake and a solution to their money problems in sight, the Bebop crew springs into action. Spike, Jet, Faye, and Edward, followed closely by Ein, split up to pursue different leads across Alba City. Through their individual investigations, they discover a cover-up scheme involving a pharmaceutical company, revealing a plot that reaches much further than the ragtag team of bounty hunters could have realized.                                                                                                                                                                                                                                                                                                                                                                                                                                                                                                                         |Bones           |\n",
      "|6       |Trigun                         |Action, Adventure, Sci-Fi           |Vash the Stampede is the man with a $$60,000,000,000 bounty on his head. The reason: he's a merciless villain who lays waste to all those that oppose him and flattens entire cities for fun, garnering him the title \"The Humanoid Typhoon.\" He leaves a trail of death and destruction wherever he goes, and anyone can count themselves dead if they so much as make eye contact—or so the rumors say. In actuality, Vash is a huge softie who claims to have never taken a life and avoids violence at all costs.\\n\\nWith his crazy doughnut obsession and buffoonish attitude in tow, Vash traverses the wasteland of the planet Gunsmoke, all the while followed by two insurance agents, Meryl Stryfe and Milly Thompson, who attempt to minimize his impact on the public. But soon, their misadventures evolve into life-or-death situations as a group of legendary assassins are summoned to bring about suffering to the trio. Vash's agonizing past will be unraveled and his morality and principles pushed to the breaking point.                                                                                                                                                                                                                                                                                                                                                                       |Madhouse        |\n",
      "|7       |Witch Hunter Robin             |Action, Drama, Mystery, Supernatural|Robin Sena is a powerful craft user drafted into the STNJ—a group of specialized hunters that fight deadly beings known as Witches. Though her fire power is great, she's got a lot to learn about her powers and working with her cool and aloof partner, Amon. But the truth about the Witches and herself will leave Robin on an entirely new path that she never expected!\\n\\n(Source: Funimation)                                                                                                                                                                                                                                                                                                                                                                                                                                                                                                                                                                                                                                                                                                                                                                                                                                                                                                                                                                                                                 |Sunrise         |\n",
      "|8       |Bouken Ou Beet                 |Adventure, Fantasy, Supernatural    |It is the dark century and the people are suffering under the rule of the devil, Vandel, who is able to manipulate monsters. The Vandel Busters are a group of people who hunt these devils, and among them, the Zenon Squad is known to be the strongest busters on the continent. A young boy, Beet, dreams of joining the Zenon Squad. However, one day, as a result of Beet's fault, the Zenon squad was defeated by the devil, Beltose. The five dying busters sacrificed their life power into their five weapons, Saiga. After giving their weapons to Beet, they passed away. Years have passed since then and the young Vandel Buster, Beet, begins his adventure to carry out the Zenon Squad's will to put an end to the dark century.                                                                                                                                                                                                                                                                                                                                                                                                                                                                                                                                                                                                                                                                      |Toei Animation  |\n",
      "|15      |Eyeshield 21                   |Sports                              |Shy, reserved, and small-statured, Deimon High School student Sena Kobayakawa is the perfect target for bullies. However, as a result of running errands throughout his life, Sena has become agile and developed a skill for avoiding crowds of people. After the cunning Youichi Hiruma—captain of the Deimon Devil Bats football team—witnesses Sena's rapid legs in motion, he coerces the timid boy into joining his squad.\\n\\nAs Hiruma wants to conceal Sena's identity from other clubs, Sena is forced to hide under the visored helmet of \"Eyeshield 21,\" a mysterious running back wearing the number 21 jersey. The legendary Eyeshield 21 can supposedly run at the speed of light and has achieved remarkable feats in the United States during his time at the Notre Dame College.\\n\\nAccustomed to avoiding his problems in the past, Sena's specialty might just help him become the new secret weapon of the Deimon Devil Bats. As he interacts with his teammates, Sena gradually gains more self-confidence and forges valuable bonds along the way.                                                                                                                                                                                                                                                                                                                                               |Gallop          |\n",
      "|16      |Hachimitsu to Clover           |Comedy, Drama, Romance              |Yuuta Takemoto, a sophomore at an arts college, shares a cheap apartment with two seniors—the eccentric Shinobu Morita, who keeps failing to graduate due to his absenteeism, and the sensible Takumi Mayama, who acts as a proper senior to Takemoto, often looking out for him.\\n\\nTakemoto had not given much thought to his future until one fine spring day, when he meets the endearing Hagumi Hanamoto and falls in love at first sight. Incredibly gifted in the arts, Hagumi enrolls in Takemoto's university and soon befriends the popular pottery student Ayumi Yamada. Ayumi is already well acquainted with the three flatmates and secretly harbors deep feelings for one of them.\\n\\nHachimitsu to Clover is a heartwarming tale of youth, love, soul-searching, and self-discovery, intricately woven through the complex relationships between five dear friends.                                                                                                                                                                                                                                                                                                                                                                                                                                                                                                                                    |J.C.Staff       |\n",
      "|17      |Hungry Heart: Wild Striker     |Comedy, Slice of Life, Sports       |As the younger brother of Japanese soccer star Seisuke Kanou, Kyousuke was always expected to grow as a soccer player at the same pace his brother did—an expectation that proved too difficult to meet. Having fallen behind, he now lives in the shadow of his brother's success.\\n\\nEntering his freshman year at Jouyou Akanegaoka High School, Kyousuke vows never to play soccer again. However, Miki Tsujiwaki, the captain of the girls' soccer team, and Mori Kazuto, the manager of the boys' team, recognize Kyousuke's potential and want to see his return to the game for their own reasons.\\n\\nWith an opportunity to play soccer again, Kyousuke must either remain steadfast in his decision to abandon the sport he once loved, or allow himself to reignite that flame to become the best striker in the world.                                                                                                                                                                                                                                                                                                                                                                                                                                                                                                                                                                                     |Nippon Animation|\n",
      "|18      |Initial D Fourth Stage         |Action, Drama                       |Takumi Fujiwara finally joins Ryousuke and Keisuke Takahashi to create \"Project D.\" Their goal is twofold: Ryousuke wants to develop his \"High-Speed Street Racing Theory,\" while Keisuke and Takumi aim at improving their driving skills by facing powerful opponents on dangerous roads. The idea of Project D is to challenge street racing teams from other prefectures to improve both their uphill and downhill records. In order to attract the attention of the best racing teams, Ryousuke creates a dedicated website to announce the future battles of Project D and post the team's results.\\n\\nThe fourth season of Initial D details the hardships and successes of the members of Project D as they try to become the best street racing team outside of Gunma Prefecture.                                                                                                                                                                                                                                                                                                                                                                                                                                                                                                                                                                                                                             |A.C.G.T.        |\n",
      "|19      |Monster                        |Drama, Mystery, Suspense            |Dr. Kenzou Tenma, an elite neurosurgeon recently engaged to his hospital director's daughter, is well on his way to ascending the hospital hierarchy. That is until one night, a seemingly small event changes Dr. Tenma's life forever. While preparing to perform surgery on someone, he gets a call from the hospital director telling him to switch patients and instead perform life-saving brain surgery on a famous performer. His fellow doctors, fiancée, and the hospital director applaud his accomplishment; but because of the switch, a poor immigrant worker is dead, causing Dr. Tenma to have a crisis of conscience.\\n\\nSo when a similar situation arises, Dr. Tenma stands his ground and chooses to perform surgery on the young boy Johan Liebert instead of the town's mayor. Unfortunately, this choice leads to serious ramifications for Dr. Tenma—losing his social standing being one of them. However, with the mysterious death of the director and two other doctors, Dr. Tenma's position is restored. With no evidence to convict him, he is released and goes on to attain the position of hospital director. \\n\\nNine years later when Dr. Tenma saves the life of a criminal, his past comes back to haunt him—once again, he comes face to face with the monster he operated on. He must now embark on a quest of pursuit to make amends for the havoc spread by the one he saved.|Madhouse        |\n",
      "+--------+-------------------------------+------------------------------------+-----------------------------------------------------------------------------------------------------------------------------------------------------------------------------------------------------------------------------------------------------------------------------------------------------------------------------------------------------------------------------------------------------------------------------------------------------------------------------------------------------------------------------------------------------------------------------------------------------------------------------------------------------------------------------------------------------------------------------------------------------------------------------------------------------------------------------------------------------------------------------------------------------------------------------------------------------------------------------------------------------------------------------------------------------------------------------------------------------------------------------------------------------------------------------------------------------------------------------------------------------------------------------------------------------------------------------------------------------------------------------------------------------------------------+----------------+\n",
      "only showing top 10 rows\n",
      "\n"
     ]
    }
   ],
   "source": [
    "df_anime_reduced = df_anime.select('anime_id', 'Name', 'Genres', 'Synopsis', 'Studios')\n",
    "df_anime_reduced.show(10, truncate=False)"
   ]
  },
  {
   "cell_type": "markdown",
   "metadata": {},
   "source": [
    "### Preprocessing Animes' Name"
   ]
  },
  {
   "cell_type": "code",
   "execution_count": 8,
   "metadata": {},
   "outputs": [],
   "source": [
    "from pyspark.ml.feature import HashingTF, IDF, Tokenizer, RegexTokenizer, StopWordsRemover\n",
    "from pyspark.sql.types import ArrayType\n",
    "\n",
    "# Breakdown animes' name into tokens with alphabet character, number, \"-\" and \"_\" only, other characters are deleted\n",
    "nameRegexTokenizer = RegexTokenizer(inputCol=\"Name\", outputCol=\"Name_tokens\", pattern=\"[a-zA-Z0-9-_]+\", gaps=False)\n",
    "df_anime_reduced = nameRegexTokenizer.transform(df_anime_reduced)"
   ]
  },
  {
   "cell_type": "code",
   "execution_count": 12,
   "metadata": {},
   "outputs": [
    {
     "name": "stdout",
     "output_type": "stream",
     "text": [
      "+--------+-------------------------------+------------------------------------+\n",
      "|anime_id|Name                           |Name_tokens                         |\n",
      "+--------+-------------------------------+------------------------------------+\n",
      "|1       |Cowboy Bebop                   |[cowboy, bebop]                     |\n",
      "|5       |Cowboy Bebop: Tengoku no Tobira|[cowboy, bebop, tengoku, no, tobira]|\n",
      "|6       |Trigun                         |[trigun]                            |\n",
      "|7       |Witch Hunter Robin             |[witch, hunter, robin]              |\n",
      "|8       |Bouken Ou Beet                 |[bouken, ou, beet]                  |\n",
      "|15      |Eyeshield 21                   |[eyeshield, 21]                     |\n",
      "|16      |Hachimitsu to Clover           |[hachimitsu, to, clover]            |\n",
      "|17      |Hungry Heart: Wild Striker     |[hungry, heart, wild, striker]      |\n",
      "|18      |Initial D Fourth Stage         |[initial, d, fourth, stage]         |\n",
      "|19      |Monster                        |[monster]                           |\n",
      "+--------+-------------------------------+------------------------------------+\n",
      "only showing top 10 rows\n",
      "\n"
     ]
    }
   ],
   "source": [
    "df_anime_reduced.select('anime_id', 'Name', 'Name_tokens').show(10, truncate=False)"
   ]
  },
  {
   "cell_type": "code",
   "execution_count": 9,
   "metadata": {},
   "outputs": [],
   "source": [
    "# udf to remove \"-\" and \"_\" from the tokens\n",
    "import re\n",
    "remove_hyphen_udf = f.udf(lambda x: [re.sub('[-|_]', '', word) for word in x], ArrayType(StringType()))"
   ]
  },
  {
   "cell_type": "code",
   "execution_count": 10,
   "metadata": {},
   "outputs": [],
   "source": [
    "df_anime_reduced = df_anime_reduced.withColumn('Name_tokens', remove_hyphen_udf(f.col('Name_tokens')))"
   ]
  },
  {
   "cell_type": "code",
   "execution_count": 15,
   "metadata": {},
   "outputs": [
    {
     "name": "stderr",
     "output_type": "stream",
     "text": [
      "[Stage 5:>                                                          (0 + 1) / 1]\r"
     ]
    },
    {
     "name": "stdout",
     "output_type": "stream",
     "text": [
      "+--------+--------------------+--------------------+--------------------+----------------+--------------------+\n",
      "|anime_id|                Name|              Genres|            Synopsis|         Studios|         Name_tokens|\n",
      "+--------+--------------------+--------------------+--------------------+----------------+--------------------+\n",
      "|       1|        Cowboy Bebop|Action, Award Win...|Crime is timeless...|         Sunrise|     [cowboy, bebop]|\n",
      "|       5|Cowboy Bebop: Ten...|      Action, Sci-Fi|Another day, anot...|           Bones|[cowboy, bebop, t...|\n",
      "|       6|              Trigun|Action, Adventure...|Vash the Stampede...|        Madhouse|            [trigun]|\n",
      "|       7|  Witch Hunter Robin|Action, Drama, My...|Robin Sena is a p...|         Sunrise|[witch, hunter, r...|\n",
      "|       8|      Bouken Ou Beet|Adventure, Fantas...|It is the dark ce...|  Toei Animation|  [bouken, ou, beet]|\n",
      "|      15|        Eyeshield 21|              Sports|Shy, reserved, an...|          Gallop|     [eyeshield, 21]|\n",
      "|      16|Hachimitsu to Clover|Comedy, Drama, Ro...|Yuuta Takemoto, a...|       J.C.Staff|[hachimitsu, to, ...|\n",
      "|      17|Hungry Heart: Wil...|Comedy, Slice of ...|As the younger br...|Nippon Animation|[hungry, heart, w...|\n",
      "|      18|Initial D Fourth ...|       Action, Drama|Takumi Fujiwara f...|        A.C.G.T.|[initial, d, four...|\n",
      "|      19|             Monster|Drama, Mystery, S...|Dr. Kenzou Tenma,...|        Madhouse|           [monster]|\n",
      "+--------+--------------------+--------------------+--------------------+----------------+--------------------+\n",
      "only showing top 10 rows\n",
      "\n"
     ]
    },
    {
     "name": "stderr",
     "output_type": "stream",
     "text": [
      "                                                                                \r"
     ]
    }
   ],
   "source": [
    "df_anime_reduced.show(10)"
   ]
  },
  {
   "cell_type": "code",
   "execution_count": 11,
   "metadata": {},
   "outputs": [],
   "source": [
    "# Remove (English) stopwords from tokens\n",
    "nameRemover = StopWordsRemover(inputCol=\"Name_tokens\", outputCol=\"Name_tokens_removed\")\n",
    "nameRemover.loadDefaultStopWords('english')\n",
    "df_anime_reduced = nameRemover.transform(df_anime_reduced)"
   ]
  },
  {
   "cell_type": "code",
   "execution_count": 19,
   "metadata": {},
   "outputs": [
    {
     "name": "stdout",
     "output_type": "stream",
     "text": [
      "+----------------------------------------------------------+--------------------------------------------------------------+\n",
      "|Name                                                      |Name_tokens_removed                                           |\n",
      "+----------------------------------------------------------+--------------------------------------------------------------+\n",
      "|Arc the Lad                                               |[arc, lad]                                                    |\n",
      "|E's Otherwise                                             |[e, otherwise]                                                |\n",
      "|eX-Driver the Movie                                       |[exdriver, movie]                                             |\n",
      "|Aria the Animation                                        |[aria, animation]                                             |\n",
      "|Saishuu Heiki Kanojo: Another Love Song                   |[saishuu, heiki, kanojo, another, love, song]                 |\n",
      "|Chou Henshin Cosprayers vs. Ankoku Uchuu Shougun the Movie|[chou, henshin, cosprayers, vs, ankoku, uchuu, shougun, movie]|\n",
      "|Papa to Kiss in the Dark                                  |[papa, kiss, dark]                                            |\n",
      "|Tokyo Godfathers                                          |[tokyo, godfathers]                                           |\n",
      "|Bleach: Memories in the Rain                              |[bleach, memories, rain]                                      |\n",
      "|Detective Conan Movie 03: The Last Wizard of the Century  |[detective, conan, movie, 03, last, wizard, century]          |\n",
      "|King of Fighters: Another Day                             |[king, fighters, another, day]                                |\n",
      "|Aria the Natural                                          |[aria, natural]                                               |\n",
      "|Sin in the Rain                                           |[sin, rain]                                                   |\n",
      "|Netrun-mon the Movie                                      |[netrunmon, movie]                                            |\n",
      "|Kidou Keisatsu Patlabor the Movie                         |[kidou, keisatsu, patlabor, movie]                            |\n",
      "|Kidou Keisatsu Patlabor 2 the Movie                       |[kidou, keisatsu, patlabor, 2, movie]                         |\n",
      "|Mother: Saigo no Shoujo Eve                               |[mother, saigo, shoujo, eve]                                  |\n",
      "|Zone of the Enders: 2167 Idolo                            |[zone, enders, 2167, idolo]                                   |\n",
      "|Zone of the Enders: Dolores, I                            |[zone, enders, dolores]                                       |\n",
      "|Detective Conan Movie 07: Crossroad in the Ancient Capital|[detective, conan, movie, 07, crossroad, ancient, capital]    |\n",
      "+----------------------------------------------------------+--------------------------------------------------------------+\n",
      "only showing top 20 rows\n",
      "\n"
     ]
    }
   ],
   "source": [
    "df_anime_reduced.select('Name', 'Name_tokens_removed').show(20, truncate=False)"
   ]
  },
  {
   "cell_type": "markdown",
   "metadata": {},
   "source": [
    "### Preprocessing Animes' Synopsis"
   ]
  },
  {
   "cell_type": "code",
   "execution_count": 12,
   "metadata": {},
   "outputs": [],
   "source": [
    "# Breakdown synopsis into tokens, remove charaters except alphabet, numbers, \"-\" and \"_\"\n",
    "regexTokenizer = RegexTokenizer(inputCol=\"Synopsis\", outputCol=\"Synopsis_tokens\", pattern=\"[a-zA-Z0-9-_]+\", gaps=False)\n",
    "df_anime_reduced = regexTokenizer.transform(df_anime_reduced)"
   ]
  },
  {
   "cell_type": "code",
   "execution_count": 21,
   "metadata": {},
   "outputs": [
    {
     "name": "stdout",
     "output_type": "stream",
     "text": [
      "+--------+--------------------+--------------------+--------------------+----------------+--------------------+--------------------+--------------------+\n",
      "|anime_id|                Name|              Genres|            Synopsis|         Studios|         Name_tokens| Name_tokens_removed|     Synopsis_tokens|\n",
      "+--------+--------------------+--------------------+--------------------+----------------+--------------------+--------------------+--------------------+\n",
      "|       1|        Cowboy Bebop|Action, Award Win...|Crime is timeless...|         Sunrise|     [cowboy, bebop]|     [cowboy, bebop]|[crime, is, timel...|\n",
      "|       5|Cowboy Bebop: Ten...|      Action, Sci-Fi|Another day, anot...|           Bones|[cowboy, bebop, t...|[cowboy, bebop, t...|[another, day, an...|\n",
      "|       6|              Trigun|Action, Adventure...|Vash the Stampede...|        Madhouse|            [trigun]|            [trigun]|[vash, the, stamp...|\n",
      "|       7|  Witch Hunter Robin|Action, Drama, My...|Robin Sena is a p...|         Sunrise|[witch, hunter, r...|[witch, hunter, r...|[robin, sena, is,...|\n",
      "|       8|      Bouken Ou Beet|Adventure, Fantas...|It is the dark ce...|  Toei Animation|  [bouken, ou, beet]|  [bouken, ou, beet]|[it, is, the, dar...|\n",
      "|      15|        Eyeshield 21|              Sports|Shy, reserved, an...|          Gallop|     [eyeshield, 21]|     [eyeshield, 21]|[shy, reserved, a...|\n",
      "|      16|Hachimitsu to Clover|Comedy, Drama, Ro...|Yuuta Takemoto, a...|       J.C.Staff|[hachimitsu, to, ...|[hachimitsu, clover]|[yuuta, takemoto,...|\n",
      "|      17|Hungry Heart: Wil...|Comedy, Slice of ...|As the younger br...|Nippon Animation|[hungry, heart, w...|[hungry, heart, w...|[as, the, younger...|\n",
      "|      18|Initial D Fourth ...|       Action, Drama|Takumi Fujiwara f...|        A.C.G.T.|[initial, d, four...|[initial, d, four...|[takumi, fujiwara...|\n",
      "|      19|             Monster|Drama, Mystery, S...|Dr. Kenzou Tenma,...|        Madhouse|           [monster]|           [monster]|[dr, kenzou, tenm...|\n",
      "+--------+--------------------+--------------------+--------------------+----------------+--------------------+--------------------+--------------------+\n",
      "only showing top 10 rows\n",
      "\n"
     ]
    }
   ],
   "source": [
    "df_anime_reduced.show(10)"
   ]
  },
  {
   "cell_type": "code",
   "execution_count": 13,
   "metadata": {},
   "outputs": [],
   "source": [
    "# Remove \"-\" and \"_\"\n",
    "df_anime_reduced = df_anime_reduced.withColumn('Synopsis_tokens', remove_hyphen_udf(f.col('Synopsis_tokens')))"
   ]
  },
  {
   "cell_type": "code",
   "execution_count": 23,
   "metadata": {},
   "outputs": [
    {
     "name": "stdout",
     "output_type": "stream",
     "text": [
      "+--------+--------------------+--------------------+--------------------+----------------+--------------------+--------------------+--------------------+\n",
      "|anime_id|                Name|              Genres|            Synopsis|         Studios|         Name_tokens| Name_tokens_removed|     Synopsis_tokens|\n",
      "+--------+--------------------+--------------------+--------------------+----------------+--------------------+--------------------+--------------------+\n",
      "|       1|        Cowboy Bebop|Action, Award Win...|Crime is timeless...|         Sunrise|     [cowboy, bebop]|     [cowboy, bebop]|[crime, is, timel...|\n",
      "|       5|Cowboy Bebop: Ten...|      Action, Sci-Fi|Another day, anot...|           Bones|[cowboy, bebop, t...|[cowboy, bebop, t...|[another, day, an...|\n",
      "|       6|              Trigun|Action, Adventure...|Vash the Stampede...|        Madhouse|            [trigun]|            [trigun]|[vash, the, stamp...|\n",
      "|       7|  Witch Hunter Robin|Action, Drama, My...|Robin Sena is a p...|         Sunrise|[witch, hunter, r...|[witch, hunter, r...|[robin, sena, is,...|\n",
      "|       8|      Bouken Ou Beet|Adventure, Fantas...|It is the dark ce...|  Toei Animation|  [bouken, ou, beet]|  [bouken, ou, beet]|[it, is, the, dar...|\n",
      "|      15|        Eyeshield 21|              Sports|Shy, reserved, an...|          Gallop|     [eyeshield, 21]|     [eyeshield, 21]|[shy, reserved, a...|\n",
      "|      16|Hachimitsu to Clover|Comedy, Drama, Ro...|Yuuta Takemoto, a...|       J.C.Staff|[hachimitsu, to, ...|[hachimitsu, clover]|[yuuta, takemoto,...|\n",
      "|      17|Hungry Heart: Wil...|Comedy, Slice of ...|As the younger br...|Nippon Animation|[hungry, heart, w...|[hungry, heart, w...|[as, the, younger...|\n",
      "|      18|Initial D Fourth ...|       Action, Drama|Takumi Fujiwara f...|        A.C.G.T.|[initial, d, four...|[initial, d, four...|[takumi, fujiwara...|\n",
      "|      19|             Monster|Drama, Mystery, S...|Dr. Kenzou Tenma,...|        Madhouse|           [monster]|           [monster]|[dr, kenzou, tenm...|\n",
      "+--------+--------------------+--------------------+--------------------+----------------+--------------------+--------------------+--------------------+\n",
      "only showing top 10 rows\n",
      "\n"
     ]
    }
   ],
   "source": [
    "df_anime_reduced.show(10)"
   ]
  },
  {
   "cell_type": "code",
   "execution_count": 14,
   "metadata": {},
   "outputs": [],
   "source": [
    "# Remove (English) stopwords\n",
    "remover = StopWordsRemover(inputCol=\"Synopsis_tokens\", outputCol=\"Synopsis_tokens_removed\")\n",
    "remover.loadDefaultStopWords('english')\n",
    "df_anime_reduced = remover.transform(df_anime_reduced)"
   ]
  },
  {
   "cell_type": "code",
   "execution_count": 25,
   "metadata": {},
   "outputs": [
    {
     "name": "stdout",
     "output_type": "stream",
     "text": [
      "+--------+--------------------+--------------------+--------------------+----------------+--------------------+--------------------+--------------------+-----------------------+\n",
      "|anime_id|                Name|              Genres|            Synopsis|         Studios|         Name_tokens| Name_tokens_removed|     Synopsis_tokens|Synopsis_tokens_removed|\n",
      "+--------+--------------------+--------------------+--------------------+----------------+--------------------+--------------------+--------------------+-----------------------+\n",
      "|       1|        Cowboy Bebop|Action, Award Win...|Crime is timeless...|         Sunrise|     [cowboy, bebop]|     [cowboy, bebop]|[crime, is, timel...|   [crime, timeless,...|\n",
      "|       5|Cowboy Bebop: Ten...|      Action, Sci-Fi|Another day, anot...|           Bones|[cowboy, bebop, t...|[cowboy, bebop, t...|[another, day, an...|   [another, day, an...|\n",
      "|       6|              Trigun|Action, Adventure...|Vash the Stampede...|        Madhouse|            [trigun]|            [trigun]|[vash, the, stamp...|   [vash, stampede, ...|\n",
      "|       7|  Witch Hunter Robin|Action, Drama, My...|Robin Sena is a p...|         Sunrise|[witch, hunter, r...|[witch, hunter, r...|[robin, sena, is,...|   [robin, sena, pow...|\n",
      "|       8|      Bouken Ou Beet|Adventure, Fantas...|It is the dark ce...|  Toei Animation|  [bouken, ou, beet]|  [bouken, ou, beet]|[it, is, the, dar...|   [dark, century, p...|\n",
      "|      15|        Eyeshield 21|              Sports|Shy, reserved, an...|          Gallop|     [eyeshield, 21]|     [eyeshield, 21]|[shy, reserved, a...|   [shy, reserved, s...|\n",
      "|      16|Hachimitsu to Clover|Comedy, Drama, Ro...|Yuuta Takemoto, a...|       J.C.Staff|[hachimitsu, to, ...|[hachimitsu, clover]|[yuuta, takemoto,...|   [yuuta, takemoto,...|\n",
      "|      17|Hungry Heart: Wil...|Comedy, Slice of ...|As the younger br...|Nippon Animation|[hungry, heart, w...|[hungry, heart, w...|[as, the, younger...|   [younger, brother...|\n",
      "|      18|Initial D Fourth ...|       Action, Drama|Takumi Fujiwara f...|        A.C.G.T.|[initial, d, four...|[initial, d, four...|[takumi, fujiwara...|   [takumi, fujiwara...|\n",
      "|      19|             Monster|Drama, Mystery, S...|Dr. Kenzou Tenma,...|        Madhouse|           [monster]|           [monster]|[dr, kenzou, tenm...|   [dr, kenzou, tenm...|\n",
      "+--------+--------------------+--------------------+--------------------+----------------+--------------------+--------------------+--------------------+-----------------------+\n",
      "only showing top 10 rows\n",
      "\n"
     ]
    }
   ],
   "source": [
    "df_anime_reduced.show(10)"
   ]
  },
  {
   "cell_type": "code",
   "execution_count": 15,
   "metadata": {},
   "outputs": [],
   "source": [
    "# Apply stemmming of NLTK to remove stems and convert words in tokens to original form (e.g: tries --> try)\n",
    "\n",
    "from nltk.stem import PorterStemmer\n",
    "from nltk.tokenize import sent_tokenize, word_tokenize\n",
    "\n",
    "# Apply stemming with NLTK\n",
    "# Built-in class from NLTK\n",
    "ps = PorterStemmer()\n",
    "# udf to apply stemming\n",
    "stemming = f.udf(lambda x: [ps.stem(item) for item in x], ArrayType(StringType()))\n",
    "# apply udf to tokens\n",
    "df_anime_reduced = df_anime_reduced.withColumn('Synopsis_tokens_stemmed', stemming(f.col('Synopsis_tokens_removed')))"
   ]
  },
  {
   "cell_type": "code",
   "execution_count": 16,
   "metadata": {},
   "outputs": [],
   "source": [
    "df_anime_reduced = df_anime_reduced.select('anime_id', 'Name', 'Genres', 'Name_tokens_removed', 'Studios', 'Synopsis_tokens_stemmed')"
   ]
  },
  {
   "cell_type": "code",
   "execution_count": 31,
   "metadata": {},
   "outputs": [
    {
     "name": "stdout",
     "output_type": "stream",
     "text": [
      "+------------------------------------+----------------+\n",
      "|Genres                              |Studios         |\n",
      "+------------------------------------+----------------+\n",
      "|Action, Award Winning, Sci-Fi       |Sunrise         |\n",
      "|Action, Sci-Fi                      |Bones           |\n",
      "|Action, Adventure, Sci-Fi           |Madhouse        |\n",
      "|Action, Drama, Mystery, Supernatural|Sunrise         |\n",
      "|Adventure, Fantasy, Supernatural    |Toei Animation  |\n",
      "|Sports                              |Gallop          |\n",
      "|Comedy, Drama, Romance              |J.C.Staff       |\n",
      "|Comedy, Slice of Life, Sports       |Nippon Animation|\n",
      "|Action, Drama                       |A.C.G.T.        |\n",
      "|Drama, Mystery, Suspense            |Madhouse        |\n",
      "+------------------------------------+----------------+\n",
      "only showing top 10 rows\n",
      "\n"
     ]
    }
   ],
   "source": [
    "df_anime_reduced.select(\"Genres\", \"Studios\").show(10, truncate=False)"
   ]
  },
  {
   "cell_type": "markdown",
   "metadata": {},
   "source": [
    "### Preprocessing Genres"
   ]
  },
  {
   "cell_type": "code",
   "execution_count": 17,
   "metadata": {},
   "outputs": [
    {
     "name": "stdout",
     "output_type": "stream",
     "text": [
      "+--------------------+\n",
      "|              Genres|\n",
      "+--------------------+\n",
      "|[action, award wi...|\n",
      "|    [action, sci-fi]|\n",
      "|[action, adventur...|\n",
      "|[action, drama, m...|\n",
      "|[adventure, fanta...|\n",
      "+--------------------+\n",
      "only showing top 5 rows\n",
      "\n"
     ]
    }
   ],
   "source": [
    "# Lowercase Genres\n",
    "df_anime_reduced = df_anime_reduced.withColumn(\"Genres\", f.lower(f.col(\"Genres\")))\n",
    "\n",
    "# Convert Genres from string to list of genres\n",
    "df_anime_reduced = df_anime_reduced.withColumn(\"Genres\", f.split(f.col('Genres'), ', ').cast(ArrayType(StringType())))\n",
    "\n",
    "df_anime_reduced.select(\"Genres\").show(5)"
   ]
  },
  {
   "cell_type": "markdown",
   "metadata": {},
   "source": [
    "### Preprocessing Animes' Studios"
   ]
  },
  {
   "cell_type": "code",
   "execution_count": 26,
   "metadata": {},
   "outputs": [
    {
     "name": "stdout",
     "output_type": "stream",
     "text": [
      "+--------+--------------------+--------------------+--------------------+--------------------+-----------------------+\n",
      "|anime_id|                Name|              Genres| Name_tokens_removed|             Studios|Synopsis_tokens_stemmed|\n",
      "+--------+--------------------+--------------------+--------------------+--------------------+-----------------------+\n",
      "|      30|Neon Genesis Evan...|[action, avant ga...|[neon, genesis, e...|Gainax, Tatsunoko...|   [fifteen, year, c...|\n",
      "|      31|Neon Genesis Evan...|     [drama, sci-fi]|[neon, genesis, e...|Gainax, Productio...|   [year, 2015, deca...|\n",
      "|      32|Neon Genesis Evan...|[avant garde, dra...|[neon, genesis, e...|Gainax, Productio...|   [shinji, ikari, l...|\n",
      "|      45|Rurouni Kenshin: ...|[action, adventur...|[rurouni, kenshin...| Gallop, Studio Deen|   [final, year, bak...|\n",
      "|      62|       D.C.: Da Capo|    [drama, romance]|    [d, c, da, capo]|        feel., Zexcs|   [hatsunejima, abo...|\n",
      "|     112|Chou Henshin Cosp...|[action, adventur...|[chou, henshin, c...| Imagin, Studio Live|   [koto, unknowingl...|\n",
      "|     119|      Final Approach|[comedy, drama, r...|   [final, approach]|Trinet Entertainm...|   [ever, sinc, pare...|\n",
      "|     126| Futakoi Alternative|[comedy, drama, r...|[futakoi, alterna...|ufotable, feel., ...|   [futaba, detect, ...|\n",
      "|     145|Kareshi Kanojo no...|[comedy, drama, r...|[kareshi, kanojo,...|   Gainax, J.C.Staff|   [yukino, miyazawa...|\n",
      "|     146|Kono Minikuku mo ...|[comedy, drama, r...|[kono, minikuku, ...|       Gainax, Shaft|   [high, school, st...|\n",
      "|     151|     Re: Cutey Honey|[action, comedy, ...|  [re, cutey, honey]|Gainax, Toei Anim...|   [last, word, spok...|\n",
      "|     152|           Solty Rei|    [action, sci-fi]|        [solty, rei]|          Gonzo, AIC|   [futurebas, disas...|\n",
      "|     159|Boukyaku no Senritsu|[adventure, fanta...|[boukyaku, senritsu]|   Gainax, J.C.Staff|   [great, war, occu...|\n",
      "|     185|Initial D First S...|     [action, drama]|[initial, d, firs...|Gallop, Studio Comet|   [unlik, friend, t...|\n",
      "|     197|           Rizelmine|[comedy, romance,...|         [rizelmine]|    Madhouse, Imagin|   [iwaki, tomonori,...|\n",
      "|     227|                FLCL|[action, avant ga...|              [flcl]|Gainax, Productio...|   [naota, nandaba, ...|\n",
      "|     231|     Asagiri no Miko|[action, comedy, ...|     [asagiri, miko]|Chaos Project, GA...|   [sinc, childhood,...|\n",
      "|     259|        Happy☆Lesson|   [comedy, romance]|     [happy, lesson]|Studio Kyuuma, Ve...|   [one, guy, five, ...|\n",
      "|     275|          Love♥Love?|[comedy, romance,...|        [love, love]| Imagin, Studio Live|   [naoto, ooizumi, ...|\n",
      "|     276|Mahoromatic: Auto...|[comedy, romance,...|[mahoromatic, aut...|       Gainax, Shaft|   [mahoro, andou, p...|\n",
      "+--------+--------------------+--------------------+--------------------+--------------------+-----------------------+\n",
      "only showing top 20 rows\n",
      "\n"
     ]
    }
   ],
   "source": [
    "# Check if animes produced by multiple studios exist\n",
    "df_anime_reduced.filter(df_anime_reduced.Studios.contains(',')).show()"
   ]
  },
  {
   "cell_type": "code",
   "execution_count": 18,
   "metadata": {},
   "outputs": [
    {
     "name": "stdout",
     "output_type": "stream",
     "text": [
      "+----------------+\n",
      "|         Studios|\n",
      "+----------------+\n",
      "|       [sunrise]|\n",
      "|         [bones]|\n",
      "|      [madhouse]|\n",
      "|       [sunrise]|\n",
      "|[toei animation]|\n",
      "+----------------+\n",
      "only showing top 5 rows\n",
      "\n"
     ]
    }
   ],
   "source": [
    "# Lowercase Studios\n",
    "df_anime_reduced = df_anime_reduced.withColumn('Studios', f.lower(f.col('Studios')))\n",
    "\n",
    "# Convert Studios from string to list of studios\n",
    "df_anime_reduced = df_anime_reduced.withColumn(\"Studios\", f.split(f.col('Studios'), ', ').cast(ArrayType(StringType())))\n",
    "\n",
    "df_anime_reduced.select(\"Studios\").show(5)"
   ]
  },
  {
   "cell_type": "code",
   "execution_count": 19,
   "metadata": {},
   "outputs": [
    {
     "name": "stderr",
     "output_type": "stream",
     "text": [
      "[Stage 4:>                                                          (0 + 1) / 1]\r"
     ]
    },
    {
     "name": "stdout",
     "output_type": "stream",
     "text": [
      "+--------+--------------------+--------------------+---------------------+--------------------+\n",
      "|anime_id|   preprocessed_name| preprocessed_genres|preprocessed_synopsis|preprocessed_studios|\n",
      "+--------+--------------------+--------------------+---------------------+--------------------+\n",
      "|       1|     [cowboy, bebop]|[action, award wi...| [crime, timeless,...|           [sunrise]|\n",
      "|       5|[cowboy, bebop, t...|    [action, sci-fi]| [anoth, day, anot...|             [bones]|\n",
      "|       6|            [trigun]|[action, adventur...| [vash, stamped, m...|          [madhouse]|\n",
      "|       7|[witch, hunter, r...|[action, drama, m...| [robin, sena, pow...|           [sunrise]|\n",
      "|       8|  [bouken, ou, beet]|[adventure, fanta...| [dark, centuri, p...|    [toei animation]|\n",
      "+--------+--------------------+--------------------+---------------------+--------------------+\n",
      "only showing top 5 rows\n",
      "\n"
     ]
    },
    {
     "name": "stderr",
     "output_type": "stream",
     "text": [
      "                                                                                \r"
     ]
    }
   ],
   "source": [
    "# Select and rename necessary columns\n",
    "df_anime_reduced = df_anime_reduced \\\n",
    "                    .select(\n",
    "                        f.col('anime_id'), \n",
    "                        f.col('Name_tokens_removed').alias('preprocessed_name'),\n",
    "                        f.col('Genres').alias('preprocessed_genres'),\n",
    "                        f.col('Synopsis_tokens_stemmed').alias('preprocessed_synopsis'),\n",
    "                        f.col('Studios').alias('preprocessed_studios')\n",
    "                    )\n",
    "\n",
    "df_anime_reduced.show(5)"
   ]
  },
  {
   "cell_type": "markdown",
   "metadata": {},
   "source": [
    "## TF-IDF & Cosine Similarity"
   ]
  },
  {
   "cell_type": "markdown",
   "metadata": {},
   "source": [
    "### TF-IDF"
   ]
  },
  {
   "cell_type": "code",
   "execution_count": 20,
   "metadata": {},
   "outputs": [],
   "source": [
    "# featurize data with tf-idf\n",
    "def featurizeDataWithTFIDF(input_df: pd.DataFrame, input_col: str, output_col: str):\n",
    "    raw_output_col = \"raw_\" + output_col\n",
    "\n",
    "    # hashing tf\n",
    "    hashingTF = HashingTF(inputCol=input_col, outputCol=raw_output_col)\n",
    "    featurized_data_df = hashingTF.transform(input_df)\n",
    "\n",
    "    # idf transform\n",
    "    idf = IDF(inputCol=raw_output_col, outputCol=output_col)\n",
    "    idfModel = idf.fit(featurized_data_df)\n",
    "    rescaled_data_df = idfModel.transform(featurized_data_df)\n",
    "    rescaled_data_df = rescaled_data_df.drop(raw_output_col)\n",
    "\n",
    "    return rescaled_data_df"
   ]
  },
  {
   "cell_type": "code",
   "execution_count": 21,
   "metadata": {},
   "outputs": [
    {
     "name": "stderr",
     "output_type": "stream",
     "text": [
      "24/08/14 00:37:09 WARN DAGScheduler: Broadcasting large task binary with size 4.1 MiB\n",
      "[Stage 6:>                                                          (0 + 1) / 1]\r"
     ]
    },
    {
     "name": "stdout",
     "output_type": "stream",
     "text": [
      "+--------+--------------------+--------------------+---------------------+--------------------+--------------------+\n",
      "|anime_id|   preprocessed_name| preprocessed_genres|preprocessed_synopsis|preprocessed_studios|       name_features|\n",
      "+--------+--------------------+--------------------+---------------------+--------------------+--------------------+\n",
      "|       1|     [cowboy, bebop]|[action, award wi...| [crime, timeless,...|           [sunrise]|(262144,[61669,21...|\n",
      "|       5|[cowboy, bebop, t...|    [action, sci-fi]| [anoth, day, anot...|             [bones]|(262144,[61669,10...|\n",
      "|       6|            [trigun]|[action, adventur...| [vash, stamped, m...|          [madhouse]|(262144,[231180],...|\n",
      "|       7|[witch, hunter, r...|[action, drama, m...| [robin, sena, pow...|           [sunrise]|(262144,[59767,62...|\n",
      "|       8|  [bouken, ou, beet]|[adventure, fanta...| [dark, centuri, p...|    [toei animation]|(262144,[38215,41...|\n",
      "+--------+--------------------+--------------------+---------------------+--------------------+--------------------+\n",
      "only showing top 5 rows\n",
      "\n"
     ]
    },
    {
     "name": "stderr",
     "output_type": "stream",
     "text": [
      "                                                                                \r"
     ]
    }
   ],
   "source": [
    "# apply tf-idf on name\n",
    "df_anime_reduced = featurizeDataWithTFIDF(df_anime_reduced, \"preprocessed_name\", \"name_features\")\n",
    "df_anime_reduced.show(5)"
   ]
  },
  {
   "cell_type": "code",
   "execution_count": 22,
   "metadata": {},
   "outputs": [
    {
     "name": "stderr",
     "output_type": "stream",
     "text": [
      "24/08/14 00:37:13 WARN DAGScheduler: Broadcasting large task binary with size 8.1 MiB\n",
      "[Stage 8:>                                                          (0 + 1) / 1]\r"
     ]
    },
    {
     "name": "stdout",
     "output_type": "stream",
     "text": [
      "+--------+--------------------+--------------------+---------------------+--------------------+--------------------+--------------------+\n",
      "|anime_id|   preprocessed_name| preprocessed_genres|preprocessed_synopsis|preprocessed_studios|       name_features|     genres_features|\n",
      "+--------+--------------------+--------------------+---------------------+--------------------+--------------------+--------------------+\n",
      "|       1|     [cowboy, bebop]|[action, award wi...| [crime, timeless,...|           [sunrise]|(262144,[61669,21...|(262144,[90693,16...|\n",
      "|       5|[cowboy, bebop, t...|    [action, sci-fi]| [anoth, day, anot...|             [bones]|(262144,[61669,10...|(262144,[161038,2...|\n",
      "|       6|            [trigun]|[action, adventur...| [vash, stamped, m...|          [madhouse]|(262144,[231180],...|(262144,[161038,2...|\n",
      "|       7|[witch, hunter, r...|[action, drama, m...| [robin, sena, pow...|           [sunrise]|(262144,[59767,62...|(262144,[6512,685...|\n",
      "|       8|  [bouken, ou, beet]|[adventure, fanta...| [dark, centuri, p...|    [toei animation]|(262144,[38215,41...|(262144,[183324,1...|\n",
      "+--------+--------------------+--------------------+---------------------+--------------------+--------------------+--------------------+\n",
      "only showing top 5 rows\n",
      "\n"
     ]
    },
    {
     "name": "stderr",
     "output_type": "stream",
     "text": [
      "                                                                                \r"
     ]
    }
   ],
   "source": [
    "# apply tf-idf on genres\n",
    "df_anime_reduced = featurizeDataWithTFIDF(df_anime_reduced, \"preprocessed_genres\", \"genres_features\")\n",
    "df_anime_reduced.show(5)"
   ]
  },
  {
   "cell_type": "code",
   "execution_count": 23,
   "metadata": {},
   "outputs": [
    {
     "name": "stderr",
     "output_type": "stream",
     "text": [
      "24/08/14 00:37:25 WARN DAGScheduler: Broadcasting large task binary with size 12.1 MiB\n"
     ]
    },
    {
     "name": "stdout",
     "output_type": "stream",
     "text": [
      "+--------+--------------------+--------------------+---------------------+--------------------+--------------------+--------------------+--------------------+\n",
      "|anime_id|   preprocessed_name| preprocessed_genres|preprocessed_synopsis|preprocessed_studios|       name_features|     genres_features|   synopsis_features|\n",
      "+--------+--------------------+--------------------+---------------------+--------------------+--------------------+--------------------+--------------------+\n",
      "|       1|     [cowboy, bebop]|[action, award wi...| [crime, timeless,...|           [sunrise]|(262144,[61669,21...|(262144,[90693,16...|(262144,[1218,720...|\n",
      "|       5|[cowboy, bebop, t...|    [action, sci-fi]| [anoth, day, anot...|             [bones]|(262144,[61669,10...|(262144,[161038,2...|(262144,[17891,20...|\n",
      "|       6|            [trigun]|[action, adventur...| [vash, stamped, m...|          [madhouse]|(262144,[231180],...|(262144,[161038,2...|(262144,[10809,11...|\n",
      "|       7|[witch, hunter, r...|[action, drama, m...| [robin, sena, pow...|           [sunrise]|(262144,[59767,62...|(262144,[6512,685...|(262144,[5674,594...|\n",
      "|       8|  [bouken, ou, beet]|[adventure, fanta...| [dark, centuri, p...|    [toei animation]|(262144,[38215,41...|(262144,[183324,1...|(262144,[9129,114...|\n",
      "+--------+--------------------+--------------------+---------------------+--------------------+--------------------+--------------------+--------------------+\n",
      "only showing top 5 rows\n",
      "\n"
     ]
    }
   ],
   "source": [
    "# apply tf-idf on synopsis\n",
    "df_anime_reduced = featurizeDataWithTFIDF(df_anime_reduced, \"preprocessed_synopsis\", \"synopsis_features\")\n",
    "df_anime_reduced.show(5)"
   ]
  },
  {
   "cell_type": "code",
   "execution_count": 24,
   "metadata": {},
   "outputs": [
    {
     "name": "stderr",
     "output_type": "stream",
     "text": [
      "24/08/14 00:37:28 WARN DAGScheduler: Broadcasting large task binary with size 16.1 MiB\n",
      "[Stage 12:>                                                         (0 + 1) / 1]\r"
     ]
    },
    {
     "name": "stdout",
     "output_type": "stream",
     "text": [
      "+--------+--------------------+--------------------+---------------------+--------------------+--------------------+--------------------+--------------------+--------------------+\n",
      "|anime_id|   preprocessed_name| preprocessed_genres|preprocessed_synopsis|preprocessed_studios|       name_features|     genres_features|   synopsis_features|    studios_features|\n",
      "+--------+--------------------+--------------------+---------------------+--------------------+--------------------+--------------------+--------------------+--------------------+\n",
      "|       1|     [cowboy, bebop]|[action, award wi...| [crime, timeless,...|           [sunrise]|(262144,[61669,21...|(262144,[90693,16...|(262144,[1218,720...|(262144,[13445],[...|\n",
      "|       5|[cowboy, bebop, t...|    [action, sci-fi]| [anoth, day, anot...|             [bones]|(262144,[61669,10...|(262144,[161038,2...|(262144,[17891,20...|(262144,[41817],[...|\n",
      "|       6|            [trigun]|[action, adventur...| [vash, stamped, m...|          [madhouse]|(262144,[231180],...|(262144,[161038,2...|(262144,[10809,11...|(262144,[250632],...|\n",
      "|       7|[witch, hunter, r...|[action, drama, m...| [robin, sena, pow...|           [sunrise]|(262144,[59767,62...|(262144,[6512,685...|(262144,[5674,594...|(262144,[13445],[...|\n",
      "|       8|  [bouken, ou, beet]|[adventure, fanta...| [dark, centuri, p...|    [toei animation]|(262144,[38215,41...|(262144,[183324,1...|(262144,[9129,114...|(262144,[98507],[...|\n",
      "+--------+--------------------+--------------------+---------------------+--------------------+--------------------+--------------------+--------------------+--------------------+\n",
      "only showing top 5 rows\n",
      "\n"
     ]
    },
    {
     "name": "stderr",
     "output_type": "stream",
     "text": [
      "                                                                                \r"
     ]
    }
   ],
   "source": [
    "# apply tf-idf on studios\n",
    "df_anime_reduced = featurizeDataWithTFIDF(df_anime_reduced, \"preprocessed_studios\", \"studios_features\")\n",
    "df_anime_reduced.show(5)"
   ]
  },
  {
   "cell_type": "code",
   "execution_count": null,
   "metadata": {},
   "outputs": [],
   "source": [
    "# apply tf-idf on name\n",
    "df_anime_reduced = featurizeDataWithTFIDF(df_anime_reduced, \"preprocessed_name\", \"name_features\")\n",
    "# apply tf-idf on genres\n",
    "df_anime_reduced = featurizeDataWithTFIDF(df_anime_reduced, \"preprocessed_genres\", \"genres_features\")\n",
    "# apply tf-idf on synopsis\n",
    "df_anime_reduced = featurizeDataWithTFIDF(df_anime_reduced, \"preprocessed_synopsis\", \"synopsis_features\")\n",
    "# apply tf-idf on studios\n",
    "df_anime_reduced = featurizeDataWithTFIDF(df_anime_reduced, \"preprocessed_studios\", \"studios_features\")"
   ]
  },
  {
   "cell_type": "code",
   "execution_count": 41,
   "metadata": {},
   "outputs": [
    {
     "name": "stderr",
     "output_type": "stream",
     "text": [
      "24/08/13 23:54:23 WARN DAGScheduler: Broadcasting large task binary with size 16.1 MiB\n"
     ]
    },
    {
     "name": "stdout",
     "output_type": "stream",
     "text": [
      "+--------------------+--------------------+--------------------+--------------------+\n",
      "|       name_features|     genres_features|   synopsis_features|    studios_features|\n",
      "+--------------------+--------------------+--------------------+--------------------+\n",
      "|(262144,[61669,21...|(262144,[90693,16...|(262144,[1218,720...|(262144,[13445],[...|\n",
      "|(262144,[61669,10...|(262144,[161038,2...|(262144,[17891,20...|(262144,[41817],[...|\n",
      "|(262144,[231180],...|(262144,[161038,2...|(262144,[10809,11...|(262144,[250632],...|\n",
      "|(262144,[59767,62...|(262144,[6512,685...|(262144,[5674,594...|(262144,[13445],[...|\n",
      "|(262144,[38215,41...|(262144,[183324,1...|(262144,[9129,114...|(262144,[98507],[...|\n",
      "+--------------------+--------------------+--------------------+--------------------+\n",
      "only showing top 5 rows\n",
      "\n"
     ]
    }
   ],
   "source": [
    "df_anime_reduced.select('name_features', 'genres_features', 'synopsis_features', 'studios_features').show(5)"
   ]
  },
  {
   "cell_type": "markdown",
   "metadata": {},
   "source": [
    "### Consine Similarity"
   ]
  },
  {
   "cell_type": "code",
   "execution_count": 25,
   "metadata": {},
   "outputs": [],
   "source": [
    "# Consine Similarity Function\n",
    "\n",
    "import numpy as np \n",
    "\n",
    "def cos_sim(u, v):\n",
    "    return float(u.dot(v) / (u.norm(2) * v.norm(2)))\n",
    "\n",
    "compute_sim = f.udf(cos_sim, FloatType())"
   ]
  },
  {
   "cell_type": "code",
   "execution_count": 26,
   "metadata": {},
   "outputs": [
    {
     "name": "stderr",
     "output_type": "stream",
     "text": [
      "24/08/14 00:37:36 WARN DAGScheduler: Broadcasting large task binary with size 16.1 MiB\n"
     ]
    },
    {
     "name": "stdout",
     "output_type": "stream",
     "text": [
      "+--------+--------------------+--------------------+--------------------+--------------------+\n",
      "|anime_id|       name_features|     genres_features|   synopsis_features|    studios_features|\n",
      "+--------+--------------------+--------------------+--------------------+--------------------+\n",
      "|       1|(262144,[61669,21...|(262144,[90693,16...|(262144,[1218,720...|(262144,[13445],[...|\n",
      "|       5|(262144,[61669,10...|(262144,[161038,2...|(262144,[17891,20...|(262144,[41817],[...|\n",
      "|       6|(262144,[231180],...|(262144,[161038,2...|(262144,[10809,11...|(262144,[250632],...|\n",
      "|       7|(262144,[59767,62...|(262144,[6512,685...|(262144,[5674,594...|(262144,[13445],[...|\n",
      "|       8|(262144,[38215,41...|(262144,[183324,1...|(262144,[9129,114...|(262144,[98507],[...|\n",
      "+--------+--------------------+--------------------+--------------------+--------------------+\n",
      "only showing top 5 rows\n",
      "\n"
     ]
    },
    {
     "name": "stderr",
     "output_type": "stream",
     "text": [
      "                                                                                \r"
     ]
    }
   ],
   "source": [
    "df_anime_reduced = df_anime_reduced.select('anime_id', 'name_features', 'genres_features', 'synopsis_features', 'studios_features')\n",
    "df_anime_reduced.show(5)"
   ]
  },
  {
   "cell_type": "code",
   "execution_count": 27,
   "metadata": {},
   "outputs": [
    {
     "name": "stderr",
     "output_type": "stream",
     "text": [
      "24/08/14 00:37:39 WARN DAGScheduler: Broadcasting large task binary with size 16.1 MiB\n",
      "24/08/14 00:37:40 WARN DAGScheduler: Broadcasting large task binary with size 16.1 MiB\n"
     ]
    },
    {
     "name": "stdout",
     "output_type": "stream",
     "text": [
      "+--------+--------------------+--------------------+--------------------+--------------------+----------+--------------------+--------------------+--------------------+--------------------+\n",
      "|anime_id|       name_features|     genres_features|   synopsis_features|    studios_features|anime_id_2|      name_features2|    genres_features2|  synopsis_features2|   studios_features2|\n",
      "+--------+--------------------+--------------------+--------------------+--------------------+----------+--------------------+--------------------+--------------------+--------------------+\n",
      "|       1|(262144,[61669,21...|(262144,[90693,16...|(262144,[1218,720...|(262144,[13445],[...|         1|(262144,[61669,21...|(262144,[90693,16...|(262144,[1218,720...|(262144,[13445],[...|\n",
      "|       1|(262144,[61669,21...|(262144,[90693,16...|(262144,[1218,720...|(262144,[13445],[...|         5|(262144,[61669,10...|(262144,[161038,2...|(262144,[17891,20...|(262144,[41817],[...|\n",
      "|       1|(262144,[61669,21...|(262144,[90693,16...|(262144,[1218,720...|(262144,[13445],[...|         6|(262144,[231180],...|(262144,[161038,2...|(262144,[10809,11...|(262144,[250632],...|\n",
      "|       1|(262144,[61669,21...|(262144,[90693,16...|(262144,[1218,720...|(262144,[13445],[...|         7|(262144,[59767,62...|(262144,[6512,685...|(262144,[5674,594...|(262144,[13445],[...|\n",
      "|       1|(262144,[61669,21...|(262144,[90693,16...|(262144,[1218,720...|(262144,[13445],[...|         8|(262144,[38215,41...|(262144,[183324,1...|(262144,[9129,114...|(262144,[98507],[...|\n",
      "+--------+--------------------+--------------------+--------------------+--------------------+----------+--------------------+--------------------+--------------------+--------------------+\n",
      "only showing top 5 rows\n",
      "\n"
     ]
    },
    {
     "name": "stderr",
     "output_type": "stream",
     "text": [
      "                                                                                \r"
     ]
    }
   ],
   "source": [
    "# cross join to create decartes product --> list of pairs of animes\n",
    "df_anime_joined = df_anime_reduced.crossJoin(\n",
    "                    df_anime_reduced \\\n",
    "                        .withColumnRenamed('anime_id', 'anime_id_2')\n",
    "                        .withColumnRenamed('name_features', 'name_features2')\n",
    "                        .withColumnRenamed('genres_features', 'genres_features2')\n",
    "                        .withColumnRenamed('synopsis_features', 'synopsis_features2')\n",
    "                        .withColumnRenamed('studios_features', 'studios_features2')\n",
    "                )\n",
    "\n",
    "df_anime_joined.show(5)"
   ]
  },
  {
   "cell_type": "code",
   "execution_count": 28,
   "metadata": {},
   "outputs": [
    {
     "name": "stdout",
     "output_type": "stream",
     "text": [
      "Before remove:  141610000  pairs\n"
     ]
    },
    {
     "name": "stderr",
     "output_type": "stream",
     "text": [
      "[Stage 21:>                                                         (0 + 1) / 1]\r"
     ]
    },
    {
     "name": "stdout",
     "output_type": "stream",
     "text": [
      "After remove:  70799050  pairs\n"
     ]
    },
    {
     "name": "stderr",
     "output_type": "stream",
     "text": [
      "                                                                                \r"
     ]
    }
   ],
   "source": [
    "# remove pairs that have same animes\n",
    "print(\"Before remove: \", df_anime_joined.count(), \" pairs\")\n",
    "df_anime_joined = df_anime_joined \\\n",
    "                    .filter(df_anime_joined.anime_id != df_anime_joined.anime_id_2) \\\n",
    "                    .filter(df_anime_joined.anime_id < df_anime_joined.anime_id_2)\n",
    "print(\"After remove: \", df_anime_joined.count(), \" pairs\")"
   ]
  },
  {
   "cell_type": "code",
   "execution_count": 29,
   "metadata": {},
   "outputs": [
    {
     "name": "stderr",
     "output_type": "stream",
     "text": [
      "24/08/14 00:37:51 WARN DAGScheduler: Broadcasting large task binary with size 16.1 MiB\n",
      "24/08/14 00:38:01 WARN DAGScheduler: Broadcasting large task binary with size 16.2 MiB\n",
      "[Stage 25:>                                                         (0 + 1) / 1]\r"
     ]
    },
    {
     "name": "stdout",
     "output_type": "stream",
     "text": [
      "+------------+--------------+----------------+---------------+\n",
      "|name_cos_sim|genres_cos_sim|synopsis_cos_sim|studios_cos_sim|\n",
      "+------------+--------------+----------------+---------------+\n",
      "|   0.7017934|    0.41932264|      0.28034365|            0.0|\n",
      "|         0.0|     0.3329548|     0.023258194|            0.0|\n",
      "|         0.0|    0.06463374|     0.033542246|            1.0|\n",
      "|         0.0|           0.0|     0.007451746|            0.0|\n",
      "|         0.0|           0.0|     0.020076532|            0.0|\n",
      "+------------+--------------+----------------+---------------+\n",
      "only showing top 5 rows\n",
      "\n"
     ]
    },
    {
     "name": "stderr",
     "output_type": "stream",
     "text": [
      "                                                                                \r"
     ]
    }
   ],
   "source": [
    "# Compute cosine similarity on each features\n",
    "computed_df = df_anime_joined \\\n",
    "                .withColumn('name_cos_sim', compute_sim(f.col('name_features'), f.col('name_features2'))) \\\n",
    "                .withColumn('genres_cos_sim', compute_sim(f.col('genres_features'), f.col('genres_features2'))) \\\n",
    "                .withColumn('synopsis_cos_sim', compute_sim(f.col('synopsis_features'), f.col('synopsis_features2'))) \\\n",
    "                .withColumn('studios_cos_sim', compute_sim(f.col('studios_features'), f.col('studios_features2')))\n",
    "\n",
    "computed_df.select('name_cos_sim', 'genres_cos_sim', 'synopsis_cos_sim', 'studios_cos_sim').show(5)"
   ]
  },
  {
   "cell_type": "code",
   "execution_count": 48,
   "metadata": {},
   "outputs": [
    {
     "name": "stderr",
     "output_type": "stream",
     "text": [
      "24/08/14 00:18:06 WARN DAGScheduler: Broadcasting large task binary with size 16.1 MiB\n",
      "24/08/14 00:18:16 WARN DAGScheduler: Broadcasting large task binary with size 16.2 MiB\n",
      "[Stage 42:>                                                         (0 + 1) / 1]\r"
     ]
    },
    {
     "name": "stdout",
     "output_type": "stream",
     "text": [
      "+--------+--------------------+--------------------+--------------------+--------------------+----------+--------------------+--------------------+--------------------+--------------------+------------+--------------+----------------+---------------+\n",
      "|anime_id|       name_features|     genres_features|   synopsis_features|    studios_features|anime_id_2|      name_features2|    genres_features2|  synopsis_features2|   studios_features2|name_cos_sim|genres_cos_sim|synopsis_cos_sim|studios_cos_sim|\n",
      "+--------+--------------------+--------------------+--------------------+--------------------+----------+--------------------+--------------------+--------------------+--------------------+------------+--------------+----------------+---------------+\n",
      "|       1|(262144,[61669,21...|(262144,[90693,16...|(262144,[1218,720...|(262144,[13445],[...|         5|(262144,[61669,10...|(262144,[161038,2...|(262144,[17891,20...|(262144,[41817],[...|   0.7017934|    0.41932264|      0.28034365|            0.0|\n",
      "|       1|(262144,[61669,21...|(262144,[90693,16...|(262144,[1218,720...|(262144,[13445],[...|         6|(262144,[231180],...|(262144,[161038,2...|(262144,[10809,11...|(262144,[250632],...|         0.0|     0.3329548|     0.023258194|            0.0|\n",
      "|       1|(262144,[61669,21...|(262144,[90693,16...|(262144,[1218,720...|(262144,[13445],[...|         7|(262144,[59767,62...|(262144,[6512,685...|(262144,[5674,594...|(262144,[13445],[...|         0.0|    0.06463374|     0.033542246|            1.0|\n",
      "|       1|(262144,[61669,21...|(262144,[90693,16...|(262144,[1218,720...|(262144,[13445],[...|         8|(262144,[38215,41...|(262144,[183324,1...|(262144,[9129,114...|(262144,[98507],[...|         0.0|           0.0|     0.007451746|            0.0|\n",
      "|       1|(262144,[61669,21...|(262144,[90693,16...|(262144,[1218,720...|(262144,[13445],[...|        15|(262144,[87466,25...|(262144,[76489],[...|(262144,[1523,179...|(262144,[197910],...|         0.0|           0.0|     0.020076532|            0.0|\n",
      "+--------+--------------------+--------------------+--------------------+--------------------+----------+--------------------+--------------------+--------------------+--------------------+------------+--------------+----------------+---------------+\n",
      "only showing top 5 rows\n",
      "\n"
     ]
    },
    {
     "name": "stderr",
     "output_type": "stream",
     "text": [
      "                                                                                \r"
     ]
    }
   ],
   "source": [
    "computed_df.show(5)"
   ]
  },
  {
   "cell_type": "code",
   "execution_count": 30,
   "metadata": {},
   "outputs": [],
   "source": [
    "computed_df = computed_df.fillna({\n",
    "    'name_cos_sim': 0,\n",
    "    'genres_cos_sim': 0,\n",
    "    'synopsis_cos_sim': 0,\n",
    "    'studios_cos_sim': 0\n",
    "})"
   ]
  },
  {
   "cell_type": "code",
   "execution_count": 31,
   "metadata": {},
   "outputs": [],
   "source": [
    "# Compute final cos_sim from cos_sim components\n",
    "def computeFinalCosineSimilarity(name, genres, synopsis, studios):\n",
    "    return name + genres + synopsis + 0.05*studios\n",
    "\n",
    "computeFinalSim = f.udf(computeFinalCosineSimilarity, FloatType())"
   ]
  },
  {
   "cell_type": "code",
   "execution_count": 32,
   "metadata": {},
   "outputs": [
    {
     "name": "stderr",
     "output_type": "stream",
     "text": [
      "24/08/14 00:38:11 WARN DAGScheduler: Broadcasting large task binary with size 16.1 MiB\n",
      "24/08/14 00:38:20 WARN DAGScheduler: Broadcasting large task binary with size 16.2 MiB\n",
      "[Stage 27:>                                                         (0 + 1) / 1]\r"
     ]
    },
    {
     "name": "stdout",
     "output_type": "stream",
     "text": [
      "+--------+----------+-----------+\n",
      "|anime_id|anime_id_2|    cos_sim|\n",
      "+--------+----------+-----------+\n",
      "|       1|         5|  1.4014597|\n",
      "|       1|         6| 0.35621297|\n",
      "|       1|         7| 0.14817598|\n",
      "|       1|         8|0.007451746|\n",
      "|       1|        15|0.020076532|\n",
      "|       1|        16|        0.0|\n",
      "|       1|        17|0.012350674|\n",
      "|       1|        18| 0.13665321|\n",
      "|       1|        19|0.022622788|\n",
      "|       1|        20| 0.12198547|\n",
      "+--------+----------+-----------+\n",
      "only showing top 10 rows\n",
      "\n"
     ]
    },
    {
     "name": "stderr",
     "output_type": "stream",
     "text": [
      "                                                                                \r"
     ]
    }
   ],
   "source": [
    "computed_df = computed_df.withColumn('cos_sim', computeFinalSim(\n",
    "                                                    f.col('name_cos_sim'), \n",
    "                                                    f.col('genres_cos_sim'), \n",
    "                                                    f.col('synopsis_cos_sim'), \n",
    "                                                    f.col('studios_cos_sim'))\n",
    "                                    )\n",
    "\n",
    "computed_df.select(\"anime_id\", \"anime_id_2\", \"cos_sim\").show(10)"
   ]
  },
  {
   "cell_type": "code",
   "execution_count": null,
   "metadata": {},
   "outputs": [],
   "source": [
    "computed_df = computed_df.filter(computed_df.cos_sim > 0)\n",
    "computed_df.count()"
   ]
  },
  {
   "cell_type": "code",
   "execution_count": 44,
   "metadata": {},
   "outputs": [
    {
     "name": "stderr",
     "output_type": "stream",
     "text": [
      "24/08/08 15:35:59 WARN DAGScheduler: Broadcasting large task binary with size 16.1 MiB\n",
      "[Stage 37:>                 (0 + 1) / 1][Stage 38:>                 (0 + 1) / 1]\r"
     ]
    }
   ],
   "source": [
    "computed_df.show()"
   ]
  },
  {
   "cell_type": "markdown",
   "metadata": {},
   "source": [
    "## Recommendation"
   ]
  },
  {
   "cell_type": "code",
   "execution_count": 51,
   "metadata": {},
   "outputs": [
    {
     "name": "stdout",
     "output_type": "stream",
     "text": [
      "+--------+-----------------------------+-------------+\n",
      "|anime_id|Name                         |English name |\n",
      "+--------+-----------------------------+-------------+\n",
      "|199     |Sen to Chihiro no Kamikakushi|Spirited Away|\n",
      "+--------+-----------------------------+-------------+\n",
      "\n"
     ]
    }
   ],
   "source": [
    "# Find an anime by name\n",
    "df_anime.filter(f.col('Name').contains('Sen to')).select('anime_id', 'Name', 'English name').show(truncate=False)"
   ]
  },
  {
   "cell_type": "code",
   "execution_count": 33,
   "metadata": {},
   "outputs": [
    {
     "name": "stdout",
     "output_type": "stream",
     "text": [
      "Chosen anime: \n",
      "+--------+-----------------------------+-----+--------------------------------------+-------------+------------------------------------------------------------------------------------------------------------------------------------------------------------------------------------------------------------------------------------------------------------------------------------------------------------------------------------------------------------------------------------------------------------------------------------------------------------------------------------------------------------------------------------------------------------------------------------------------------------------------------------------------------------------------------------------------------------------------------------------------------------------------------------------------------------------------------+\n",
      "|anime_id|Name                         |Score|Genres                                |Studios      |Synopsis                                                                                                                                                                                                                                                                                                                                                                                                                                                                                                                                                                                                                                                                                                                                                                                                                      |\n",
      "+--------+-----------------------------+-----+--------------------------------------+-------------+------------------------------------------------------------------------------------------------------------------------------------------------------------------------------------------------------------------------------------------------------------------------------------------------------------------------------------------------------------------------------------------------------------------------------------------------------------------------------------------------------------------------------------------------------------------------------------------------------------------------------------------------------------------------------------------------------------------------------------------------------------------------------------------------------------------------------+\n",
      "|199     |Sen to Chihiro no Kamikakushi|8.78 |Adventure, Award Winning, Supernatural|Studio Ghibli|Stubborn, spoiled, and naïve, 10-year-old Chihiro Ogino is less than pleased when she and her parents discover an abandoned amusement park on the way to their new house. Cautiously venturing inside, she realizes that there is more to this place than meets the eye, as strange things begin to happen once dusk falls. Ghostly apparitions and food that turns her parents into pigs are just the start—Chihiro has unwittingly crossed over into the spirit world. Now trapped, she must summon the courage to live and work amongst spirits, with the help of the enigmatic Haku and the cast of unique characters she meets along the way.\\n\\nVivid and intriguing, Sen to Chihiro no Kamikakushi tells the story of Chihiro's journey through an unfamiliar world as she strives to save her parents and return home.|\n",
      "+--------+-----------------------------+-----+--------------------------------------+-------------+------------------------------------------------------------------------------------------------------------------------------------------------------------------------------------------------------------------------------------------------------------------------------------------------------------------------------------------------------------------------------------------------------------------------------------------------------------------------------------------------------------------------------------------------------------------------------------------------------------------------------------------------------------------------------------------------------------------------------------------------------------------------------------------------------------------------------+\n",
      "\n"
     ]
    }
   ],
   "source": [
    "# Get chosen anime info based on anime id\n",
    "anime_id = 199\n",
    "\n",
    "print(\"Chosen anime: \")\n",
    "chosen_anime = df_anime.filter(df_anime.anime_id == anime_id).select('anime_id', 'Name', 'Score', 'Genres', 'Studios', 'Synopsis')\n",
    "chosen_anime.show(truncate=False)"
   ]
  },
  {
   "cell_type": "code",
   "execution_count": 37,
   "metadata": {},
   "outputs": [
    {
     "name": "stderr",
     "output_type": "stream",
     "text": [
      "24/08/14 00:52:42 WARN DAGScheduler: Broadcasting large task binary with size 16.1 MiB\n",
      "24/08/14 00:52:51 WARN DAGScheduler: Broadcasting large task binary with size 16.2 MiB\n",
      "/tmp/ipykernel_13520/3697640508.py:6: RuntimeWarning: invalid value encountered in scalar divide\n"
     ]
    },
    {
     "name": "stdout",
     "output_type": "stream",
     "text": [
      "+--------+--------------------+--------------------+--------------------+--------------------+----------+--------------------+--------------------+--------------------+--------------------+------------+--------------+----------------+---------------+----------+\n",
      "|anime_id|       name_features|     genres_features|   synopsis_features|    studios_features|anime_id_2|      name_features2|    genres_features2|  synopsis_features2|   studios_features2|name_cos_sim|genres_cos_sim|synopsis_cos_sim|studios_cos_sim|   cos_sim|\n",
      "+--------+--------------------+--------------------+--------------------+--------------------+----------+--------------------+--------------------+--------------------+--------------------+------------+--------------+----------------+---------------+----------+\n",
      "|     199|(262144,[17246,73...|(262144,[90693,18...|(262144,[440,868,...|(262144,[27674],[...|       523|(262144,[40546,22...|(262144,[90693,18...|(262144,[3329,871...|(262144,[27674],[...|         0.0|           1.0|     0.021128297|            1.0| 1.0711282|\n",
      "|     199|(262144,[17246,73...|(262144,[90693,18...|(262144,[440,868,...|(262144,[27674],[...|     34792|(262144,[163479,1...|(262144,[90693,18...|(262144,[1745,786...|(262144,[69330],[...|         0.0|           1.0|     0.005000371|            0.0| 1.0050004|\n",
      "|     199|(262144,[17246,73...|(262144,[90693,18...|(262144,[440,868,...|(262144,[27674],[...|      2154|(262144,[96267,12...|(262144,[90693,18...|(262144,[16004,17...|(262144,[5846],[5...|         0.0|     0.9762637|     0.024504736|            0.0| 1.0007684|\n",
      "|     199|(262144,[17246,73...|(262144,[90693,18...|(262144,[440,868,...|(262144,[27674],[...|     37976|(262144,[29491,19...|(262144,[73288,90...|(262144,[1218,152...|(262144,[175707],...|         0.0|    0.94067353|     0.020578256|            0.0| 0.9612518|\n",
      "|     199|(262144,[17246,73...|(262144,[90693,18...|(262144,[440,868,...|(262144,[27674],[...|     24591|(262144,[16346,61...|(262144,[73288,90...|(262144,[3837,125...|(262144,[172159],...|         0.0|    0.94067353|     0.009689822|            0.0|0.95036334|\n",
      "|     199|(262144,[17246,73...|(262144,[90693,18...|(262144,[440,868,...|(262144,[27674],[...|     10389|(262144,[128925,1...|(262144,[6512,906...|(262144,[1791,137...|(262144,[53207],[...|         0.0|     0.8993326|     0.049400624|            0.0| 0.9487332|\n",
      "|     199|(262144,[17246,73...|(262144,[90693,18...|(262144,[440,868,...|(262144,[27674],[...|      2895|(262144,[71357],[...|(262144,[90693,21...|(262144,[3838,545...|(262144,[27674],[...|         0.0|     0.8869602|     0.009378178|            1.0| 0.9463384|\n",
      "|     199|(262144,[17246,73...|(262144,[90693,18...|(262144,[440,868,...|(262144,[27674],[...|      8487|(262144,[15159],[...|(262144,[90693,18...|(262144,[16877,25...|(262144,[79020],[...|         0.0|    0.93051946|             0.0|            0.0|0.93051946|\n",
      "|     199|(262144,[17246,73...|(262144,[90693,18...|(262144,[440,868,...|(262144,[27674],[...|      7711|(262144,[122502,2...|(262144,[90693,19...|(262144,[1899,786...|(262144,[27674],[...|         0.0|     0.7977945|      0.08240442|            1.0|0.93019897|\n",
      "|     199|(262144,[17246,73...|(262144,[90693,18...|(262144,[440,868,...|(262144,[27674],[...|     37682|(262144,[13271,21...|(262144,[73288,90...|(262144,[3837,105...|(262144,[49559,25...|         0.0|     0.8498566|     0.078922346|            0.0|0.92877895|\n",
      "|     199|(262144,[17246,73...|(262144,[90693,18...|(262144,[440,868,...|(262144,[27674],[...|     32281|(262144,[3386,132...|(262144,[6512,906...|(262144,[3386,994...|(262144,[451],[5....|         0.0|     0.8993326|     0.028231803|            0.0| 0.9275644|\n",
      "|     199|(262144,[17246,73...|(262144,[90693,18...|(262144,[440,868,...|(262144,[27674],[...|     23987|(262144,[11692,17...|(262144,[6512,906...|(262144,[62,1218,...|(262144,[53207],[...|         0.0|     0.8993326|       0.0254578|            0.0| 0.9247904|\n",
      "|     199|(262144,[17246,73...|(262144,[90693,18...|(262144,[440,868,...|(262144,[27674],[...|      2890|(262144,[4530,179...|(262144,[90693,19...|(262144,[892,1968...|(262144,[27674],[...|         0.0|     0.8504572|     0.022625322|            1.0|0.92308253|\n",
      "|     199|(262144,[17246,73...|(262144,[90693,18...|(262144,[440,868,...|(262144,[27674],[...|      1030|(262144,[55973,21...|(262144,[90693],[...|(262144,[3329,576...|(262144,[27674],[...|         0.0|     0.8362202|     0.023753503|            1.0| 0.9099737|\n",
      "|     199|(262144,[17246,73...|(262144,[90693,18...|(262144,[440,868,...|(262144,[27674],[...|     33089|(262144,[10640,13...|(262144,[73288,90...|(262144,[1523,120...|(262144,[95789],[...|         0.0|     0.8366071|      0.07117421|            0.0| 0.9077813|\n",
      "|     164|(262144,[78370,25...|(262144,[90693,19...|(262144,[1968,912...|(262144,[27674],[...|       199|(262144,[17246,73...|(262144,[90693,18...|(262144,[440,868,...|(262144,[27674],[...|         0.0|     0.8270054|     0.017743155|            1.0|0.89474857|\n",
      "|     199|(262144,[17246,73...|(262144,[90693,18...|(262144,[440,868,...|(262144,[27674],[...|     39792|(262144,[3386,132...|(262144,[73288,90...|(262144,[892,3386...|(262144,[69330],[...|         0.0|    0.87128246|     0.022192448|            0.0|0.89347494|\n",
      "|     199|(262144,[17246,73...|(262144,[90693,18...|(262144,[440,868,...|(262144,[27674],[...|     12477|(262144,[242474,2...|(262144,[90693,16...|(262144,[1791,603...|(262144,[15026,18...|         0.0|     0.8354658|     0.044302553|            0.0| 0.8797684|\n",
      "|     199|(262144,[17246,73...|(262144,[90693,18...|(262144,[440,868,...|(262144,[27674],[...|     10408|(262144,[80632,16...|(262144,[6512,906...|(262144,[1791,196...|(262144,[135946],...|         0.0|     0.8416007|     0.028276198|            0.0| 0.8698769|\n",
      "|     199|(262144,[17246,73...|(262144,[90693,18...|(262144,[440,868,...|(262144,[27674],[...|     16664|(262144,[224232,2...|(262144,[90693,19...|(262144,[2701,418...|(262144,[27674],[...|         0.0|     0.7977945|     0.020858977|            1.0| 0.8686535|\n",
      "+--------+--------------------+--------------------+--------------------+--------------------+----------+--------------------+--------------------+--------------------+--------------------+------------+--------------+----------------+---------------+----------+\n",
      "only showing top 20 rows\n",
      "\n"
     ]
    },
    {
     "name": "stderr",
     "output_type": "stream",
     "text": [
      "                                                                                \r"
     ]
    }
   ],
   "source": [
    "# Get raw recommendations\n",
    "recommendation_result = computed_df.filter((computed_df.anime_id == anime_id) | (computed_df.anime_id_2 == anime_id)).orderBy('cos_sim', ascending=False)\n",
    "recommendation_result.show(20)"
   ]
  },
  {
   "cell_type": "code",
   "execution_count": null,
   "metadata": {},
   "outputs": [
    {
     "name": "stderr",
     "output_type": "stream",
     "text": [
      "24/08/08 10:12:41 WARN DAGScheduler: Broadcasting large task binary with size 16.1 MiB\n",
      "24/08/08 10:12:42 WARN DAGScheduler: Broadcasting large task binary with size 16.2 MiB\n",
      "/tmp/ipykernel_15374/3715102397.py:8: RuntimeWarning: invalid value encountered in scalar divide\n"
     ]
    },
    {
     "name": "stdout",
     "output_type": "stream",
     "text": [
      "+----------+----------+\n",
      "|anime_id_2|   cos_sim|\n",
      "+----------+----------+\n",
      "|       523| 1.0711282|\n",
      "|     34792| 1.0050004|\n",
      "|      2154| 1.0007684|\n",
      "|     37976| 0.9612518|\n",
      "|     24591|0.95036334|\n",
      "|     10389| 0.9487332|\n",
      "|      2895| 0.9463384|\n",
      "|      8487|0.93051946|\n",
      "|      7711|0.93019897|\n",
      "|     37682|0.92877895|\n",
      "|     32281| 0.9275644|\n",
      "|     23987| 0.9247904|\n",
      "|      2890|0.92308253|\n",
      "|      1030| 0.9099737|\n",
      "|     33089| 0.9077813|\n",
      "|       164|0.89474857|\n",
      "|     39792|0.89347494|\n",
      "|     12477| 0.8797684|\n",
      "|     10408| 0.8698769|\n",
      "|     16664| 0.8686535|\n",
      "+----------+----------+\n",
      "only showing top 20 rows\n",
      "\n"
     ]
    },
    {
     "name": "stderr",
     "output_type": "stream",
     "text": [
      "                                                                                \r"
     ]
    }
   ],
   "source": [
    "recommendation_result_reduced = recommendation_result.select('anime_id_2', 'cos_sim')\n",
    "recommendation_result_reduced.show()"
   ]
  },
  {
   "cell_type": "code",
   "execution_count": 38,
   "metadata": {},
   "outputs": [
    {
     "name": "stderr",
     "output_type": "stream",
     "text": [
      "24/08/14 00:57:29 WARN DAGScheduler: Broadcasting large task binary with size 16.1 MiB\n",
      "24/08/14 00:57:38 WARN DAGScheduler: Broadcasting large task binary with size 16.2 MiB\n",
      "/tmp/ipykernel_13520/3697640508.py:6: RuntimeWarning: invalid value encountered in scalar divide\n"
     ]
    },
    {
     "name": "stdout",
     "output_type": "stream",
     "text": [
      "+--------+----------+------------------------------------------------+-----+--------------------------------------------------+-------------------------------------+\n",
      "|anime_id|cos_sim   |Name                                            |Score|Genres                                            |Studios                              |\n",
      "+--------+----------+------------------------------------------------+-----+--------------------------------------------------+-------------------------------------+\n",
      "|523     |1.0711282 |Tonari no Totoro                                |8.25 |Adventure, Award Winning, Supernatural            |Studio Ghibli                        |\n",
      "|34792   |1.0050004 |Yoake Tsugeru Lu no Uta                         |7.39 |Adventure, Award Winning, Supernatural            |Science SARU                         |\n",
      "|2154    |1.0007684 |Tekkon Kinkreet                                 |7.95 |Action, Adventure, Award Winning, Supernatural    |Studio 4°C                           |\n",
      "|37976   |0.9612518 |Zombieland Saga                                 |7.51 |Award Winning, Comedy, Supernatural               |MAPPA                                |\n",
      "|24591   |0.95036334|Youkai Watch Movie 1: Tanjou no Himitsu da Nyan!|6.94 |Award Winning, Comedy, Supernatural               |OLM                                  |\n",
      "|10389   |0.9487332 |Momo e no Tegami                                |7.58 |Award Winning, Drama, Supernatural                |Production I.G                       |\n",
      "|2895    |0.9463384 |Kujiratori                                      |6.07 |Adventure, Award Winning                          |Studio Ghibli                        |\n",
      "|8487    |0.93051946|Onigamiden                                      |6.49 |Action, Award Winning, Supernatural               |Pierrot                              |\n",
      "|7711    |0.93019897|Karigurashi no Arrietty                         |7.89 |Award Winning, Fantasy                            |Studio Ghibli                        |\n",
      "|37682   |0.92877895|Wakaokami wa Shougakusei! Movie                 |7.5  |Award Winning, Comedy, Slice of Life, Supernatural|Madhouse, DLE                        |\n",
      "|32281   |0.9275644 |Kimi no Na wa.                                  |8.85 |Award Winning, Drama, Supernatural                |CoMix Wave Films                     |\n",
      "|23987   |0.9247904 |Sarusuberi: Miss Hokusai                        |7.17 |Award Winning, Drama, Supernatural                |Production I.G                       |\n",
      "|2890    |0.92308253|Gake no Ue no Ponyo                             |7.92 |Adventure, Award Winning, Fantasy                 |Studio Ghibli                        |\n",
      "|1030    |0.9099737 |Heisei Tanuki Gassen Ponpoko                    |7.3  |Award Winning                                     |Studio Ghibli                        |\n",
      "|33089   |0.9077813 |Kemono Friends                                  |7.53 |Adventure, Award Winning, Comedy, Fantasy         |Yaoyorozu                            |\n",
      "|164     |0.89474857|Mononoke Hime                                   |8.67 |Action, Adventure, Award Winning, Fantasy         |Studio Ghibli                        |\n",
      "|39792   |0.89347494|Eizouken ni wa Te wo Dasu na!                   |8.13 |Adventure, Award Winning, Comedy                  |Science SARU                         |\n",
      "|12477   |0.8797684 |Sakasama no Patema                              |7.96 |Adventure, Award Winning, Sci-Fi                  |Studio Rikka, Purple Cow Studio Japan|\n",
      "|10408   |0.8698769 |Hotarubi no Mori e                              |8.29 |Award Winning, Drama, Romance, Supernatural       |Brain's Base                         |\n",
      "|16664   |0.8686535 |Kaguya-hime no Monogatari                       |8.2  |Award Winning, Fantasy                            |Studio Ghibli                        |\n",
      "+--------+----------+------------------------------------------------+-----+--------------------------------------------------+-------------------------------------+\n",
      "only showing top 20 rows\n",
      "\n"
     ]
    },
    {
     "name": "stderr",
     "output_type": "stream",
     "text": [
      "                                                                                \r"
     ]
    }
   ],
   "source": [
    "# Get raw recommendations\n",
    "recommendation_result = computed_df \\\n",
    "        .filter(computed_df.anime_id == anime_id | computed_df.anime_id_2 == anime_id) \\\n",
    "        .orderBy('cos_sim', ascending=False)\n",
    "recommendation_result_reduced = recommendation_result.select('anime_id', 'anime_id_2', 'cos_sim').withColumnRenamed('anime_id', 'anime_id_1')\n",
    "\n",
    "# Get recommended anime info based on raw recommendations\n",
    "df_anime_recommended_info = recommendation_result_reduced \\\n",
    "                    .join(\n",
    "                        df_anime, \n",
    "                        (\n",
    "                            ((recommendation_result_reduced.anime_id_2 != anime_id) & (recommendation_result_reduced.anime_id_2 == df_anime.anime_id)) | \n",
    "                            ((recommendation_result_reduced.anime_id_1 != anime_id) & (recommendation_result_reduced.anime_id_1 == df_anime.anime_id)))\n",
    "                        ) \\\n",
    "                    .orderBy('cos_sim', ascending=False) \\\n",
    "                    .select('anime_id', 'cos_sim', 'Name', 'Score', 'Genres', 'Studios')\n",
    "\n",
    "df_anime_recommended_info.show(truncate=False)"
   ]
  },
  {
   "cell_type": "code",
   "execution_count": null,
   "metadata": {},
   "outputs": [
    {
     "name": "stderr",
     "output_type": "stream",
     "text": [
      "24/08/07 15:04:35 WARN DAGScheduler: Broadcasting large task binary with size 16.1 MiB\n",
      "24/08/07 15:04:36 WARN DAGScheduler: Broadcasting large task binary with size 16.2 MiB\n",
      "/tmp/ipykernel_17842/3715102397.py:8: RuntimeWarning: invalid value encountered in scalar divide\n"
     ]
    },
    {
     "name": "stdout",
     "output_type": "stream",
     "text": [
      "+--------+----------+----------------------------+-----+--------------------------------------------------------+-------------------------------+\n",
      "|anime_id|cos_sim   |Name                        |Score|Genres                                                  |Studios                        |\n",
      "+--------+----------+----------------------------+-----+--------------------------------------------------------+-------------------------------+\n",
      "|523     |1.0711282 |Tonari no Totoro            |8.25 |Adventure, Award Winning, Supernatural                  |Studio Ghibli                  |\n",
      "|2895    |0.9463384 |Kujiratori                  |6.07 |Adventure, Award Winning                                |Studio Ghibli                  |\n",
      "|7711    |0.93019897|Karigurashi no Arrietty     |7.89 |Award Winning, Fantasy                                  |Studio Ghibli                  |\n",
      "|2890    |0.92308253|Gake no Ue no Ponyo         |7.92 |Adventure, Award Winning, Fantasy                       |Studio Ghibli                  |\n",
      "|1030    |0.9099737 |Heisei Tanuki Gassen Ponpoko|7.3  |Award Winning                                           |Studio Ghibli                  |\n",
      "|164     |0.89474857|Mononoke Hime               |8.67 |Action, Adventure, Award Winning, Fantasy               |Studio Ghibli                  |\n",
      "|16664   |0.8686535 |Kaguya-hime no Monogatari   |8.2  |Award Winning, Fantasy                                  |Studio Ghibli                  |\n",
      "|597     |0.859271  |Neko no Ongaeshi            |7.72 |Adventure, Award Winning, Drama, Fantasy                |Studio Ghibli                  |\n",
      "|512     |0.8522686 |Majo no Takkyuubin          |8.22 |Adventure, Award Winning, Comedy, Drama, Fantasy        |Studio Ghibli                  |\n",
      "|10029   |0.84839565|Coquelicot-zaka kara        |7.79 |Award Winning, Romance                                  |Studio Ghibli                  |\n",
      "|513     |0.819287  |Tenkuu no Shiro Laputa      |8.26 |Adventure, Award Winning, Fantasy, Romance, Sci-Fi      |Studio Ghibli                  |\n",
      "|416     |0.81694764|Kurenai no Buta             |7.95 |Action, Adventure, Award Winning, Comedy, Drama, Romance|Studio Ghibli                  |\n",
      "|431     |0.8097167 |Howl no Ugoku Shiro         |8.66 |Adventure, Award Winning, Drama, Fantasy, Romance       |Studio Ghibli                  |\n",
      "|16662   |0.77649117|Kaze Tachinu                |8.11 |Award Winning, Drama, Romance                           |Studio Ghibli                  |\n",
      "|415     |0.7761784 |Tonari no Yamada-kun        |7.12 |Award Winning, Comedy, Slice of Life                    |Studio Ghibli                  |\n",
      "|6975    |0.36639646|Koro no Dai Sanpo           |6.42 |Adventure                                               |Studio Ghibli                  |\n",
      "|22359   |0.34058562|Sanzoku no Musume Ronja     |7.07 |Adventure                                               |Studio Ghibli, Polygon Pictures|\n",
      "|2488    |0.30826324|Mei to Koneko Bus           |7.28 |Adventure, Fantasy                                      |Studio Ghibli                  |\n",
      "|1829    |0.30082038|Ged Senki                   |6.84 |Adventure, Fantasy                                      |Studio Ghibli                  |\n",
      "|9798    |0.27454028|Pandane to Tamago-hime      |6.85 |Adventure, Fantasy                                      |Studio Ghibli                  |\n",
      "+--------+----------+----------------------------+-----+--------------------------------------------------------+-------------------------------+\n",
      "only showing top 20 rows\n",
      "\n"
     ]
    },
    {
     "name": "stderr",
     "output_type": "stream",
     "text": [
      "                                                                                \r"
     ]
    }
   ],
   "source": [
    "# Get recommended anime produced by the same studio as chosen anime's\n",
    "number_of_recommendations = 20\n",
    "studio = chosen_anime.select(f.collect_list('Studios')).first()[0][0]\n",
    "\n",
    "df_anime_recommended_info.filter(f.col('Studios').contains(studio)).show(int(number_of_recommendations), truncate=False)"
   ]
  },
  {
   "cell_type": "code",
   "execution_count": null,
   "metadata": {},
   "outputs": [
    {
     "name": "stderr",
     "output_type": "stream",
     "text": [
      "24/08/07 13:27:32 WARN DAGScheduler: Broadcasting large task binary with size 16.1 MiB\n",
      "24/08/07 13:27:34 WARN DAGScheduler: Broadcasting large task binary with size 16.2 MiB\n",
      "/tmp/ipykernel_10911/3715102397.py:8: RuntimeWarning: invalid value encountered in scalar divide\n"
     ]
    },
    {
     "name": "stdout",
     "output_type": "stream",
     "text": [
      "+--------+----------+------------------------------------------------+-----+---------------------------------------------------+-------------------------------------+\n",
      "|anime_id|cos_sim   |Name                                            |Score|Genres                                             |Studios                              |\n",
      "+--------+----------+------------------------------------------------+-----+---------------------------------------------------+-------------------------------------+\n",
      "|34792   |1.0050004 |Yoake Tsugeru Lu no Uta                         |7.39 |Adventure, Award Winning, Supernatural             |Science SARU                         |\n",
      "|2154    |1.0007684 |Tekkon Kinkreet                                 |7.95 |Action, Adventure, Award Winning, Supernatural     |Studio 4°C                           |\n",
      "|37976   |0.9612518 |Zombieland Saga                                 |7.51 |Award Winning, Comedy, Supernatural                |MAPPA                                |\n",
      "|24591   |0.95036334|Youkai Watch Movie 1: Tanjou no Himitsu da Nyan!|6.94 |Award Winning, Comedy, Supernatural                |OLM                                  |\n",
      "|10389   |0.9487332 |Momo e no Tegami                                |7.58 |Award Winning, Drama, Supernatural                 |Production I.G                       |\n",
      "|8487    |0.93051946|Onigamiden                                      |6.49 |Action, Award Winning, Supernatural                |Pierrot                              |\n",
      "|37682   |0.92877895|Wakaokami wa Shougakusei! Movie                 |7.5  |Award Winning, Comedy, Slice of Life, Supernatural |Madhouse, DLE                        |\n",
      "|32281   |0.9275644 |Kimi no Na wa.                                  |8.85 |Award Winning, Drama, Supernatural                 |CoMix Wave Films                     |\n",
      "|23987   |0.9247904 |Sarusuberi: Miss Hokusai                        |7.17 |Award Winning, Drama, Supernatural                 |Production I.G                       |\n",
      "|33089   |0.9077813 |Kemono Friends                                  |7.53 |Adventure, Award Winning, Comedy, Fantasy          |Yaoyorozu                            |\n",
      "|39792   |0.89347494|Eizouken ni wa Te wo Dasu na!                   |8.13 |Adventure, Award Winning, Comedy                   |Science SARU                         |\n",
      "|12477   |0.8797684 |Sakasama no Patema                              |7.96 |Adventure, Award Winning, Sci-Fi                   |Studio Rikka, Purple Cow Studio Japan|\n",
      "|10408   |0.8698769 |Hotarubi no Mori e                              |8.29 |Award Winning, Drama, Romance, Supernatural        |Brain's Base                         |\n",
      "|30585   |0.8670282 |Taifuu no Noruda                                |6.19 |Award Winning, Drama, Sci-Fi, Supernatural         |Studio Colorido                      |\n",
      "|3905    |0.8646506 |Wanpaku Ouji no Orochi Taiji                    |6.26 |Adventure, Award Winning, Fantasy                  |Toei Animation                       |\n",
      "|2848    |0.86344117|Kappa no Coo to Natsuyasumi                     |7.5  |Adventure, Award Winning, Fantasy                  |Shin-Ei Animation                    |\n",
      "|572     |0.8530972 |Kaze no Tani no Nausicaä                        |8.36 |Adventure, Award Winning, Fantasy                  |Topcraft                             |\n",
      "|9617    |0.844974  |K-On! Movie                                     |8.35 |Award Winning, Comedy                              |Kyoto Animation                      |\n",
      "|5084    |0.8435343 |Mai Mai Shinko to Sennen no Mahou               |7.2  |Adventure, Award Winning, Drama                    |Madhouse                             |\n",
      "|41168   |0.84153634|Nakitai Watashi wa Neko wo Kaburu               |7.34 |Award Winning, Comedy, Drama, Romance, Supernatural|Studio Colorido                      |\n",
      "+--------+----------+------------------------------------------------+-----+---------------------------------------------------+-------------------------------------+\n",
      "only showing top 20 rows\n",
      "\n"
     ]
    },
    {
     "name": "stderr",
     "output_type": "stream",
     "text": [
      "                                                                                \r"
     ]
    }
   ],
   "source": [
    "df_anime_recommended_info.filter(~f.col('Studios').contains(studio)).show(int(number_of_recommendations), truncate=False)"
   ]
  },
  {
   "cell_type": "markdown",
   "metadata": {},
   "source": [
    "### Save computed results"
   ]
  },
  {
   "cell_type": "code",
   "execution_count": null,
   "metadata": {},
   "outputs": [],
   "source": [
    "# save computed results to cassandra\n",
    "computed_df.select(f.col('anime_id'), f.col('anime_id_2'), f.col('cos_sim')).write \\\n",
    "  .format(\"org.apache.spark.sql.cassandra\") \\\n",
    "  .mode(\"append\") \\\n",
    "  .options(table=\"anime_similarity\", keyspace=\"anime\") \\\n",
    "  .save()"
   ]
  }
 ],
 "metadata": {
  "kernelspec": {
   "display_name": ".venv",
   "language": "python",
   "name": "python3"
  },
  "language_info": {
   "codemirror_mode": {
    "name": "ipython",
    "version": 3
   },
   "file_extension": ".py",
   "mimetype": "text/x-python",
   "name": "python",
   "nbconvert_exporter": "python",
   "pygments_lexer": "ipython3",
   "version": "3.11.9"
  }
 },
 "nbformat": 4,
 "nbformat_minor": 2
}
