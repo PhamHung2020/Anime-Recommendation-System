{
 "cells": [
  {
   "cell_type": "code",
   "execution_count": 1,
   "metadata": {},
   "outputs": [
    {
     "data": {
      "text/html": [
       "        <script type=\"text/javascript\">\n",
       "        window.PlotlyConfig = {MathJaxConfig: 'local'};\n",
       "        if (window.MathJax && window.MathJax.Hub && window.MathJax.Hub.Config) {window.MathJax.Hub.Config({SVG: {font: \"STIX-Web\"}});}\n",
       "        if (typeof require !== 'undefined') {\n",
       "        require.undef(\"plotly\");\n",
       "        requirejs.config({\n",
       "            paths: {\n",
       "                'plotly': ['https://cdn.plot.ly/plotly-2.34.0.min']\n",
       "            }\n",
       "        });\n",
       "        require(['plotly'], function(Plotly) {\n",
       "            window._Plotly = Plotly;\n",
       "        });\n",
       "        }\n",
       "        </script>\n",
       "        "
      ]
     },
     "metadata": {},
     "output_type": "display_data"
    }
   ],
   "source": [
    "# Reading Dataset\n",
    "import numpy as np\n",
    "import pandas as pd\n",
    "\n",
    "# Visualization\n",
    "import plotly.express as px\n",
    "from plotly.offline import init_notebook_mode, iplot\n",
    "init_notebook_mode(connected=True)\n",
    "\n",
    "from datetime import datetime"
   ]
  },
  {
   "cell_type": "markdown",
   "metadata": {},
   "source": [
    "# Reading Dataset"
   ]
  },
  {
   "cell_type": "code",
   "execution_count": 2,
   "metadata": {},
   "outputs": [
    {
     "name": "stderr",
     "output_type": "stream",
     "text": [
      "24/07/25 12:15:24 WARN Utils: Your hostname, ubuntu20 resolves to a loopback address: 127.0.1.1; using 192.168.0.234 instead (on interface wlp0s20f3)\n",
      "24/07/25 12:15:24 WARN Utils: Set SPARK_LOCAL_IP if you need to bind to another address\n",
      "Setting default log level to \"WARN\".\n",
      "To adjust logging level use sc.setLogLevel(newLevel). For SparkR, use setLogLevel(newLevel).\n",
      "24/07/25 12:15:24 WARN NativeCodeLoader: Unable to load native-hadoop library for your platform... using builtin-java classes where applicable\n"
     ]
    }
   ],
   "source": [
    "# Start spark session\n",
    "from pyspark.sql import SparkSession\n",
    "\n",
    "spark = SparkSession.builder.config(\"spark.driver.memory\", \"10g\").getOrCreate()"
   ]
  },
  {
   "cell_type": "code",
   "execution_count": 3,
   "metadata": {},
   "outputs": [],
   "source": [
    "# Load anime dataset\n",
    "from pyspark.sql.types import StructType, StructField, IntegerType, FloatType, StringType\n",
    "\n",
    "schema = StructType([\n",
    "    StructField(\"anime_id\", IntegerType(), True),\n",
    "    StructField(\"Name\", StringType(), True),\n",
    "    StructField(\"English name\", StringType(), True),\n",
    "    StructField(\"Other name\", StringType(), True),\n",
    "    StructField(\"Score\", FloatType(), True),\n",
    "    StructField(\"Genres\", StringType(), True),\n",
    "    StructField(\"Synopsis\", StringType(), True),\n",
    "    StructField(\"Type\", StringType(), True),\n",
    "    StructField(\"Episodes\", FloatType(), True),\n",
    "    StructField(\"Aired\", StringType(), True),\n",
    "    StructField(\"Premiered\", StringType(), True),\n",
    "    StructField(\"Status\", StringType(), True),\n",
    "    StructField(\"Producers\", StringType(), True),\n",
    "    StructField(\"Licensors\", StringType(), True),\n",
    "    StructField(\"Studios\", StringType(), True),\n",
    "    StructField(\"Source\", StringType(), True),\n",
    "    StructField(\"Duration\", StringType(), True),\n",
    "    StructField(\"Rating\", StringType(), True),\n",
    "    StructField(\"Rank\", FloatType(), True),\n",
    "    StructField(\"Popularity\", IntegerType(), True),\n",
    "    StructField(\"Favorites\", IntegerType(), True),\n",
    "    StructField(\"Scored By\", FloatType(), True),\n",
    "    StructField(\"Members\", FloatType(), True),\n",
    "    StructField(\"Image URL\", StringType(), True),\n",
    "])\n",
    "\n",
    "df_anime = spark.read.csv('../dataset/myanimelist-dataset/anime-dataset-2023.csv', header=True, schema=schema, multiLine=True, quote='\\\"', escape='\\\"')"
   ]
  },
  {
   "cell_type": "code",
   "execution_count": 4,
   "metadata": {},
   "outputs": [
    {
     "name": "stdout",
     "output_type": "stream",
     "text": [
      "root\n",
      " |-- anime_id: integer (nullable = true)\n",
      " |-- Name: string (nullable = true)\n",
      " |-- English name: string (nullable = true)\n",
      " |-- Other name: string (nullable = true)\n",
      " |-- Score: float (nullable = true)\n",
      " |-- Genres: string (nullable = true)\n",
      " |-- Synopsis: string (nullable = true)\n",
      " |-- Type: string (nullable = true)\n",
      " |-- Episodes: float (nullable = true)\n",
      " |-- Aired: string (nullable = true)\n",
      " |-- Premiered: string (nullable = true)\n",
      " |-- Status: string (nullable = true)\n",
      " |-- Producers: string (nullable = true)\n",
      " |-- Licensors: string (nullable = true)\n",
      " |-- Studios: string (nullable = true)\n",
      " |-- Source: string (nullable = true)\n",
      " |-- Duration: string (nullable = true)\n",
      " |-- Rating: string (nullable = true)\n",
      " |-- Rank: float (nullable = true)\n",
      " |-- Popularity: integer (nullable = true)\n",
      " |-- Favorites: integer (nullable = true)\n",
      " |-- Scored By: float (nullable = true)\n",
      " |-- Members: float (nullable = true)\n",
      " |-- Image URL: string (nullable = true)\n",
      "\n"
     ]
    }
   ],
   "source": [
    "df_anime.printSchema()"
   ]
  },
  {
   "cell_type": "code",
   "execution_count": 5,
   "metadata": {},
   "outputs": [
    {
     "name": "stderr",
     "output_type": "stream",
     "text": [
      "                                                                                \r"
     ]
    },
    {
     "name": "stdout",
     "output_type": "stream",
     "text": [
      "Shape of the Anime dataset: 24905 24\n",
      "+--------+--------------------+--------------------+------------------------------+-----+--------------------+--------------------+-----+--------+--------------------+-----------+----------------+--------------------+--------------------+----------------+-----------+-------------+--------------------+------+----------+---------+---------+---------+--------------------+\n",
      "|anime_id|                Name|        English name|                    Other name|Score|              Genres|            Synopsis| Type|Episodes|               Aired|  Premiered|          Status|           Producers|           Licensors|         Studios|     Source|     Duration|              Rating|  Rank|Popularity|Favorites|Scored By|  Members|           Image URL|\n",
      "+--------+--------------------+--------------------+------------------------------+-----+--------------------+--------------------+-----+--------+--------------------+-----------+----------------+--------------------+--------------------+----------------+-----------+-------------+--------------------+------+----------+---------+---------+---------+--------------------+\n",
      "|       1|        Cowboy Bebop|        Cowboy Bebop|            カウボーイビバップ| 8.75|Action, Award Win...|Crime is timeless...|   TV|    26.0|Apr 3, 1998 to Ap...|spring 1998| Finished Airing|       Bandai Visual|Funimation, Banda...|         Sunrise|   Original|24 min per ep|R - 17+ (violence...|  41.0|        43|    78525| 914193.0|1771505.0|https://cdn.myani...|\n",
      "|       5|Cowboy Bebop: Ten...|Cowboy Bebop: The...|   カウボーイビバップ 天国の扉| 8.38|      Action, Sci-Fi|Another day, anot...|Movie|     1.0|         Sep 1, 2001|    UNKNOWN| Finished Airing|Sunrise, Bandai V...|Sony Pictures Ent...|           Bones|   Original|  1 hr 55 min|R - 17+ (violence...| 189.0|       602|     1448| 206248.0| 360978.0|https://cdn.myani...|\n",
      "|       6|              Trigun|              Trigun|                    トライガン| 8.22|Action, Adventure...|Vash the Stampede...|   TV|    26.0|Apr 1, 1998 to Se...|spring 1998| Finished Airing|Victor Entertainment|Funimation, Geneo...|        Madhouse|      Manga|24 min per ep|PG-13 - Teens 13 ...| 328.0|       246|    15035| 356739.0| 727252.0|https://cdn.myani...|\n",
      "|       7|  Witch Hunter Robin|  Witch Hunter Robin|          Witch Hunter ROBI...| 7.25|Action, Drama, My...|Robin Sena is a p...|   TV|    26.0|Jul 3, 2002 to De...|summer 2002| Finished Airing|Bandai Visual, De...|Funimation, Banda...|         Sunrise|   Original|25 min per ep|PG-13 - Teens 13 ...|2764.0|      1795|      613|  42829.0| 111931.0|https://cdn.myani...|\n",
      "|       8|      Bouken Ou Beet|Beet the Vandel B...|                  冒険王ビィト| 6.94|Adventure, Fantas...|It is the dark ce...|   TV|    52.0|Sep 30, 2004 to S...|  fall 2004| Finished Airing|    TV Tokyo, Dentsu|Illumitoon Entert...|  Toei Animation|      Manga|23 min per ep|       PG - Children|4240.0|      5126|       14|   6413.0|  15001.0|https://cdn.myani...|\n",
      "|      15|        Eyeshield 21|             UNKNOWN|                アイシールド21| 7.92|              Sports|Shy, reserved, an...|   TV|   145.0|Apr 6, 2005 to Ma...|spring 2005| Finished Airing|TV Tokyo, Nihon A...|VIZ Media, Sentai...|          Gallop|      Manga|23 min per ep|PG-13 - Teens 13 ...| 688.0|      1252|     1997|  86524.0| 177688.0|https://cdn.myani...|\n",
      "|      16|Hachimitsu to Clover|    Honey and Clover|          ハチミツとクローバー|  8.0|Comedy, Drama, Ro...|Yuuta Takemoto, a...|   TV|    24.0|Apr 15, 2005 to S...|spring 2005| Finished Airing|Dentsu, Genco, Fu...|VIZ Media, Discot...|       J.C.Staff|      Manga|23 min per ep|PG-13 - Teens 13 ...| 589.0|       862|     4136|  81747.0| 260166.0|https://cdn.myani...|\n",
      "|      17|Hungry Heart: Wil...|             UNKNOWN|  ハングリーハート Wild Str...| 7.55|Comedy, Slice of ...|As the younger br...|   TV|    52.0|Sep 11, 2002 to S...|  fall 2002| Finished Airing|             UNKNOWN|             UNKNOWN|Nippon Animation|      Manga|23 min per ep|PG-13 - Teens 13 ...|1551.0|      4212|      237|  12960.0|  24172.0|https://cdn.myani...|\n",
      "|      18|Initial D Fourth ...|             UNKNOWN|頭文字〈イニシャル〉D FOURT...| 8.16|       Action, Drama|Takumi Fujiwara f...|   TV|    24.0|Apr 17, 2004 to F...|spring 2004| Finished Airing|OB Planning, Stud...|          Funimation|        A.C.G.T.|      Manga|27 min per ep|PG-13 - Teens 13 ...| 393.0|      1273|     1237|  97878.0| 173710.0|https://cdn.myani...|\n",
      "|      19|             Monster|             Monster|                    モンスター| 8.87|Drama, Mystery, S...|Dr. Kenzou Tenma,...|   TV|    74.0|Apr 7, 2004 to Se...|spring 2004| Finished Airing|VAP, Shogakukan-S...|           VIZ Media|        Madhouse|      Manga|24 min per ep|    R+ - Mild Nudity|  26.0|       142|    47235| 368569.0|1013100.0|https://cdn.myani...|\n",
      "|      20|              Naruto|              Naruto|                        ナルト| 7.99|Action, Adventure...|Moments prior to ...|   TV|   220.0|Oct 3, 2002 to Fe...|  fall 2002| Finished Airing|TV Tokyo, Aniplex...|           VIZ Media|         Pierrot|      Manga|23 min per ep|PG-13 - Teens 13 ...| 599.0|         8|    76343|1883772.0|2717330.0|https://cdn.myani...|\n",
      "|      21|           One Piece|           One Piece|                     ONE PIECE| 8.69|Action, Adventure...|Gol D. Roger was ...|   TV|    NULL|   Oct 20, 1999 to ?|  fall 1999|Currently Airing|Fuji TV, TAP, Shu...|Funimation, 4Kids...|  Toei Animation|      Manga|       24 min|PG-13 - Teens 13 ...|  55.0|        20|   198986|1226493.0|2168904.0|https://cdn.myani...|\n",
      "|      22| Tennis no Ouji-sama|The Prince of Tennis|                テニスの王子様| 7.86|              Sports|At the request of...|   TV|   178.0|Oct 10, 2001 to M...|  fall 2001| Finished Airing|Production I.G, N...|Funimation, VIZ M...|      Trans Arts|      Manga|22 min per ep|PG-13 - Teens 13 ...| 805.0|      1246|     3004|  81992.0| 178273.0|https://cdn.myani...|\n",
      "|      23|    Ring ni Kakero 1|             UNKNOWN|              リングにかけろ１| 6.39|      Action, Sports|In order to fulfi...|   TV|    12.0|Oct 6, 2004 to De...|  fall 2004| Finished Airing|             UNKNOWN|             UNKNOWN|  Toei Animation|      Manga|25 min per ep|       PG - Children|6943.0|      8288|        6|   1378.0|   4581.0|https://cdn.myani...|\n",
      "|      24|       School Rumble|       School Rumble|              スクールランブル| 7.89|     Comedy, Romance|Just the words \"I...|   TV|    26.0|Oct 5, 2004 to Ma...|  fall 2004| Finished Airing|TV Tokyo, Sotsu, ...|          Funimation|    Studio Comet|      Manga|23 min per ep|PG-13 - Teens 13 ...| 756.0|       687|     5139| 146597.0| 320203.0|https://cdn.myani...|\n",
      "|      25|           Sunabouzu|         Desert Punk|                      砂ぼうず| 7.38|Action, Adventure...|The Great Kanto D...|   TV|    24.0|Oct 6, 2004 to Ma...|  fall 2004| Finished Airing|GDH, Pony Canyon,...|          Funimation|           Gonzo|      Manga|24 min per ep|R - 17+ (violence...|2167.0|      1546|      822|  53709.0| 134894.0|https://cdn.myani...|\n",
      "|      26|          Texhnolyze|          Texhnolyze|                    TEXHNOLYZE| 7.76|Action, Drama, Sc...|In the dark under...|   TV|    22.0|Apr 17, 2003 to S...|spring 2003| Finished Airing|Group TAC, Rondo ...|Funimation, Geneo...|        Madhouse|   Original|23 min per ep|    R+ - Mild Nudity| 990.0|       935|     4786|  54857.0| 239423.0|https://cdn.myani...|\n",
      "|      27|       Trinity Blood|       Trinity Blood|          トリニティ・ブラッド| 7.29|Action, Supernatural|Following Armaged...|   TV|    24.0|Apr 29, 2005 to O...|spring 2005| Finished Airing|             UNKNOWN|          Funimation|           Gonzo|Light novel|24 min per ep|R - 17+ (violence...|2591.0|      1233|     1298|  79130.0| 179583.0|https://cdn.myani...|\n",
      "|      28|    Yakitate!! Japan|    Yakitate!! Japan|           焼きたて!! ジャぱん| 7.91|     Comedy, Gourmet|While countries s...|   TV|    69.0|Oct 12, 2004 to M...|  fall 2004| Finished Airing|TV Tokyo, Aniplex...|Nozomi Entertainment|         Sunrise|      Manga|24 min per ep|PG-13 - Teens 13 ...| 704.0|      1992|      897|  40492.0|  95380.0|https://cdn.myani...|\n",
      "|      29|              Zipang|             UNKNOWN|                      ジパング| 7.48|Action, Drama, Sc...|Mirai, an improve...|   TV|    26.0|Oct 8, 2004 to Ap...|  fall 2004| Finished Airing|      Marvelous, TBS|Geneon Entertainm...|     Studio Deen|      Manga|24 min per ep|PG-13 - Teens 13 ...|1778.0|      4430|      180|   7273.0|  21391.0|https://cdn.myani...|\n",
      "+--------+--------------------+--------------------+------------------------------+-----+--------------------+--------------------+-----+--------+--------------------+-----------+----------------+--------------------+--------------------+----------------+-----------+-------------+--------------------+------+----------+---------+---------+---------+--------------------+\n",
      "only showing top 20 rows\n",
      "\n"
     ]
    }
   ],
   "source": [
    "print(\"Shape of the Anime dataset:\", df_anime.count(), len(df_anime.columns))\n",
    "df_anime.show()"
   ]
  },
  {
   "cell_type": "code",
   "execution_count": 6,
   "metadata": {},
   "outputs": [],
   "source": [
    "# Importing user details dataset\n",
    "schema = StructType([\n",
    "    StructField(\"Mal ID\", IntegerType(), True),\n",
    "    StructField(\"Username\", StringType(), True),\n",
    "    StructField(\"Gender\", StringType(), True),\n",
    "    StructField(\"Birthday\", StringType(), True),\n",
    "    StructField(\"Location\", StringType(), True),\n",
    "    StructField(\"Joined\", StringType(), True),\n",
    "    StructField(\"Days Watched\", FloatType(), True),\n",
    "    StructField(\"Mean Score\", FloatType(), True),\n",
    "    StructField(\"Watching\", FloatType(), True),\n",
    "    StructField(\"Completed\", FloatType(), True),\n",
    "    StructField(\"On Hold\", FloatType(), True),\n",
    "    StructField(\"Dropped\", FloatType(), True),\n",
    "    StructField(\"Plan to Watch\", FloatType(), True),\n",
    "    StructField(\"Total Entries\", FloatType(), True),\n",
    "    StructField(\"Rewatched\", FloatType(), True),\n",
    "    StructField(\"Episodes Watched\", FloatType(), True)\n",
    "])\n",
    "\n",
    "df_user = spark.read.csv(\"../dataset/myanimelist-dataset/users-details-2023.csv\", header=True, schema=schema)"
   ]
  },
  {
   "cell_type": "code",
   "execution_count": 7,
   "metadata": {},
   "outputs": [
    {
     "name": "stderr",
     "output_type": "stream",
     "text": [
      "[Stage 4:>                                                          (0 + 3) / 3]\r"
     ]
    },
    {
     "name": "stdout",
     "output_type": "stream",
     "text": [
      "Shape of the User dataset: 731290 16\n",
      "+------+---------------+------+--------------------+--------------------+--------------------+------------+----------+--------+---------+-------+-------+-------------+-------------+---------+----------------+\n",
      "|Mal ID|       Username|Gender|            Birthday|            Location|              Joined|Days Watched|Mean Score|Watching|Completed|On Hold|Dropped|Plan to Watch|Total Entries|Rewatched|Episodes Watched|\n",
      "+------+---------------+------+--------------------+--------------------+--------------------+------------+----------+--------+---------+-------+-------+-------------+-------------+---------+----------------+\n",
      "|     1|          Xinil|  Male|1985-03-04T00:00:...|          California|2004-11-05T00:00:...|       142.3|      7.37|     1.0|    233.0|    8.0|   93.0|         64.0|        399.0|     60.0|          8458.0|\n",
      "|     3|        Aokaado|  Male|                NULL|        Oslo, Norway|2004-11-11T00:00:...|        68.6|      7.34|    23.0|    137.0|   99.0|   44.0|         40.0|        343.0|     15.0|          4072.0|\n",
      "|     4|        Crystal|Female|                NULL|Melbourne, Australia|2004-11-13T00:00:...|       212.8|      6.68|    16.0|    636.0|  303.0|    0.0|         45.0|       1000.0|     10.0|         12781.0|\n",
      "|     9|         Arcane|  NULL|                NULL|                NULL|2004-12-05T00:00:...|        30.0|      7.71|     5.0|     54.0|    4.0|    3.0|          0.0|         66.0|      0.0|          1817.0|\n",
      "|    18|            Mad|  NULL|                NULL|                NULL|2005-01-03T00:00:...|        52.0|      6.27|     1.0|    114.0|   10.0|    5.0|         23.0|        153.0|     42.0|          3038.0|\n",
      "|    20|         vondur|  Male|1988-01-25T00:00:...|      Bergen, Norway|2005-01-05T00:00:...|        73.1|      8.06|    11.0|     94.0|   11.0|    2.0|         20.0|        138.0|      7.0|          4374.0|\n",
      "|    23|          Amuro|  NULL|1988-02-22T00:00:...|              Canada|2005-01-23T00:00:...|       142.5|      7.41|    20.0|    298.0|    5.0|   19.0|         50.0|        392.0|      0.0|          8565.0|\n",
      "|    36|          Baman|  Male|                NULL|Land of Rain and ...|2005-02-05T00:00:...|       272.1|       5.9|    27.0|   1144.0|   11.0|   55.0|        338.0|       1575.0|     36.0|         16309.0|\n",
      "|    44|         beddan|  Male|                NULL|                NULL|2005-02-21T00:00:...|        18.6|       7.6|     0.0|     37.0|    0.0|    0.0|          0.0|         37.0|      0.0|          1083.0|\n",
      "|    47|      kei-clone|  Male|                NULL|31f288172a11dea9f...|2005-03-09T00:00:...|        34.5|      6.84|    15.0|    104.0|   22.0|    3.0|         19.0|        163.0|      1.0|          2054.0|\n",
      "|    53|     Ladholyman|  NULL|                NULL|                NULL|2005-03-19T00:00:...|        11.5|      9.24|     0.0|     51.0|    0.0|    0.0|          0.0|         51.0|      0.0|           693.0|\n",
      "|    66|         Hiromi|  Male|1990-02-09T00:00:...|         Calgary, AB|2005-04-01T00:00:...|        70.6|      7.53|    34.0|    148.0|   13.0|    6.0|         10.0|        211.0|     50.0|          4117.0|\n",
      "|    70|         Cruzle|  Male|1983-11-09T00:00:...|                NULL|2005-04-14T00:00:...|        78.0|      7.18|    30.0|    135.0|    9.0|    8.0|         22.0|        204.0|     15.0|          4694.0|\n",
      "|    71|          Smoka|  NULL|                NULL|                NULL|2005-04-21T00:00:...|        22.9|      8.01|     2.0|     67.0|   11.0|    0.0|          0.0|         80.0|      0.0|          1295.0|\n",
      "|    77|            Emp|Female|                NULL|                NULL|2005-04-26T00:00:...|        67.5|      6.38|    13.0|    297.0|    0.0|    0.0|          2.0|        312.0|      0.0|          3955.0|\n",
      "|    80|      koalatees|  NULL|1991-10-24T00:00:...|                NULL|2005-04-27T00:00:...|        12.2|       7.1|     4.0|     31.0|    0.0|   41.0|          0.0|         76.0|      0.0|           744.0|\n",
      "|    82|         Achtor|  Male|1989-06-10T00:00:...|       Paris, France|2005-04-29T00:00:...|        47.0|      7.17|     6.0|    153.0|   36.0|   20.0|        101.0|        316.0|      0.0|          2922.0|\n",
      "|    83|         jaames|  Male|                NULL| Seattle, Washington|2005-04-30T00:00:...|        12.5|      8.71|     3.0|     16.0|    0.0|    0.0|          0.0|         19.0|      0.0|           745.0|\n",
      "|    90|           xich|Female|                NULL|                NULL|2005-05-10T00:00:...|        58.8|      8.29|     2.0|    122.0|    7.0|   53.0|          9.0|        193.0|      5.0|          3557.0|\n",
      "|    91|marvin_9martian|Female|                NULL|              Canada|2005-05-10T00:00:...|        36.4|      6.66|     4.0|     57.0|    4.0|   31.0|         29.0|        125.0|      1.0|          2187.0|\n",
      "+------+---------------+------+--------------------+--------------------+--------------------+------------+----------+--------+---------+-------+-------+-------------+-------------+---------+----------------+\n",
      "only showing top 20 rows\n",
      "\n"
     ]
    },
    {
     "name": "stderr",
     "output_type": "stream",
     "text": [
      "                                                                                \r"
     ]
    }
   ],
   "source": [
    "print(\"Shape of the User dataset:\", df_user.count(), len(df_user.columns))\n",
    "df_user.show()"
   ]
  },
  {
   "cell_type": "code",
   "execution_count": 8,
   "metadata": {},
   "outputs": [],
   "source": [
    "# Importing user score dataset\n",
    "schema = StructType([\n",
    "    StructField(\"user_id\", IntegerType(), True),\n",
    "    StructField(\"Username\", StringType(), True),\n",
    "    StructField(\"anime_id\", IntegerType(), True),\n",
    "    StructField(\"Anime Title\", StringType(), True),\n",
    "    StructField(\"rating\", IntegerType(), True)\n",
    "])\n",
    "\n",
    "df_score = spark.read.csv(\"../dataset/myanimelist-dataset/users-score-2023.csv\", header=True, schema=schema)"
   ]
  },
  {
   "cell_type": "code",
   "execution_count": 9,
   "metadata": {},
   "outputs": [
    {
     "name": "stderr",
     "output_type": "stream",
     "text": [
      "[Stage 8:=============================================>             (7 + 2) / 9]\r"
     ]
    },
    {
     "name": "stdout",
     "output_type": "stream",
     "text": [
      "Shape of the Score dataset: 24325191 5\n",
      "+-------+--------+--------+--------------------+------+\n",
      "|user_id|Username|anime_id|         Anime Title|rating|\n",
      "+-------+--------+--------+--------------------+------+\n",
      "|      1|   Xinil|      21|           One Piece|     9|\n",
      "|      1|   Xinil|      48|         .hack//Sign|     7|\n",
      "|      1|   Xinil|     320|              A Kite|     5|\n",
      "|      1|   Xinil|      49|    Aa! Megami-sama!|     8|\n",
      "|      1|   Xinil|     304|Aa! Megami-sama! ...|     8|\n",
      "|      1|   Xinil|     306|Abenobashi Mahou☆...|     8|\n",
      "|      1|   Xinil|      53|       Ai Yori Aoshi|     7|\n",
      "|      1|   Xinil|      47|               Akira|     5|\n",
      "|      1|   Xinil|     591|      Amaenaide yo!!|     6|\n",
      "|      1|   Xinil|      54|   Appleseed (Movie)|     7|\n",
      "|      1|   Xinil|      55|         Arc the Lad|     5|\n",
      "|      1|   Xinil|      56|             Avenger|     6|\n",
      "|      1|   Xinil|      57|                Beck|     9|\n",
      "|      1|   Xinil|     368|         Bible Black|     5|\n",
      "|      1|   Xinil|      68|      Black Cat (TV)|     7|\n",
      "|      1|   Xinil|     889|        Black Lagoon|     9|\n",
      "|      1|   Xinil|    1519|Black Lagoon: The...|     7|\n",
      "|      1|   Xinil|      58|         Blue Gender|     8|\n",
      "|      1|   Xinil|    1222|       Bokura ga Ita|     7|\n",
      "|      1|   Xinil|     458|       Buttobi!! CPU|     4|\n",
      "+-------+--------+--------+--------------------+------+\n",
      "only showing top 20 rows\n",
      "\n"
     ]
    },
    {
     "name": "stderr",
     "output_type": "stream",
     "text": [
      "                                                                                \r"
     ]
    }
   ],
   "source": [
    "print(\"Shape of the Score dataset:\", df_score.count(), len(df_score.columns))\n",
    "df_score.show()"
   ]
  },
  {
   "cell_type": "markdown",
   "metadata": {},
   "source": [
    "# Data Exploration"
   ]
  },
  {
   "cell_type": "markdown",
   "metadata": {},
   "source": [
    "## Anime Dataset"
   ]
  },
  {
   "cell_type": "code",
   "execution_count": 10,
   "metadata": {},
   "outputs": [
    {
     "name": "stderr",
     "output_type": "stream",
     "text": [
      "                                                                                \r"
     ]
    },
    {
     "name": "stdout",
     "output_type": "stream",
     "text": [
      "<class 'pandas.core.frame.DataFrame'>\n",
      "RangeIndex: 24905 entries, 0 to 24904\n",
      "Data columns (total 24 columns):\n",
      " #   Column        Non-Null Count  Dtype  \n",
      "---  ------        --------------  -----  \n",
      " 0   anime_id      24905 non-null  int32  \n",
      " 1   Name          24905 non-null  object \n",
      " 2   English name  24905 non-null  object \n",
      " 3   Other name    24905 non-null  object \n",
      " 4   Score         15692 non-null  float32\n",
      " 5   Genres        24905 non-null  object \n",
      " 6   Synopsis      24905 non-null  object \n",
      " 7   Type          24905 non-null  object \n",
      " 8   Episodes      24294 non-null  float32\n",
      " 9   Aired         24905 non-null  object \n",
      " 10  Premiered     24905 non-null  object \n",
      " 11  Status        24905 non-null  object \n",
      " 12  Producers     24905 non-null  object \n",
      " 13  Licensors     24905 non-null  object \n",
      " 14  Studios       24905 non-null  object \n",
      " 15  Source        24905 non-null  object \n",
      " 16  Duration      24905 non-null  object \n",
      " 17  Rating        24905 non-null  object \n",
      " 18  Rank          20293 non-null  float32\n",
      " 19  Popularity    24905 non-null  int32  \n",
      " 20  Favorites     24905 non-null  int32  \n",
      " 21  Scored By     15692 non-null  float32\n",
      " 22  Members       24905 non-null  float32\n",
      " 23  Image URL     24905 non-null  object \n",
      "dtypes: float32(5), int32(3), object(16)\n",
      "memory usage: 3.8+ MB\n"
     ]
    }
   ],
   "source": [
    "df_anime.toPandas().info()"
   ]
  },
  {
   "cell_type": "code",
   "execution_count": 11,
   "metadata": {},
   "outputs": [
    {
     "data": {
      "text/plain": [
       "15692"
      ]
     },
     "execution_count": 11,
     "metadata": {},
     "output_type": "execute_result"
    }
   ],
   "source": [
    "from pyspark.sql import functions as F\n",
    "\n",
    "df_anime.select('Score').dropna().count()"
   ]
  },
  {
   "cell_type": "code",
   "execution_count": 12,
   "metadata": {},
   "outputs": [
    {
     "name": "stdout",
     "output_type": "stream",
     "text": [
      "+-------+------------------+\n",
      "|summary|             Score|\n",
      "+-------+------------------+\n",
      "|  count|             15692|\n",
      "|   mean|6.3808896258462005|\n",
      "| stddev|0.9286960614060261|\n",
      "|    min|              1.85|\n",
      "|    max|               9.1|\n",
      "+-------+------------------+\n",
      "\n"
     ]
    }
   ],
   "source": [
    "df_anime.describe('Score').show()"
   ]
  },
  {
   "cell_type": "code",
   "execution_count": 13,
   "metadata": {},
   "outputs": [
    {
     "data": {
      "text/plain": [
       "6.38"
      ]
     },
     "execution_count": 13,
     "metadata": {},
     "output_type": "execute_result"
    }
   ],
   "source": [
    "average_score = df_anime.agg(F.round(F.mean(F.col('Score')), 2).alias('Avg_Score')).first().Avg_Score\n",
    "average_score"
   ]
  },
  {
   "cell_type": "code",
   "execution_count": 14,
   "metadata": {},
   "outputs": [],
   "source": [
    "df_anime = df_anime.fillna({'Score': average_score})"
   ]
  },
  {
   "cell_type": "code",
   "execution_count": 15,
   "metadata": {},
   "outputs": [
    {
     "name": "stdout",
     "output_type": "stream",
     "text": [
      "+-------+------------------+\n",
      "|summary|             Score|\n",
      "+-------+------------------+\n",
      "|  count|             24905|\n",
      "|   mean|6.3805605727011745|\n",
      "| stddev|0.7371645377844217|\n",
      "|    min|              1.85|\n",
      "|    max|               9.1|\n",
      "+-------+------------------+\n",
      "\n"
     ]
    }
   ],
   "source": [
    "df_anime.describe('Score').show()"
   ]
  },
  {
   "cell_type": "code",
   "execution_count": 16,
   "metadata": {},
   "outputs": [
    {
     "data": {
      "text/plain": [
       "{'anime_id': 0,\n",
       " 'Name': 0,\n",
       " 'English name': 0,\n",
       " 'Other name': 0,\n",
       " 'Score': 0,\n",
       " 'Genres': 0,\n",
       " 'Synopsis': 0,\n",
       " 'Type': 0,\n",
       " 'Episodes': 611,\n",
       " 'Aired': 0,\n",
       " 'Premiered': 0,\n",
       " 'Status': 0,\n",
       " 'Producers': 0,\n",
       " 'Licensors': 0,\n",
       " 'Studios': 0,\n",
       " 'Source': 0,\n",
       " 'Duration': 0,\n",
       " 'Rating': 0,\n",
       " 'Rank': 4612,\n",
       " 'Popularity': 0,\n",
       " 'Favorites': 0,\n",
       " 'Scored By': 9213,\n",
       " 'Members': 0,\n",
       " 'Image URL': 0}"
      ]
     },
     "execution_count": 16,
     "metadata": {},
     "output_type": "execute_result"
    }
   ],
   "source": [
    "dict_null = { col : df_anime.filter(df_anime[col].isNull()).count() for col in df_anime.columns }\n",
    "dict_null"
   ]
  },
  {
   "cell_type": "code",
   "execution_count": 40,
   "metadata": {},
   "outputs": [
    {
     "name": "stderr",
     "output_type": "stream",
     "text": [
      "                                                                                \r"
     ]
    }
   ],
   "source": [
    "df_anime.toPandas().to_csv(\"../dataset/myanimelist-dataset/processed-dataset/anime-dataset-2023.csv\", index=False)"
   ]
  },
  {
   "cell_type": "markdown",
   "metadata": {},
   "source": [
    "## User Details Dataset"
   ]
  },
  {
   "cell_type": "code",
   "execution_count": 17,
   "metadata": {},
   "outputs": [
    {
     "name": "stderr",
     "output_type": "stream",
     "text": [
      "                                                                                \r"
     ]
    },
    {
     "name": "stdout",
     "output_type": "stream",
     "text": [
      "<class 'pandas.core.frame.DataFrame'>\n",
      "RangeIndex: 731290 entries, 0 to 731289\n",
      "Data columns (total 16 columns):\n",
      " #   Column            Non-Null Count   Dtype  \n",
      "---  ------            --------------   -----  \n",
      " 0   Mal ID            731290 non-null  int32  \n",
      " 1   Username          731290 non-null  object \n",
      " 2   Gender            224383 non-null  object \n",
      " 3   Birthday          168068 non-null  object \n",
      " 4   Location          152806 non-null  object \n",
      " 5   Joined            731290 non-null  object \n",
      " 6   Days Watched      731272 non-null  float32\n",
      " 7   Mean Score        731281 non-null  float32\n",
      " 8   Watching          731282 non-null  float32\n",
      " 9   Completed         731282 non-null  float32\n",
      " 10  On Hold           731282 non-null  float32\n",
      " 11  Dropped           731282 non-null  float32\n",
      " 12  Plan to Watch     731282 non-null  float32\n",
      " 13  Total Entries     731282 non-null  float32\n",
      " 14  Rewatched         731282 non-null  float32\n",
      " 15  Episodes Watched  731282 non-null  float32\n",
      "dtypes: float32(10), int32(1), object(5)\n",
      "memory usage: 58.6+ MB\n"
     ]
    }
   ],
   "source": [
    "df_user.toPandas().info()"
   ]
  },
  {
   "cell_type": "code",
   "execution_count": 18,
   "metadata": {},
   "outputs": [
    {
     "data": {
      "text/plain": [
       "{'Mal ID': 0,\n",
       " 'Username': 0,\n",
       " 'Gender': 506907,\n",
       " 'Birthday': 563222,\n",
       " 'Location': 578484,\n",
       " 'Joined': 0,\n",
       " 'Days Watched': 18,\n",
       " 'Mean Score': 9,\n",
       " 'Watching': 8,\n",
       " 'Completed': 8,\n",
       " 'On Hold': 8,\n",
       " 'Dropped': 8,\n",
       " 'Plan to Watch': 8,\n",
       " 'Total Entries': 8,\n",
       " 'Rewatched': 8,\n",
       " 'Episodes Watched': 8}"
      ]
     },
     "execution_count": 18,
     "metadata": {},
     "output_type": "execute_result"
    }
   ],
   "source": [
    "dict_null = { col : df_user.filter(df_user[col].isNull()).count() for col in df_user.columns }\n",
    "dict_null"
   ]
  },
  {
   "cell_type": "code",
   "execution_count": 19,
   "metadata": {},
   "outputs": [
    {
     "data": {
      "text/plain": [
       "[8682, 79090, 125668, 160113, 231825, 232646, 277237, 561555]"
      ]
     },
     "execution_count": 19,
     "metadata": {},
     "output_type": "execute_result"
    }
   ],
   "source": [
    "user_entry_null_ids = df_user.filter(df_user['Total Entries'].isNull()).select('Mal ID').collect()\n",
    "user_entry_null_ids = [int(user_id[0]) for user_id in user_entry_null_ids]\n",
    "user_entry_null_ids"
   ]
  },
  {
   "cell_type": "code",
   "execution_count": 20,
   "metadata": {},
   "outputs": [
    {
     "name": "stderr",
     "output_type": "stream",
     "text": [
      "[Stage 149:============================================>            (7 + 2) / 9]\r"
     ]
    },
    {
     "name": "stdout",
     "output_type": "stream",
     "text": [
      "Number of ratings of user with null entry:  330  ==>  0.001356618330355556\n"
     ]
    },
    {
     "name": "stderr",
     "output_type": "stream",
     "text": [
      "                                                                                \r"
     ]
    }
   ],
   "source": [
    "user_entry_null_rating_count = df_score.filter(df_score['user_id'].isin(user_entry_null_ids)).count()\n",
    "all_ratings_count = df_score.count()\n",
    "print(\"Number of ratings of user with null entry: \", user_entry_null_rating_count, \" ==> \", user_entry_null_rating_count / all_ratings_count * 100)"
   ]
  },
  {
   "cell_type": "code",
   "execution_count": 21,
   "metadata": {},
   "outputs": [
    {
     "name": "stderr",
     "output_type": "stream",
     "text": [
      "                                                                                \r"
     ]
    },
    {
     "data": {
      "text/plain": [
       "731282"
      ]
     },
     "execution_count": 21,
     "metadata": {},
     "output_type": "execute_result"
    }
   ],
   "source": [
    "df_user = df_user.filter(df_user['Mal ID'].isin(user_entry_null_ids) == False)\n",
    "df_user.count()"
   ]
  },
  {
   "cell_type": "code",
   "execution_count": 22,
   "metadata": {},
   "outputs": [
    {
     "name": "stderr",
     "output_type": "stream",
     "text": [
      "                                                                                \r"
     ]
    },
    {
     "data": {
      "text/plain": [
       "{'Mal ID': 0,\n",
       " 'Username': 0,\n",
       " 'Gender': 506907,\n",
       " 'Birthday': 563220,\n",
       " 'Location': 578482,\n",
       " 'Joined': 0,\n",
       " 'Days Watched': 10,\n",
       " 'Mean Score': 1,\n",
       " 'Watching': 0,\n",
       " 'Completed': 0,\n",
       " 'On Hold': 0,\n",
       " 'Dropped': 0,\n",
       " 'Plan to Watch': 0,\n",
       " 'Total Entries': 0,\n",
       " 'Rewatched': 0,\n",
       " 'Episodes Watched': 0}"
      ]
     },
     "execution_count": 22,
     "metadata": {},
     "output_type": "execute_result"
    }
   ],
   "source": [
    "dict_null = { col : df_user.filter(df_user[col].isNull()).count() for col in df_user.columns }\n",
    "dict_null"
   ]
  },
  {
   "cell_type": "code",
   "execution_count": 23,
   "metadata": {},
   "outputs": [
    {
     "name": "stderr",
     "output_type": "stream",
     "text": [
      "                                                                                \r"
     ]
    }
   ],
   "source": [
    "df_user.toPandas().to_csv(\"../dataset/myanimelist-dataset/processed-dataset/users-details-2023.csv\", index=False)"
   ]
  },
  {
   "cell_type": "markdown",
   "metadata": {},
   "source": [
    "## User Score Dataset"
   ]
  },
  {
   "cell_type": "code",
   "execution_count": 24,
   "metadata": {},
   "outputs": [
    {
     "name": "stderr",
     "output_type": "stream",
     "text": [
      "                                                                                \r"
     ]
    },
    {
     "data": {
      "text/plain": [
       "{'user_id': 0, 'Username': 0, 'anime_id': 0, 'Anime Title': 0, 'rating': 3127}"
      ]
     },
     "execution_count": 24,
     "metadata": {},
     "output_type": "execute_result"
    }
   ],
   "source": [
    "# Count number of null values in each column\n",
    "dict_null = { col : df_score.filter(df_score[col].isNull()).count() for col in df_score.columns }\n",
    "dict_null"
   ]
  },
  {
   "cell_type": "code",
   "execution_count": 25,
   "metadata": {},
   "outputs": [
    {
     "name": "stdout",
     "output_type": "stream",
     "text": [
      "+-------+---------------+--------+--------------------+------+\n",
      "|user_id|       Username|anime_id|         Anime Title|rating|\n",
      "+-------+---------------+--------+--------------------+------+\n",
      "|    357|         zhambi|   31630|\"Gyakuten Saiban:...|  NULL|\n",
      "|    433|    SleepySmore|   31630|\"Gyakuten Saiban:...|  NULL|\n",
      "|    433|    SleepySmore|   37490|\"Gyakuten Saiban:...|  NULL|\n",
      "|    651|          Artic|   31630|\"Gyakuten Saiban:...|  NULL|\n",
      "|    791|      Kuisanagi|   31630|\"Gyakuten Saiban:...|  NULL|\n",
      "|    835|    Night_Demon|   31630|\"Gyakuten Saiban:...|  NULL|\n",
      "|    840| Dragon_Empress|   31630|\"Gyakuten Saiban:...|  NULL|\n",
      "|    840| Dragon_Empress|   37490|\"Gyakuten Saiban:...|  NULL|\n",
      "|    859|        Sora_Li|   31630|\"Gyakuten Saiban:...|  NULL|\n",
      "|    916|thesundaywriter|   31630|\"Gyakuten Saiban:...|  NULL|\n",
      "|   1031|   lugiastrikes|   31630|\"Gyakuten Saiban:...|  NULL|\n",
      "|   1125|      Hechizero|   31630|\"Gyakuten Saiban:...|  NULL|\n",
      "|   1125|      Hechizero|   37490|\"Gyakuten Saiban:...|  NULL|\n",
      "|   1185|     AngelIvory|   37490|\"Gyakuten Saiban:...|  NULL|\n",
      "|   1185|     AngelIvory|   31630|\"Gyakuten Saiban:...|  NULL|\n",
      "|   1336|      otaku1699|   31630|\"Gyakuten Saiban:...|  NULL|\n",
      "|   1475|       otaku515|   31630|\"Gyakuten Saiban:...|  NULL|\n",
      "|   1554|        GokuH12|   31630|\"Gyakuten Saiban:...|  NULL|\n",
      "|   1554|        GokuH12|   37490|\"Gyakuten Saiban:...|  NULL|\n",
      "|   1696|        Miyarin|   31630|\"Gyakuten Saiban:...|  NULL|\n",
      "+-------+---------------+--------+--------------------+------+\n",
      "only showing top 20 rows\n",
      "\n"
     ]
    }
   ],
   "source": [
    "df_score.filter(df_score['rating'].isNull()).show()"
   ]
  },
  {
   "cell_type": "code",
   "execution_count": 26,
   "metadata": {},
   "outputs": [],
   "source": [
    "df_score = df_score.na.drop(subset=['rating'])"
   ]
  },
  {
   "cell_type": "code",
   "execution_count": 27,
   "metadata": {},
   "outputs": [],
   "source": [
    "df_score = df_score.filter(df_score['user_id'].isin(user_entry_null_ids) == False)"
   ]
  },
  {
   "cell_type": "code",
   "execution_count": 28,
   "metadata": {},
   "outputs": [
    {
     "name": "stderr",
     "output_type": "stream",
     "text": [
      "                                                                                \r"
     ]
    },
    {
     "data": {
      "text/plain": [
       "24321734"
      ]
     },
     "execution_count": 28,
     "metadata": {},
     "output_type": "execute_result"
    }
   ],
   "source": [
    "df_score.count()"
   ]
  },
  {
   "cell_type": "code",
   "execution_count": 29,
   "metadata": {},
   "outputs": [
    {
     "name": "stderr",
     "output_type": "stream",
     "text": [
      "                                                                                \r"
     ]
    },
    {
     "data": {
      "text/plain": [
       "{'user_id': 0, 'Username': 0, 'anime_id': 0, 'Anime Title': 0, 'rating': 0}"
      ]
     },
     "execution_count": 29,
     "metadata": {},
     "output_type": "execute_result"
    }
   ],
   "source": [
    "# Count number of null values in each column\n",
    "dict_null = { col : df_score.filter(df_score[col].isNull()).count() for col in df_score.columns }\n",
    "dict_null"
   ]
  },
  {
   "cell_type": "code",
   "execution_count": 31,
   "metadata": {},
   "outputs": [
    {
     "name": "stderr",
     "output_type": "stream",
     "text": [
      "                                                                                \r"
     ]
    }
   ],
   "source": [
    "df_score.coalesce(1).write.option(\"header\", True).csv(\"../dataset/myanimelist-dataset/processed-dataset/users-score-2023.csv\")"
   ]
  },
  {
   "cell_type": "markdown",
   "metadata": {},
   "source": [
    "# Data Vizualization"
   ]
  },
  {
   "cell_type": "markdown",
   "metadata": {},
   "source": [
    "## Anime dataset"
   ]
  },
  {
   "cell_type": "code",
   "execution_count": 32,
   "metadata": {},
   "outputs": [
    {
     "name": "stdout",
     "output_type": "stream",
     "text": [
      "+-------+-----+\n",
      "|   Type|count|\n",
      "+-------+-----+\n",
      "|     TV| 7597|\n",
      "|Special| 2558|\n",
      "|UNKNOWN|   74|\n",
      "|    OVA| 4076|\n",
      "|  Music| 2686|\n",
      "|  Movie| 4381|\n",
      "|    ONA| 3533|\n",
      "+-------+-----+\n",
      "\n"
     ]
    }
   ],
   "source": [
    "# Count anime by type\n",
    "test_df = df_anime.groupBy('Type').count()\n",
    "test_df.show()"
   ]
  },
  {
   "cell_type": "code",
   "execution_count": 33,
   "metadata": {},
   "outputs": [
    {
     "data": {
      "text/plain": [
       "[7597, 2558, 74, 4076, 2686, 4381, 3533]"
      ]
     },
     "execution_count": 33,
     "metadata": {},
     "output_type": "execute_result"
    }
   ],
   "source": [
    "test_df.select(F.collect_list('count')).first()[0]"
   ]
  },
  {
   "cell_type": "code",
   "execution_count": 34,
   "metadata": {},
   "outputs": [
    {
     "ename": "ValueError",
     "evalue": "Mime type rendering requires nbformat>=4.2.0 but it is not installed",
     "output_type": "error",
     "traceback": [
      "\u001b[0;31m---------------------------------------------------------------------------\u001b[0m",
      "\u001b[0;31mValueError\u001b[0m                                Traceback (most recent call last)",
      "Cell \u001b[0;32mIn[34], line 10\u001b[0m\n\u001b[1;32m      6\u001b[0m \u001b[38;5;66;03m# Create a bar chart\u001b[39;00m\n\u001b[1;32m      7\u001b[0m fig \u001b[38;5;241m=\u001b[39m px\u001b[38;5;241m.\u001b[39mbar(x\u001b[38;5;241m=\u001b[39mtypes, y\u001b[38;5;241m=\u001b[39mcount_by_types, color\u001b[38;5;241m=\u001b[39mtypes, labels\u001b[38;5;241m=\u001b[39m{\u001b[38;5;124m'\u001b[39m\u001b[38;5;124mx\u001b[39m\u001b[38;5;124m'\u001b[39m:\u001b[38;5;124m'\u001b[39m\u001b[38;5;124mAnime Type\u001b[39m\u001b[38;5;124m'\u001b[39m, \u001b[38;5;124m'\u001b[39m\u001b[38;5;124my\u001b[39m\u001b[38;5;124m'\u001b[39m:\u001b[38;5;124m'\u001b[39m\u001b[38;5;124mCount\u001b[39m\u001b[38;5;124m'\u001b[39m}, \n\u001b[1;32m      8\u001b[0m              title\u001b[38;5;241m=\u001b[39m\u001b[38;5;124m'\u001b[39m\u001b[38;5;124mCount of Anime Titles by Type\u001b[39m\u001b[38;5;124m'\u001b[39m)\n\u001b[0;32m---> 10\u001b[0m \u001b[43mfig\u001b[49m\u001b[38;5;241;43m.\u001b[39;49m\u001b[43mshow\u001b[49m\u001b[43m(\u001b[49m\u001b[43m)\u001b[49m\n",
      "File \u001b[0;32m~/Work/Master/BigData/my-anime-recommendation/.venv/lib/python3.11/site-packages/plotly/basedatatypes.py:3410\u001b[0m, in \u001b[0;36mBaseFigure.show\u001b[0;34m(self, *args, **kwargs)\u001b[0m\n\u001b[1;32m   3377\u001b[0m \u001b[38;5;250m\u001b[39m\u001b[38;5;124;03m\"\"\"\u001b[39;00m\n\u001b[1;32m   3378\u001b[0m \u001b[38;5;124;03mShow a figure using either the default renderer(s) or the renderer(s)\u001b[39;00m\n\u001b[1;32m   3379\u001b[0m \u001b[38;5;124;03mspecified by the renderer argument\u001b[39;00m\n\u001b[0;32m   (...)\u001b[0m\n\u001b[1;32m   3406\u001b[0m \u001b[38;5;124;03mNone\u001b[39;00m\n\u001b[1;32m   3407\u001b[0m \u001b[38;5;124;03m\"\"\"\u001b[39;00m\n\u001b[1;32m   3408\u001b[0m \u001b[38;5;28;01mimport\u001b[39;00m \u001b[38;5;21;01mplotly\u001b[39;00m\u001b[38;5;21;01m.\u001b[39;00m\u001b[38;5;21;01mio\u001b[39;00m \u001b[38;5;28;01mas\u001b[39;00m \u001b[38;5;21;01mpio\u001b[39;00m\n\u001b[0;32m-> 3410\u001b[0m \u001b[38;5;28;01mreturn\u001b[39;00m \u001b[43mpio\u001b[49m\u001b[38;5;241;43m.\u001b[39;49m\u001b[43mshow\u001b[49m\u001b[43m(\u001b[49m\u001b[38;5;28;43mself\u001b[39;49m\u001b[43m,\u001b[49m\u001b[43m \u001b[49m\u001b[38;5;241;43m*\u001b[39;49m\u001b[43margs\u001b[49m\u001b[43m,\u001b[49m\u001b[43m \u001b[49m\u001b[38;5;241;43m*\u001b[39;49m\u001b[38;5;241;43m*\u001b[39;49m\u001b[43mkwargs\u001b[49m\u001b[43m)\u001b[49m\n",
      "File \u001b[0;32m~/Work/Master/BigData/my-anime-recommendation/.venv/lib/python3.11/site-packages/plotly/io/_renderers.py:394\u001b[0m, in \u001b[0;36mshow\u001b[0;34m(fig, renderer, validate, **kwargs)\u001b[0m\n\u001b[1;32m    389\u001b[0m         \u001b[38;5;28;01mraise\u001b[39;00m \u001b[38;5;167;01mValueError\u001b[39;00m(\n\u001b[1;32m    390\u001b[0m             \u001b[38;5;124m\"\u001b[39m\u001b[38;5;124mMime type rendering requires ipython but it is not installed\u001b[39m\u001b[38;5;124m\"\u001b[39m\n\u001b[1;32m    391\u001b[0m         )\n\u001b[1;32m    393\u001b[0m     \u001b[38;5;28;01mif\u001b[39;00m \u001b[38;5;129;01mnot\u001b[39;00m nbformat \u001b[38;5;129;01mor\u001b[39;00m Version(nbformat\u001b[38;5;241m.\u001b[39m__version__) \u001b[38;5;241m<\u001b[39m Version(\u001b[38;5;124m\"\u001b[39m\u001b[38;5;124m4.2.0\u001b[39m\u001b[38;5;124m\"\u001b[39m):\n\u001b[0;32m--> 394\u001b[0m         \u001b[38;5;28;01mraise\u001b[39;00m \u001b[38;5;167;01mValueError\u001b[39;00m(\n\u001b[1;32m    395\u001b[0m             \u001b[38;5;124m\"\u001b[39m\u001b[38;5;124mMime type rendering requires nbformat>=4.2.0 but it is not installed\u001b[39m\u001b[38;5;124m\"\u001b[39m\n\u001b[1;32m    396\u001b[0m         )\n\u001b[1;32m    398\u001b[0m     ipython_display\u001b[38;5;241m.\u001b[39mdisplay(bundle, raw\u001b[38;5;241m=\u001b[39m\u001b[38;5;28;01mTrue\u001b[39;00m)\n\u001b[1;32m    400\u001b[0m \u001b[38;5;66;03m# external renderers\u001b[39;00m\n",
      "\u001b[0;31mValueError\u001b[0m: Mime type rendering requires nbformat>=4.2.0 but it is not installed"
     ]
    }
   ],
   "source": [
    "# Count the number of anime titles by type\n",
    "type_counts = df_anime.groupBy('Type').count()\n",
    "types = type_counts.select(F.collect_list('Type')).first()[0]\n",
    "count_by_types = type_counts.select(F.collect_list('count')).first()[0]\n",
    "\n",
    "# Create a bar chart\n",
    "fig = px.bar(x=types, y=count_by_types, color=types, labels={'x':'Anime Type', 'y':'Count'}, \n",
    "             title='Count of Anime Titles by Type')\n",
    "\n",
    "fig.show()"
   ]
  }
 ],
 "metadata": {
  "kernelspec": {
   "display_name": ".venv",
   "language": "python",
   "name": "python3"
  },
  "language_info": {
   "codemirror_mode": {
    "name": "ipython",
    "version": 3
   },
   "file_extension": ".py",
   "mimetype": "text/x-python",
   "name": "python",
   "nbconvert_exporter": "python",
   "pygments_lexer": "ipython3",
   "version": "3.11.9"
  }
 },
 "nbformat": 4,
 "nbformat_minor": 2
}
