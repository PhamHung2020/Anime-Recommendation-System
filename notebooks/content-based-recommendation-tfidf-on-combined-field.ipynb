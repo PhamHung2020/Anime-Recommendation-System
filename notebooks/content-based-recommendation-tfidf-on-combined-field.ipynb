{
 "cells": [
  {
   "cell_type": "code",
   "execution_count": 1,
   "metadata": {},
   "outputs": [
    {
     "data": {
      "text/html": [
       "        <script type=\"text/javascript\">\n",
       "        window.PlotlyConfig = {MathJaxConfig: 'local'};\n",
       "        if (window.MathJax && window.MathJax.Hub && window.MathJax.Hub.Config) {window.MathJax.Hub.Config({SVG: {font: \"STIX-Web\"}});}\n",
       "        if (typeof require !== 'undefined') {\n",
       "        require.undef(\"plotly\");\n",
       "        requirejs.config({\n",
       "            paths: {\n",
       "                'plotly': ['https://cdn.plot.ly/plotly-2.34.0.min']\n",
       "            }\n",
       "        });\n",
       "        require(['plotly'], function(Plotly) {\n",
       "            window._Plotly = Plotly;\n",
       "        });\n",
       "        }\n",
       "        </script>\n",
       "        "
      ]
     },
     "metadata": {},
     "output_type": "display_data"
    }
   ],
   "source": [
    "# Reading Dataset\n",
    "import numpy as np\n",
    "import pandas as pd\n",
    "\n",
    "# Visualization\n",
    "import plotly.express as px\n",
    "from plotly.offline import init_notebook_mode, iplot\n",
    "init_notebook_mode(connected=True)\n",
    "\n",
    "from datetime import datetime"
   ]
  },
  {
   "cell_type": "code",
   "execution_count": 2,
   "metadata": {},
   "outputs": [
    {
     "name": "stderr",
     "output_type": "stream",
     "text": [
      "24/08/01 09:55:05 WARN Utils: Your hostname, ubuntu20 resolves to a loopback address: 127.0.1.1; using 192.168.0.234 instead (on interface wlp0s20f3)\n",
      "24/08/01 09:55:05 WARN Utils: Set SPARK_LOCAL_IP if you need to bind to another address\n",
      "Setting default log level to \"WARN\".\n",
      "To adjust logging level use sc.setLogLevel(newLevel). For SparkR, use setLogLevel(newLevel).\n",
      "24/08/01 09:55:05 WARN NativeCodeLoader: Unable to load native-hadoop library for your platform... using builtin-java classes where applicable\n"
     ]
    }
   ],
   "source": [
    "# Start spark session\n",
    "from pyspark.sql import SparkSession\n",
    "\n",
    "spark = SparkSession.builder.config(\"spark.driver.memory\", \"10g\").getOrCreate()"
   ]
  },
  {
   "cell_type": "code",
   "execution_count": 3,
   "metadata": {},
   "outputs": [],
   "source": [
    "# Load anime dataset\n",
    "from pyspark.sql.types import StructType, StructField, IntegerType, FloatType, StringType\n",
    "\n",
    "schema = StructType([\n",
    "    StructField(\"anime_id\", IntegerType(), True),\n",
    "    StructField(\"Name\", StringType(), True),\n",
    "    StructField(\"English name\", StringType(), True),\n",
    "    StructField(\"Other name\", StringType(), True),\n",
    "    StructField(\"Score\", FloatType(), True),\n",
    "    StructField(\"Genres\", StringType(), True),\n",
    "    StructField(\"Synopsis\", StringType(), True),\n",
    "    StructField(\"Type\", StringType(), True),\n",
    "    StructField(\"Episodes\", FloatType(), True),\n",
    "    StructField(\"Aired\", StringType(), True),\n",
    "    StructField(\"Premiered\", StringType(), True),\n",
    "    StructField(\"Status\", StringType(), True),\n",
    "    StructField(\"Producers\", StringType(), True),\n",
    "    StructField(\"Licensors\", StringType(), True),\n",
    "    StructField(\"Studios\", StringType(), True),\n",
    "    StructField(\"Source\", StringType(), True),\n",
    "    StructField(\"Duration\", StringType(), True),\n",
    "    StructField(\"Rating\", StringType(), True),\n",
    "    StructField(\"Rank\", FloatType(), True),\n",
    "    StructField(\"Popularity\", IntegerType(), True),\n",
    "    StructField(\"Favorites\", IntegerType(), True),\n",
    "    StructField(\"Scored By\", FloatType(), True),\n",
    "    StructField(\"Members\", FloatType(), True),\n",
    "    StructField(\"Image URL\", StringType(), True),\n",
    "])\n",
    "\n",
    "df_anime = spark.read.csv('../dataset/myanimelist-dataset/processed-dataset/anime-dataset-2023.csv', header=True, schema=schema, multiLine=True, quote='\\\"', escape='\\\"')"
   ]
  },
  {
   "cell_type": "code",
   "execution_count": 4,
   "metadata": {},
   "outputs": [],
   "source": [
    "# Importing user details dataset\n",
    "schema = StructType([\n",
    "    StructField(\"Mal ID\", IntegerType(), True),\n",
    "    StructField(\"Username\", StringType(), True),\n",
    "    StructField(\"Gender\", StringType(), True),\n",
    "    StructField(\"Birthday\", StringType(), True),\n",
    "    StructField(\"Location\", StringType(), True),\n",
    "    StructField(\"Joined\", StringType(), True),\n",
    "    StructField(\"Days Watched\", FloatType(), True),\n",
    "    StructField(\"Mean Score\", FloatType(), True),\n",
    "    StructField(\"Watching\", FloatType(), True),\n",
    "    StructField(\"Completed\", FloatType(), True),\n",
    "    StructField(\"On Hold\", FloatType(), True),\n",
    "    StructField(\"Dropped\", FloatType(), True),\n",
    "    StructField(\"Plan to Watch\", FloatType(), True),\n",
    "    StructField(\"Total Entries\", FloatType(), True),\n",
    "    StructField(\"Rewatched\", FloatType(), True),\n",
    "    StructField(\"Episodes Watched\", FloatType(), True)\n",
    "])\n",
    "\n",
    "df_user = spark.read.csv(\"../dataset/myanimelist-dataset/processed-dataset/users-details-2023.csv\", header=True, schema=schema)"
   ]
  },
  {
   "cell_type": "code",
   "execution_count": 5,
   "metadata": {},
   "outputs": [],
   "source": [
    "# Importing user score dataset\n",
    "schema = StructType([\n",
    "    StructField(\"user_id\", IntegerType(), True),\n",
    "    StructField(\"Username\", StringType(), True),\n",
    "    StructField(\"anime_id\", IntegerType(), True),\n",
    "    StructField(\"Anime Title\", StringType(), True),\n",
    "    StructField(\"rating\", IntegerType(), True)\n",
    "])\n",
    "\n",
    "df_score = spark.read.csv(\"../dataset/myanimelist-dataset/processed-dataset/users-score-2023.csv\", header=True, schema=schema)"
   ]
  },
  {
   "cell_type": "code",
   "execution_count": 6,
   "metadata": {},
   "outputs": [],
   "source": [
    "import pyspark.sql.functions as f"
   ]
  },
  {
   "cell_type": "code",
   "execution_count": 7,
   "metadata": {},
   "outputs": [
    {
     "name": "stdout",
     "output_type": "stream",
     "text": [
      "+--------+--------------------+--------------------+------------------------------+-----+--------------------+--------------------+-----+--------+--------------------+-----------+----------------+--------------------+--------------------+----------------+-----------+-------------+--------------------+------+----------+---------+---------+---------+--------------------+\n",
      "|anime_id|                Name|        English name|                    Other name|Score|              Genres|            Synopsis| Type|Episodes|               Aired|  Premiered|          Status|           Producers|           Licensors|         Studios|     Source|     Duration|              Rating|  Rank|Popularity|Favorites|Scored By|  Members|           Image URL|\n",
      "+--------+--------------------+--------------------+------------------------------+-----+--------------------+--------------------+-----+--------+--------------------+-----------+----------------+--------------------+--------------------+----------------+-----------+-------------+--------------------+------+----------+---------+---------+---------+--------------------+\n",
      "|       1|        Cowboy Bebop|        Cowboy Bebop|            カウボーイビバップ| 8.75|Action, Award Win...|Crime is timeless...|   TV|    26.0|Apr 3, 1998 to Ap...|spring 1998| Finished Airing|       Bandai Visual|Funimation, Banda...|         Sunrise|   Original|24 min per ep|R - 17+ (violence...|  41.0|        43|    78525| 914193.0|1771505.0|https://cdn.myani...|\n",
      "|       5|Cowboy Bebop: Ten...|Cowboy Bebop: The...|   カウボーイビバップ 天国の扉| 8.38|      Action, Sci-Fi|Another day, anot...|Movie|     1.0|         Sep 1, 2001|    UNKNOWN| Finished Airing|Sunrise, Bandai V...|Sony Pictures Ent...|           Bones|   Original|  1 hr 55 min|R - 17+ (violence...| 189.0|       602|     1448| 206248.0| 360978.0|https://cdn.myani...|\n",
      "|       6|              Trigun|              Trigun|                    トライガン| 8.22|Action, Adventure...|Vash the Stampede...|   TV|    26.0|Apr 1, 1998 to Se...|spring 1998| Finished Airing|Victor Entertainment|Funimation, Geneo...|        Madhouse|      Manga|24 min per ep|PG-13 - Teens 13 ...| 328.0|       246|    15035| 356739.0| 727252.0|https://cdn.myani...|\n",
      "|       7|  Witch Hunter Robin|  Witch Hunter Robin|          Witch Hunter ROBI...| 7.25|Action, Drama, My...|Robin Sena is a p...|   TV|    26.0|Jul 3, 2002 to De...|summer 2002| Finished Airing|Bandai Visual, De...|Funimation, Banda...|         Sunrise|   Original|25 min per ep|PG-13 - Teens 13 ...|2764.0|      1795|      613|  42829.0| 111931.0|https://cdn.myani...|\n",
      "|       8|      Bouken Ou Beet|Beet the Vandel B...|                  冒険王ビィト| 6.94|Adventure, Fantas...|It is the dark ce...|   TV|    52.0|Sep 30, 2004 to S...|  fall 2004| Finished Airing|    TV Tokyo, Dentsu|Illumitoon Entert...|  Toei Animation|      Manga|23 min per ep|       PG - Children|4240.0|      5126|       14|   6413.0|  15001.0|https://cdn.myani...|\n",
      "|      15|        Eyeshield 21|             UNKNOWN|                アイシールド21| 7.92|              Sports|Shy, reserved, an...|   TV|   145.0|Apr 6, 2005 to Ma...|spring 2005| Finished Airing|TV Tokyo, Nihon A...|VIZ Media, Sentai...|          Gallop|      Manga|23 min per ep|PG-13 - Teens 13 ...| 688.0|      1252|     1997|  86524.0| 177688.0|https://cdn.myani...|\n",
      "|      16|Hachimitsu to Clover|    Honey and Clover|          ハチミツとクローバー|  8.0|Comedy, Drama, Ro...|Yuuta Takemoto, a...|   TV|    24.0|Apr 15, 2005 to S...|spring 2005| Finished Airing|Dentsu, Genco, Fu...|VIZ Media, Discot...|       J.C.Staff|      Manga|23 min per ep|PG-13 - Teens 13 ...| 589.0|       862|     4136|  81747.0| 260166.0|https://cdn.myani...|\n",
      "|      17|Hungry Heart: Wil...|             UNKNOWN|  ハングリーハート Wild Str...| 7.55|Comedy, Slice of ...|As the younger br...|   TV|    52.0|Sep 11, 2002 to S...|  fall 2002| Finished Airing|             UNKNOWN|             UNKNOWN|Nippon Animation|      Manga|23 min per ep|PG-13 - Teens 13 ...|1551.0|      4212|      237|  12960.0|  24172.0|https://cdn.myani...|\n",
      "|      18|Initial D Fourth ...|             UNKNOWN|頭文字〈イニシャル〉D FOURT...| 8.16|       Action, Drama|Takumi Fujiwara f...|   TV|    24.0|Apr 17, 2004 to F...|spring 2004| Finished Airing|OB Planning, Stud...|          Funimation|        A.C.G.T.|      Manga|27 min per ep|PG-13 - Teens 13 ...| 393.0|      1273|     1237|  97878.0| 173710.0|https://cdn.myani...|\n",
      "|      19|             Monster|             Monster|                    モンスター| 8.87|Drama, Mystery, S...|Dr. Kenzou Tenma,...|   TV|    74.0|Apr 7, 2004 to Se...|spring 2004| Finished Airing|VAP, Shogakukan-S...|           VIZ Media|        Madhouse|      Manga|24 min per ep|    R+ - Mild Nudity|  26.0|       142|    47235| 368569.0|1013100.0|https://cdn.myani...|\n",
      "|      20|              Naruto|              Naruto|                        ナルト| 7.99|Action, Adventure...|Moments prior to ...|   TV|   220.0|Oct 3, 2002 to Fe...|  fall 2002| Finished Airing|TV Tokyo, Aniplex...|           VIZ Media|         Pierrot|      Manga|23 min per ep|PG-13 - Teens 13 ...| 599.0|         8|    76343|1883772.0|2717330.0|https://cdn.myani...|\n",
      "|      21|           One Piece|           One Piece|                     ONE PIECE| 8.69|Action, Adventure...|Gol D. Roger was ...|   TV|    NULL|   Oct 20, 1999 to ?|  fall 1999|Currently Airing|Fuji TV, TAP, Shu...|Funimation, 4Kids...|  Toei Animation|      Manga|       24 min|PG-13 - Teens 13 ...|  55.0|        20|   198986|1226493.0|2168904.0|https://cdn.myani...|\n",
      "|      22| Tennis no Ouji-sama|The Prince of Tennis|                テニスの王子様| 7.86|              Sports|At the request of...|   TV|   178.0|Oct 10, 2001 to M...|  fall 2001| Finished Airing|Production I.G, N...|Funimation, VIZ M...|      Trans Arts|      Manga|22 min per ep|PG-13 - Teens 13 ...| 805.0|      1246|     3004|  81992.0| 178273.0|https://cdn.myani...|\n",
      "|      23|    Ring ni Kakero 1|             UNKNOWN|              リングにかけろ１| 6.39|      Action, Sports|In order to fulfi...|   TV|    12.0|Oct 6, 2004 to De...|  fall 2004| Finished Airing|             UNKNOWN|             UNKNOWN|  Toei Animation|      Manga|25 min per ep|       PG - Children|6943.0|      8288|        6|   1378.0|   4581.0|https://cdn.myani...|\n",
      "|      24|       School Rumble|       School Rumble|              スクールランブル| 7.89|     Comedy, Romance|Just the words \"I...|   TV|    26.0|Oct 5, 2004 to Ma...|  fall 2004| Finished Airing|TV Tokyo, Sotsu, ...|          Funimation|    Studio Comet|      Manga|23 min per ep|PG-13 - Teens 13 ...| 756.0|       687|     5139| 146597.0| 320203.0|https://cdn.myani...|\n",
      "|      25|           Sunabouzu|         Desert Punk|                      砂ぼうず| 7.38|Action, Adventure...|The Great Kanto D...|   TV|    24.0|Oct 6, 2004 to Ma...|  fall 2004| Finished Airing|GDH, Pony Canyon,...|          Funimation|           Gonzo|      Manga|24 min per ep|R - 17+ (violence...|2167.0|      1546|      822|  53709.0| 134894.0|https://cdn.myani...|\n",
      "|      26|          Texhnolyze|          Texhnolyze|                    TEXHNOLYZE| 7.76|Action, Drama, Sc...|In the dark under...|   TV|    22.0|Apr 17, 2003 to S...|spring 2003| Finished Airing|Group TAC, Rondo ...|Funimation, Geneo...|        Madhouse|   Original|23 min per ep|    R+ - Mild Nudity| 990.0|       935|     4786|  54857.0| 239423.0|https://cdn.myani...|\n",
      "|      27|       Trinity Blood|       Trinity Blood|          トリニティ・ブラッド| 7.29|Action, Supernatural|Following Armaged...|   TV|    24.0|Apr 29, 2005 to O...|spring 2005| Finished Airing|             UNKNOWN|          Funimation|           Gonzo|Light novel|24 min per ep|R - 17+ (violence...|2591.0|      1233|     1298|  79130.0| 179583.0|https://cdn.myani...|\n",
      "|      28|    Yakitate!! Japan|    Yakitate!! Japan|           焼きたて!! ジャぱん| 7.91|     Comedy, Gourmet|While countries s...|   TV|    69.0|Oct 12, 2004 to M...|  fall 2004| Finished Airing|TV Tokyo, Aniplex...|Nozomi Entertainment|         Sunrise|      Manga|24 min per ep|PG-13 - Teens 13 ...| 704.0|      1992|      897|  40492.0|  95380.0|https://cdn.myani...|\n",
      "|      29|              Zipang|             UNKNOWN|                      ジパング| 7.48|Action, Drama, Sc...|Mirai, an improve...|   TV|    26.0|Oct 8, 2004 to Ap...|  fall 2004| Finished Airing|      Marvelous, TBS|Geneon Entertainm...|     Studio Deen|      Manga|24 min per ep|PG-13 - Teens 13 ...|1778.0|      4430|      180|   7273.0|  21391.0|https://cdn.myani...|\n",
      "+--------+--------------------+--------------------+------------------------------+-----+--------------------+--------------------+-----+--------+--------------------+-----------+----------------+--------------------+--------------------+----------------+-----------+-------------+--------------------+------+----------+---------+---------+---------+--------------------+\n",
      "only showing top 20 rows\n",
      "\n"
     ]
    }
   ],
   "source": [
    "df_anime = df_anime.filter(~f.col('Genres').contains('UNKNOWN')).filter(~f.col('Studios').contains('UNKNOWN'))\n",
    "df_anime.show()"
   ]
  },
  {
   "cell_type": "code",
   "execution_count": 8,
   "metadata": {},
   "outputs": [
    {
     "name": "stdout",
     "output_type": "stream",
     "text": [
      "+--------+-------------------------------+------------------------------------+-----------------------------------------------------------------------------------------------------------------------------------------------------------------------------------------------------------------------------------------------------------------------------------------------------------------------------------------------------------------------------------------------------------------------------------------------------------------------------------------------------------------------------------------------------------------------------------------------------------------------------------------------------------------------------------------------------------------------------------------------------------------------------------------------------------------------------------------------------------------------------------------------------------------------------------------------------------------------------------------------------------------------------------------------------------------------------------------------------------------------------------------------------------------------------------------------------------------------------------------------------------------------------------------------------------------------------------------------------------------------------------------------------------------------+----------------+\n",
      "|anime_id|Name                           |Genres                              |Synopsis                                                                                                                                                                                                                                                                                                                                                                                                                                                                                                                                                                                                                                                                                                                                                                                                                                                                                                                                                                                                                                                                                                                                                                                                                                                                                                                                                                                                               |Studios         |\n",
      "+--------+-------------------------------+------------------------------------+-----------------------------------------------------------------------------------------------------------------------------------------------------------------------------------------------------------------------------------------------------------------------------------------------------------------------------------------------------------------------------------------------------------------------------------------------------------------------------------------------------------------------------------------------------------------------------------------------------------------------------------------------------------------------------------------------------------------------------------------------------------------------------------------------------------------------------------------------------------------------------------------------------------------------------------------------------------------------------------------------------------------------------------------------------------------------------------------------------------------------------------------------------------------------------------------------------------------------------------------------------------------------------------------------------------------------------------------------------------------------------------------------------------------------+----------------+\n",
      "|1       |Cowboy Bebop                   |Action, Award Winning, Sci-Fi       |Crime is timeless. By the year 2071, humanity has expanded across the galaxy, filling the surface of other planets with settlements like those on Earth. These new societies are plagued by murder, drug use, and theft, and intergalactic outlaws are hunted by a growing number of tough bounty hunters.\\n\\nSpike Spiegel and Jet Black pursue criminals throughout space to make a humble living. Beneath his goofy and aloof demeanor, Spike is haunted by the weight of his violent past. Meanwhile, Jet manages his own troubled memories while taking care of Spike and the Bebop, their ship. The duo is joined by the beautiful con artist Faye Valentine, odd child Edward Wong Hau Pepelu Tivrusky IV, and Ein, a bioengineered Welsh Corgi.\\n\\nWhile developing bonds and working to catch a colorful cast of criminals, the Bebop crew's lives are disrupted by a menace from Spike's past. As a rival's maniacal plot continues to unravel, Spike must choose between life with his newfound family or revenge for his old wounds.                                                                                                                                                                                                                                                                                                                                                                       |Sunrise         |\n",
      "|5       |Cowboy Bebop: Tengoku no Tobira|Action, Sci-Fi                      |Another day, another bounty—such is the life of the often unlucky crew of the Bebop. However, this routine is interrupted when Faye, who is chasing a fairly worthless target on Mars, witnesses an oil tanker suddenly explode, causing mass hysteria. As casualties mount due to a strange disease spreading through the smoke from the blast, a whopping three hundred million woolong price is placed on the head of the supposed perpetrator.\\n\\nWith lives at stake and a solution to their money problems in sight, the Bebop crew springs into action. Spike, Jet, Faye, and Edward, followed closely by Ein, split up to pursue different leads across Alba City. Through their individual investigations, they discover a cover-up scheme involving a pharmaceutical company, revealing a plot that reaches much further than the ragtag team of bounty hunters could have realized.                                                                                                                                                                                                                                                                                                                                                                                                                                                                                                                         |Bones           |\n",
      "|6       |Trigun                         |Action, Adventure, Sci-Fi           |Vash the Stampede is the man with a $$60,000,000,000 bounty on his head. The reason: he's a merciless villain who lays waste to all those that oppose him and flattens entire cities for fun, garnering him the title \"The Humanoid Typhoon.\" He leaves a trail of death and destruction wherever he goes, and anyone can count themselves dead if they so much as make eye contact—or so the rumors say. In actuality, Vash is a huge softie who claims to have never taken a life and avoids violence at all costs.\\n\\nWith his crazy doughnut obsession and buffoonish attitude in tow, Vash traverses the wasteland of the planet Gunsmoke, all the while followed by two insurance agents, Meryl Stryfe and Milly Thompson, who attempt to minimize his impact on the public. But soon, their misadventures evolve into life-or-death situations as a group of legendary assassins are summoned to bring about suffering to the trio. Vash's agonizing past will be unraveled and his morality and principles pushed to the breaking point.                                                                                                                                                                                                                                                                                                                                                                       |Madhouse        |\n",
      "|7       |Witch Hunter Robin             |Action, Drama, Mystery, Supernatural|Robin Sena is a powerful craft user drafted into the STNJ—a group of specialized hunters that fight deadly beings known as Witches. Though her fire power is great, she's got a lot to learn about her powers and working with her cool and aloof partner, Amon. But the truth about the Witches and herself will leave Robin on an entirely new path that she never expected!\\n\\n(Source: Funimation)                                                                                                                                                                                                                                                                                                                                                                                                                                                                                                                                                                                                                                                                                                                                                                                                                                                                                                                                                                                                                 |Sunrise         |\n",
      "|8       |Bouken Ou Beet                 |Adventure, Fantasy, Supernatural    |It is the dark century and the people are suffering under the rule of the devil, Vandel, who is able to manipulate monsters. The Vandel Busters are a group of people who hunt these devils, and among them, the Zenon Squad is known to be the strongest busters on the continent. A young boy, Beet, dreams of joining the Zenon Squad. However, one day, as a result of Beet's fault, the Zenon squad was defeated by the devil, Beltose. The five dying busters sacrificed their life power into their five weapons, Saiga. After giving their weapons to Beet, they passed away. Years have passed since then and the young Vandel Buster, Beet, begins his adventure to carry out the Zenon Squad's will to put an end to the dark century.                                                                                                                                                                                                                                                                                                                                                                                                                                                                                                                                                                                                                                                                      |Toei Animation  |\n",
      "|15      |Eyeshield 21                   |Sports                              |Shy, reserved, and small-statured, Deimon High School student Sena Kobayakawa is the perfect target for bullies. However, as a result of running errands throughout his life, Sena has become agile and developed a skill for avoiding crowds of people. After the cunning Youichi Hiruma—captain of the Deimon Devil Bats football team—witnesses Sena's rapid legs in motion, he coerces the timid boy into joining his squad.\\n\\nAs Hiruma wants to conceal Sena's identity from other clubs, Sena is forced to hide under the visored helmet of \"Eyeshield 21,\" a mysterious running back wearing the number 21 jersey. The legendary Eyeshield 21 can supposedly run at the speed of light and has achieved remarkable feats in the United States during his time at the Notre Dame College.\\n\\nAccustomed to avoiding his problems in the past, Sena's specialty might just help him become the new secret weapon of the Deimon Devil Bats. As he interacts with his teammates, Sena gradually gains more self-confidence and forges valuable bonds along the way.                                                                                                                                                                                                                                                                                                                                               |Gallop          |\n",
      "|16      |Hachimitsu to Clover           |Comedy, Drama, Romance              |Yuuta Takemoto, a sophomore at an arts college, shares a cheap apartment with two seniors—the eccentric Shinobu Morita, who keeps failing to graduate due to his absenteeism, and the sensible Takumi Mayama, who acts as a proper senior to Takemoto, often looking out for him.\\n\\nTakemoto had not given much thought to his future until one fine spring day, when he meets the endearing Hagumi Hanamoto and falls in love at first sight. Incredibly gifted in the arts, Hagumi enrolls in Takemoto's university and soon befriends the popular pottery student Ayumi Yamada. Ayumi is already well acquainted with the three flatmates and secretly harbors deep feelings for one of them.\\n\\nHachimitsu to Clover is a heartwarming tale of youth, love, soul-searching, and self-discovery, intricately woven through the complex relationships between five dear friends.                                                                                                                                                                                                                                                                                                                                                                                                                                                                                                                                    |J.C.Staff       |\n",
      "|17      |Hungry Heart: Wild Striker     |Comedy, Slice of Life, Sports       |As the younger brother of Japanese soccer star Seisuke Kanou, Kyousuke was always expected to grow as a soccer player at the same pace his brother did—an expectation that proved too difficult to meet. Having fallen behind, he now lives in the shadow of his brother's success.\\n\\nEntering his freshman year at Jouyou Akanegaoka High School, Kyousuke vows never to play soccer again. However, Miki Tsujiwaki, the captain of the girls' soccer team, and Mori Kazuto, the manager of the boys' team, recognize Kyousuke's potential and want to see his return to the game for their own reasons.\\n\\nWith an opportunity to play soccer again, Kyousuke must either remain steadfast in his decision to abandon the sport he once loved, or allow himself to reignite that flame to become the best striker in the world.                                                                                                                                                                                                                                                                                                                                                                                                                                                                                                                                                                                     |Nippon Animation|\n",
      "|18      |Initial D Fourth Stage         |Action, Drama                       |Takumi Fujiwara finally joins Ryousuke and Keisuke Takahashi to create \"Project D.\" Their goal is twofold: Ryousuke wants to develop his \"High-Speed Street Racing Theory,\" while Keisuke and Takumi aim at improving their driving skills by facing powerful opponents on dangerous roads. The idea of Project D is to challenge street racing teams from other prefectures to improve both their uphill and downhill records. In order to attract the attention of the best racing teams, Ryousuke creates a dedicated website to announce the future battles of Project D and post the team's results.\\n\\nThe fourth season of Initial D details the hardships and successes of the members of Project D as they try to become the best street racing team outside of Gunma Prefecture.                                                                                                                                                                                                                                                                                                                                                                                                                                                                                                                                                                                                                             |A.C.G.T.        |\n",
      "|19      |Monster                        |Drama, Mystery, Suspense            |Dr. Kenzou Tenma, an elite neurosurgeon recently engaged to his hospital director's daughter, is well on his way to ascending the hospital hierarchy. That is until one night, a seemingly small event changes Dr. Tenma's life forever. While preparing to perform surgery on someone, he gets a call from the hospital director telling him to switch patients and instead perform life-saving brain surgery on a famous performer. His fellow doctors, fiancée, and the hospital director applaud his accomplishment; but because of the switch, a poor immigrant worker is dead, causing Dr. Tenma to have a crisis of conscience.\\n\\nSo when a similar situation arises, Dr. Tenma stands his ground and chooses to perform surgery on the young boy Johan Liebert instead of the town's mayor. Unfortunately, this choice leads to serious ramifications for Dr. Tenma—losing his social standing being one of them. However, with the mysterious death of the director and two other doctors, Dr. Tenma's position is restored. With no evidence to convict him, he is released and goes on to attain the position of hospital director. \\n\\nNine years later when Dr. Tenma saves the life of a criminal, his past comes back to haunt him—once again, he comes face to face with the monster he operated on. He must now embark on a quest of pursuit to make amends for the havoc spread by the one he saved.|Madhouse        |\n",
      "+--------+-------------------------------+------------------------------------+-----------------------------------------------------------------------------------------------------------------------------------------------------------------------------------------------------------------------------------------------------------------------------------------------------------------------------------------------------------------------------------------------------------------------------------------------------------------------------------------------------------------------------------------------------------------------------------------------------------------------------------------------------------------------------------------------------------------------------------------------------------------------------------------------------------------------------------------------------------------------------------------------------------------------------------------------------------------------------------------------------------------------------------------------------------------------------------------------------------------------------------------------------------------------------------------------------------------------------------------------------------------------------------------------------------------------------------------------------------------------------------------------------------------------+----------------+\n",
      "only showing top 10 rows\n",
      "\n"
     ]
    }
   ],
   "source": [
    "df_anime_reduced = df_anime.select('anime_id', 'Name', 'Genres', 'Synopsis', 'Studios')\n",
    "df_anime_reduced.show(10, truncate=False)"
   ]
  },
  {
   "cell_type": "code",
   "execution_count": 9,
   "metadata": {},
   "outputs": [],
   "source": [
    "from pyspark.ml.feature import HashingTF, IDF, Tokenizer, RegexTokenizer, StopWordsRemover\n",
    "from pyspark.sql.types import ArrayType"
   ]
  },
  {
   "cell_type": "code",
   "execution_count": 10,
   "metadata": {},
   "outputs": [],
   "source": [
    "nameRegexTokenizer = RegexTokenizer(inputCol=\"Name\", outputCol=\"Name_tokens\", pattern=\"[a-zA-Z0-9-_]+\", gaps=False)\n",
    "df_anime_reduced = nameRegexTokenizer.transform(df_anime_reduced)"
   ]
  },
  {
   "cell_type": "code",
   "execution_count": 11,
   "metadata": {},
   "outputs": [
    {
     "name": "stdout",
     "output_type": "stream",
     "text": [
      "+--------+--------------------+--------------------+--------------------+----------------+--------------------+\n",
      "|anime_id|                Name|              Genres|            Synopsis|         Studios|         Name_tokens|\n",
      "+--------+--------------------+--------------------+--------------------+----------------+--------------------+\n",
      "|       1|        Cowboy Bebop|Action, Award Win...|Crime is timeless...|         Sunrise|     [cowboy, bebop]|\n",
      "|       5|Cowboy Bebop: Ten...|      Action, Sci-Fi|Another day, anot...|           Bones|[cowboy, bebop, t...|\n",
      "|       6|              Trigun|Action, Adventure...|Vash the Stampede...|        Madhouse|            [trigun]|\n",
      "|       7|  Witch Hunter Robin|Action, Drama, My...|Robin Sena is a p...|         Sunrise|[witch, hunter, r...|\n",
      "|       8|      Bouken Ou Beet|Adventure, Fantas...|It is the dark ce...|  Toei Animation|  [bouken, ou, beet]|\n",
      "|      15|        Eyeshield 21|              Sports|Shy, reserved, an...|          Gallop|     [eyeshield, 21]|\n",
      "|      16|Hachimitsu to Clover|Comedy, Drama, Ro...|Yuuta Takemoto, a...|       J.C.Staff|[hachimitsu, to, ...|\n",
      "|      17|Hungry Heart: Wil...|Comedy, Slice of ...|As the younger br...|Nippon Animation|[hungry, heart, w...|\n",
      "|      18|Initial D Fourth ...|       Action, Drama|Takumi Fujiwara f...|        A.C.G.T.|[initial, d, four...|\n",
      "|      19|             Monster|Drama, Mystery, S...|Dr. Kenzou Tenma,...|        Madhouse|           [monster]|\n",
      "+--------+--------------------+--------------------+--------------------+----------------+--------------------+\n",
      "only showing top 10 rows\n",
      "\n"
     ]
    }
   ],
   "source": [
    "df_anime_reduced.show(10)"
   ]
  },
  {
   "cell_type": "code",
   "execution_count": 14,
   "metadata": {},
   "outputs": [],
   "source": [
    "# udf to remove \"-\" and \"_\" from the tokens\n",
    "import re\n",
    "remove_hyphen_udf = f.udf(lambda x: [re.sub('[-|_]', '', word) for word in x], ArrayType(StringType()))"
   ]
  },
  {
   "cell_type": "code",
   "execution_count": 15,
   "metadata": {},
   "outputs": [],
   "source": [
    "df_anime_reduced = df_anime_reduced.withColumn('Name_tokens', remove_hyphen_udf(f.col('Name_tokens')))"
   ]
  },
  {
   "cell_type": "code",
   "execution_count": 16,
   "metadata": {},
   "outputs": [
    {
     "name": "stdout",
     "output_type": "stream",
     "text": [
      "+--------+--------------------+--------------------+--------------------+----------------+--------------------+\n",
      "|anime_id|                Name|              Genres|            Synopsis|         Studios|         Name_tokens|\n",
      "+--------+--------------------+--------------------+--------------------+----------------+--------------------+\n",
      "|       1|        Cowboy Bebop|Action, Award Win...|Crime is timeless...|         Sunrise|     [cowboy, bebop]|\n",
      "|       5|Cowboy Bebop: Ten...|      Action, Sci-Fi|Another day, anot...|           Bones|[cowboy, bebop, t...|\n",
      "|       6|              Trigun|Action, Adventure...|Vash the Stampede...|        Madhouse|            [trigun]|\n",
      "|       7|  Witch Hunter Robin|Action, Drama, My...|Robin Sena is a p...|         Sunrise|[witch, hunter, r...|\n",
      "|       8|      Bouken Ou Beet|Adventure, Fantas...|It is the dark ce...|  Toei Animation|  [bouken, ou, beet]|\n",
      "|      15|        Eyeshield 21|              Sports|Shy, reserved, an...|          Gallop|     [eyeshield, 21]|\n",
      "|      16|Hachimitsu to Clover|Comedy, Drama, Ro...|Yuuta Takemoto, a...|       J.C.Staff|[hachimitsu, to, ...|\n",
      "|      17|Hungry Heart: Wil...|Comedy, Slice of ...|As the younger br...|Nippon Animation|[hungry, heart, w...|\n",
      "|      18|Initial D Fourth ...|       Action, Drama|Takumi Fujiwara f...|        A.C.G.T.|[initial, d, four...|\n",
      "|      19|             Monster|Drama, Mystery, S...|Dr. Kenzou Tenma,...|        Madhouse|           [monster]|\n",
      "+--------+--------------------+--------------------+--------------------+----------------+--------------------+\n",
      "only showing top 10 rows\n",
      "\n"
     ]
    },
    {
     "name": "stderr",
     "output_type": "stream",
     "text": [
      "                                                                                \r"
     ]
    }
   ],
   "source": [
    "df_anime_reduced.show(10)"
   ]
  },
  {
   "cell_type": "code",
   "execution_count": 17,
   "metadata": {},
   "outputs": [],
   "source": [
    "nameRemover = StopWordsRemover(inputCol=\"Name_tokens\", outputCol=\"Name_tokens_removed\")\n",
    "nameRemover.loadDefaultStopWords('english')\n",
    "df_anime_reduced = nameRemover.transform(df_anime_reduced)"
   ]
  },
  {
   "cell_type": "code",
   "execution_count": 18,
   "metadata": {},
   "outputs": [
    {
     "name": "stdout",
     "output_type": "stream",
     "text": [
      "+-------------------------------+--------------------------------+\n",
      "|Name                           |Name_tokens_removed             |\n",
      "+-------------------------------+--------------------------------+\n",
      "|Cowboy Bebop                   |[cowboy, bebop]                 |\n",
      "|Cowboy Bebop: Tengoku no Tobira|[cowboy, bebop, tengoku, tobira]|\n",
      "|Trigun                         |[trigun]                        |\n",
      "|Witch Hunter Robin             |[witch, hunter, robin]          |\n",
      "|Bouken Ou Beet                 |[bouken, ou, beet]              |\n",
      "|Eyeshield 21                   |[eyeshield, 21]                 |\n",
      "|Hachimitsu to Clover           |[hachimitsu, clover]            |\n",
      "|Hungry Heart: Wild Striker     |[hungry, heart, wild, striker]  |\n",
      "|Initial D Fourth Stage         |[initial, d, fourth, stage]     |\n",
      "|Monster                        |[monster]                       |\n",
      "|Naruto                         |[naruto]                        |\n",
      "|One Piece                      |[one, piece]                    |\n",
      "|Tennis no Ouji-sama            |[tennis, oujisama]              |\n",
      "|Ring ni Kakero 1               |[ring, ni, kakero, 1]           |\n",
      "|School Rumble                  |[school, rumble]                |\n",
      "|Sunabouzu                      |[sunabouzu]                     |\n",
      "|Texhnolyze                     |[texhnolyze]                    |\n",
      "|Trinity Blood                  |[trinity, blood]                |\n",
      "|Yakitate!! Japan               |[yakitate, japan]               |\n",
      "|Zipang                         |[zipang]                        |\n",
      "+-------------------------------+--------------------------------+\n",
      "only showing top 20 rows\n",
      "\n"
     ]
    }
   ],
   "source": [
    "df_anime_reduced.select('Name', 'Name_tokens_removed').show(20, truncate=False)"
   ]
  },
  {
   "cell_type": "code",
   "execution_count": 19,
   "metadata": {},
   "outputs": [],
   "source": [
    "regexTokenizer = RegexTokenizer(inputCol=\"Synopsis\", outputCol=\"Synopsis_tokens\", pattern=\"[a-zA-Z0-9-_]+\", gaps=False)\n",
    "df_anime_reduced = regexTokenizer.transform(df_anime_reduced)"
   ]
  },
  {
   "cell_type": "code",
   "execution_count": 20,
   "metadata": {},
   "outputs": [
    {
     "name": "stdout",
     "output_type": "stream",
     "text": [
      "+--------+--------------------+--------------------+--------------------+----------------+--------------------+--------------------+--------------------+\n",
      "|anime_id|                Name|              Genres|            Synopsis|         Studios|         Name_tokens| Name_tokens_removed|     Synopsis_tokens|\n",
      "+--------+--------------------+--------------------+--------------------+----------------+--------------------+--------------------+--------------------+\n",
      "|       1|        Cowboy Bebop|Action, Award Win...|Crime is timeless...|         Sunrise|     [cowboy, bebop]|     [cowboy, bebop]|[crime, is, timel...|\n",
      "|       5|Cowboy Bebop: Ten...|      Action, Sci-Fi|Another day, anot...|           Bones|[cowboy, bebop, t...|[cowboy, bebop, t...|[another, day, an...|\n",
      "|       6|              Trigun|Action, Adventure...|Vash the Stampede...|        Madhouse|            [trigun]|            [trigun]|[vash, the, stamp...|\n",
      "|       7|  Witch Hunter Robin|Action, Drama, My...|Robin Sena is a p...|         Sunrise|[witch, hunter, r...|[witch, hunter, r...|[robin, sena, is,...|\n",
      "|       8|      Bouken Ou Beet|Adventure, Fantas...|It is the dark ce...|  Toei Animation|  [bouken, ou, beet]|  [bouken, ou, beet]|[it, is, the, dar...|\n",
      "|      15|        Eyeshield 21|              Sports|Shy, reserved, an...|          Gallop|     [eyeshield, 21]|     [eyeshield, 21]|[shy, reserved, a...|\n",
      "|      16|Hachimitsu to Clover|Comedy, Drama, Ro...|Yuuta Takemoto, a...|       J.C.Staff|[hachimitsu, to, ...|[hachimitsu, clover]|[yuuta, takemoto,...|\n",
      "|      17|Hungry Heart: Wil...|Comedy, Slice of ...|As the younger br...|Nippon Animation|[hungry, heart, w...|[hungry, heart, w...|[as, the, younger...|\n",
      "|      18|Initial D Fourth ...|       Action, Drama|Takumi Fujiwara f...|        A.C.G.T.|[initial, d, four...|[initial, d, four...|[takumi, fujiwara...|\n",
      "|      19|             Monster|Drama, Mystery, S...|Dr. Kenzou Tenma,...|        Madhouse|           [monster]|           [monster]|[dr, kenzou, tenm...|\n",
      "+--------+--------------------+--------------------+--------------------+----------------+--------------------+--------------------+--------------------+\n",
      "only showing top 10 rows\n",
      "\n"
     ]
    }
   ],
   "source": [
    "df_anime_reduced.show(10)"
   ]
  },
  {
   "cell_type": "code",
   "execution_count": 21,
   "metadata": {},
   "outputs": [],
   "source": [
    "df_anime_reduced = df_anime_reduced.withColumn('Synopsis_tokens', remove_hyphen_udf(f.col('Synopsis_tokens')))"
   ]
  },
  {
   "cell_type": "code",
   "execution_count": 22,
   "metadata": {},
   "outputs": [
    {
     "name": "stdout",
     "output_type": "stream",
     "text": [
      "+--------+--------------------+--------------------+--------------------+----------------+--------------------+--------------------+--------------------+\n",
      "|anime_id|                Name|              Genres|            Synopsis|         Studios|         Name_tokens| Name_tokens_removed|     Synopsis_tokens|\n",
      "+--------+--------------------+--------------------+--------------------+----------------+--------------------+--------------------+--------------------+\n",
      "|       1|        Cowboy Bebop|Action, Award Win...|Crime is timeless...|         Sunrise|     [cowboy, bebop]|     [cowboy, bebop]|[crime, is, timel...|\n",
      "|       5|Cowboy Bebop: Ten...|      Action, Sci-Fi|Another day, anot...|           Bones|[cowboy, bebop, t...|[cowboy, bebop, t...|[another, day, an...|\n",
      "|       6|              Trigun|Action, Adventure...|Vash the Stampede...|        Madhouse|            [trigun]|            [trigun]|[vash, the, stamp...|\n",
      "|       7|  Witch Hunter Robin|Action, Drama, My...|Robin Sena is a p...|         Sunrise|[witch, hunter, r...|[witch, hunter, r...|[robin, sena, is,...|\n",
      "|       8|      Bouken Ou Beet|Adventure, Fantas...|It is the dark ce...|  Toei Animation|  [bouken, ou, beet]|  [bouken, ou, beet]|[it, is, the, dar...|\n",
      "|      15|        Eyeshield 21|              Sports|Shy, reserved, an...|          Gallop|     [eyeshield, 21]|     [eyeshield, 21]|[shy, reserved, a...|\n",
      "|      16|Hachimitsu to Clover|Comedy, Drama, Ro...|Yuuta Takemoto, a...|       J.C.Staff|[hachimitsu, to, ...|[hachimitsu, clover]|[yuuta, takemoto,...|\n",
      "|      17|Hungry Heart: Wil...|Comedy, Slice of ...|As the younger br...|Nippon Animation|[hungry, heart, w...|[hungry, heart, w...|[as, the, younger...|\n",
      "|      18|Initial D Fourth ...|       Action, Drama|Takumi Fujiwara f...|        A.C.G.T.|[initial, d, four...|[initial, d, four...|[takumi, fujiwara...|\n",
      "|      19|             Monster|Drama, Mystery, S...|Dr. Kenzou Tenma,...|        Madhouse|           [monster]|           [monster]|[dr, kenzou, tenm...|\n",
      "+--------+--------------------+--------------------+--------------------+----------------+--------------------+--------------------+--------------------+\n",
      "only showing top 10 rows\n",
      "\n"
     ]
    }
   ],
   "source": [
    "df_anime_reduced.show(10)"
   ]
  },
  {
   "cell_type": "code",
   "execution_count": 23,
   "metadata": {},
   "outputs": [],
   "source": [
    "remover = StopWordsRemover(inputCol=\"Synopsis_tokens\", outputCol=\"Synopsis_tokens_removed\")\n",
    "remover.loadDefaultStopWords('english')\n",
    "df_anime_reduced = remover.transform(df_anime_reduced)"
   ]
  },
  {
   "cell_type": "code",
   "execution_count": 24,
   "metadata": {},
   "outputs": [
    {
     "name": "stdout",
     "output_type": "stream",
     "text": [
      "+--------+--------------------+--------------------+--------------------+----------------+--------------------+--------------------+--------------------+-----------------------+\n",
      "|anime_id|                Name|              Genres|            Synopsis|         Studios|         Name_tokens| Name_tokens_removed|     Synopsis_tokens|Synopsis_tokens_removed|\n",
      "+--------+--------------------+--------------------+--------------------+----------------+--------------------+--------------------+--------------------+-----------------------+\n",
      "|       1|        Cowboy Bebop|Action, Award Win...|Crime is timeless...|         Sunrise|     [cowboy, bebop]|     [cowboy, bebop]|[crime, is, timel...|   [crime, timeless,...|\n",
      "|       5|Cowboy Bebop: Ten...|      Action, Sci-Fi|Another day, anot...|           Bones|[cowboy, bebop, t...|[cowboy, bebop, t...|[another, day, an...|   [another, day, an...|\n",
      "|       6|              Trigun|Action, Adventure...|Vash the Stampede...|        Madhouse|            [trigun]|            [trigun]|[vash, the, stamp...|   [vash, stampede, ...|\n",
      "|       7|  Witch Hunter Robin|Action, Drama, My...|Robin Sena is a p...|         Sunrise|[witch, hunter, r...|[witch, hunter, r...|[robin, sena, is,...|   [robin, sena, pow...|\n",
      "|       8|      Bouken Ou Beet|Adventure, Fantas...|It is the dark ce...|  Toei Animation|  [bouken, ou, beet]|  [bouken, ou, beet]|[it, is, the, dar...|   [dark, century, p...|\n",
      "|      15|        Eyeshield 21|              Sports|Shy, reserved, an...|          Gallop|     [eyeshield, 21]|     [eyeshield, 21]|[shy, reserved, a...|   [shy, reserved, s...|\n",
      "|      16|Hachimitsu to Clover|Comedy, Drama, Ro...|Yuuta Takemoto, a...|       J.C.Staff|[hachimitsu, to, ...|[hachimitsu, clover]|[yuuta, takemoto,...|   [yuuta, takemoto,...|\n",
      "|      17|Hungry Heart: Wil...|Comedy, Slice of ...|As the younger br...|Nippon Animation|[hungry, heart, w...|[hungry, heart, w...|[as, the, younger...|   [younger, brother...|\n",
      "|      18|Initial D Fourth ...|       Action, Drama|Takumi Fujiwara f...|        A.C.G.T.|[initial, d, four...|[initial, d, four...|[takumi, fujiwara...|   [takumi, fujiwara...|\n",
      "|      19|             Monster|Drama, Mystery, S...|Dr. Kenzou Tenma,...|        Madhouse|           [monster]|           [monster]|[dr, kenzou, tenm...|   [dr, kenzou, tenm...|\n",
      "+--------+--------------------+--------------------+--------------------+----------------+--------------------+--------------------+--------------------+-----------------------+\n",
      "only showing top 10 rows\n",
      "\n"
     ]
    }
   ],
   "source": [
    "df_anime_reduced.show(10)"
   ]
  },
  {
   "cell_type": "code",
   "execution_count": 25,
   "metadata": {},
   "outputs": [],
   "source": [
    "from nltk.stem import PorterStemmer\n",
    "from nltk.tokenize import sent_tokenize, word_tokenize\n",
    "\n",
    "# Apply stemming with NLTK\n",
    "# Built-in class from NLTK\n",
    "ps = PorterStemmer()\n",
    "# udf to apply stemming\n",
    "stemming = f.udf(lambda x: [ps.stem(item) for item in x], ArrayType(StringType()))\n",
    "# apply udf to tokens\n",
    "df_anime_reduced = df_anime_reduced.withColumn('Synopsis_tokens_stemmed', stemming(f.col('Synopsis_tokens_removed')))\n",
    "df_anime_reduced = df_anime_reduced.select('anime_id', 'Name', 'Genres', 'Name_tokens_removed', 'Studios', 'Synopsis_tokens_stemmed')"
   ]
  },
  {
   "cell_type": "code",
   "execution_count": 26,
   "metadata": {},
   "outputs": [
    {
     "name": "stdout",
     "output_type": "stream",
     "text": [
      "+--------+--------------------+--------------------+--------------------+----------------+-----------------------+\n",
      "|anime_id|                Name|              Genres| Name_tokens_removed|         Studios|Synopsis_tokens_stemmed|\n",
      "+--------+--------------------+--------------------+--------------------+----------------+-----------------------+\n",
      "|       1|        Cowboy Bebop|Action, Award Win...|     [cowboy, bebop]|         Sunrise|   [crime, timeless,...|\n",
      "|       5|Cowboy Bebop: Ten...|      Action, Sci-Fi|[cowboy, bebop, t...|           Bones|   [anoth, day, anot...|\n",
      "|       6|              Trigun|Action, Adventure...|            [trigun]|        Madhouse|   [vash, stamped, m...|\n",
      "|       7|  Witch Hunter Robin|Action, Drama, My...|[witch, hunter, r...|         Sunrise|   [robin, sena, pow...|\n",
      "|       8|      Bouken Ou Beet|Adventure, Fantas...|  [bouken, ou, beet]|  Toei Animation|   [dark, centuri, p...|\n",
      "|      15|        Eyeshield 21|              Sports|     [eyeshield, 21]|          Gallop|   [shi, reserv, sma...|\n",
      "|      16|Hachimitsu to Clover|Comedy, Drama, Ro...|[hachimitsu, clover]|       J.C.Staff|   [yuuta, takemoto,...|\n",
      "|      17|Hungry Heart: Wil...|Comedy, Slice of ...|[hungry, heart, w...|Nippon Animation|   [younger, brother...|\n",
      "|      18|Initial D Fourth ...|       Action, Drama|[initial, d, four...|        A.C.G.T.|   [takumi, fujiwara...|\n",
      "|      19|             Monster|Drama, Mystery, S...|           [monster]|        Madhouse|   [dr, kenzou, tenm...|\n",
      "+--------+--------------------+--------------------+--------------------+----------------+-----------------------+\n",
      "only showing top 10 rows\n",
      "\n"
     ]
    }
   ],
   "source": [
    "df_anime_reduced.show(10)"
   ]
  },
  {
   "cell_type": "code",
   "execution_count": 27,
   "metadata": {},
   "outputs": [
    {
     "name": "stdout",
     "output_type": "stream",
     "text": [
      "+--------+--------------------+--------------------+--------------------+--------------+-----------------------+\n",
      "|anime_id|                Name|              Genres| Name_tokens_removed|       Studios|Synopsis_tokens_stemmed|\n",
      "+--------+--------------------+--------------------+--------------------+--------------+-----------------------+\n",
      "|       1|        Cowboy Bebop|[Action, Award Wi...|     [cowboy, bebop]|       Sunrise|   [crime, timeless,...|\n",
      "|       5|Cowboy Bebop: Ten...|    [Action, Sci-Fi]|[cowboy, bebop, t...|         Bones|   [anoth, day, anot...|\n",
      "|       6|              Trigun|[Action, Adventur...|            [trigun]|      Madhouse|   [vash, stamped, m...|\n",
      "|       7|  Witch Hunter Robin|[Action, Drama, M...|[witch, hunter, r...|       Sunrise|   [robin, sena, pow...|\n",
      "|       8|      Bouken Ou Beet|[Adventure, Fanta...|  [bouken, ou, beet]|Toei Animation|   [dark, centuri, p...|\n",
      "+--------+--------------------+--------------------+--------------------+--------------+-----------------------+\n",
      "only showing top 5 rows\n",
      "\n"
     ]
    }
   ],
   "source": [
    "df_anime_reduced = df_anime_reduced.withColumn(\"Genres\", f.split(f.col('Genres'), ', ').cast(ArrayType(StringType())))\n",
    "df_anime_reduced.show(5)"
   ]
  },
  {
   "cell_type": "code",
   "execution_count": 28,
   "metadata": {},
   "outputs": [
    {
     "name": "stdout",
     "output_type": "stream",
     "text": [
      "+--------+--------------------+--------------------+--------------------+--------------------+-----------------------+\n",
      "|anime_id|                Name|              Genres| Name_tokens_removed|             Studios|Synopsis_tokens_stemmed|\n",
      "+--------+--------------------+--------------------+--------------------+--------------------+-----------------------+\n",
      "|      30|Neon Genesis Evan...|[Action, Avant Ga...|[neon, genesis, e...|Gainax, Tatsunoko...|   [fifteen, year, c...|\n",
      "|      31|Neon Genesis Evan...|     [Drama, Sci-Fi]|[neon, genesis, e...|Gainax, Productio...|   [year, 2015, deca...|\n",
      "|      32|Neon Genesis Evan...|[Avant Garde, Dra...|[neon, genesis, e...|Gainax, Productio...|   [shinji, ikari, l...|\n",
      "|      45|Rurouni Kenshin: ...|[Action, Adventur...|[rurouni, kenshin...| Gallop, Studio Deen|   [final, year, bak...|\n",
      "|      62|       D.C.: Da Capo|    [Drama, Romance]|    [d, c, da, capo]|        feel., Zexcs|   [hatsunejima, abo...|\n",
      "|     112|Chou Henshin Cosp...|[Action, Adventur...|[chou, henshin, c...| Imagin, Studio Live|   [koto, unknowingl...|\n",
      "|     119|      Final Approach|[Comedy, Drama, R...|   [final, approach]|Trinet Entertainm...|   [ever, sinc, pare...|\n",
      "|     126| Futakoi Alternative|[Comedy, Drama, R...|[futakoi, alterna...|ufotable, feel., ...|   [futaba, detect, ...|\n",
      "|     145|Kareshi Kanojo no...|[Comedy, Drama, R...|[kareshi, kanojo,...|   Gainax, J.C.Staff|   [yukino, miyazawa...|\n",
      "|     146|Kono Minikuku mo ...|[Comedy, Drama, R...|[kono, minikuku, ...|       Gainax, Shaft|   [high, school, st...|\n",
      "|     151|     Re: Cutey Honey|[Action, Comedy, ...|  [re, cutey, honey]|Gainax, Toei Anim...|   [last, word, spok...|\n",
      "|     152|           Solty Rei|    [Action, Sci-Fi]|        [solty, rei]|          Gonzo, AIC|   [futurebas, disas...|\n",
      "|     159|Boukyaku no Senritsu|[Adventure, Fanta...|[boukyaku, senritsu]|   Gainax, J.C.Staff|   [great, war, occu...|\n",
      "|     185|Initial D First S...|     [Action, Drama]|[initial, d, firs...|Gallop, Studio Comet|   [unlik, friend, t...|\n",
      "|     197|           Rizelmine|[Comedy, Romance,...|         [rizelmine]|    Madhouse, Imagin|   [iwaki, tomonori,...|\n",
      "|     227|                FLCL|[Action, Avant Ga...|              [flcl]|Gainax, Productio...|   [naota, nandaba, ...|\n",
      "|     231|     Asagiri no Miko|[Action, Comedy, ...|     [asagiri, miko]|Chaos Project, GA...|   [sinc, childhood,...|\n",
      "|     259|        Happy☆Lesson|   [Comedy, Romance]|     [happy, lesson]|Studio Kyuuma, Ve...|   [one, guy, five, ...|\n",
      "|     275|          Love♥Love?|[Comedy, Romance,...|        [love, love]| Imagin, Studio Live|   [naoto, ooizumi, ...|\n",
      "|     276|Mahoromatic: Auto...|[Comedy, Romance,...|[mahoromatic, aut...|       Gainax, Shaft|   [mahoro, andou, p...|\n",
      "+--------+--------------------+--------------------+--------------------+--------------------+-----------------------+\n",
      "only showing top 20 rows\n",
      "\n"
     ]
    }
   ],
   "source": [
    "df_anime_reduced.filter(df_anime_reduced.Studios.contains(',')).show()"
   ]
  },
  {
   "cell_type": "code",
   "execution_count": 29,
   "metadata": {},
   "outputs": [
    {
     "name": "stdout",
     "output_type": "stream",
     "text": [
      "+--------+--------------------+--------------------+--------------------+----------------+-----------------------+\n",
      "|anime_id|                Name|              Genres| Name_tokens_removed|         Studios|Synopsis_tokens_stemmed|\n",
      "+--------+--------------------+--------------------+--------------------+----------------+-----------------------+\n",
      "|       1|        Cowboy Bebop|[Action, Award Wi...|     [cowboy, bebop]|       [Sunrise]|   [crime, timeless,...|\n",
      "|       5|Cowboy Bebop: Ten...|    [Action, Sci-Fi]|[cowboy, bebop, t...|         [Bones]|   [anoth, day, anot...|\n",
      "|       6|              Trigun|[Action, Adventur...|            [trigun]|      [Madhouse]|   [vash, stamped, m...|\n",
      "|       7|  Witch Hunter Robin|[Action, Drama, M...|[witch, hunter, r...|       [Sunrise]|   [robin, sena, pow...|\n",
      "|       8|      Bouken Ou Beet|[Adventure, Fanta...|  [bouken, ou, beet]|[Toei Animation]|   [dark, centuri, p...|\n",
      "+--------+--------------------+--------------------+--------------------+----------------+-----------------------+\n",
      "only showing top 5 rows\n",
      "\n"
     ]
    }
   ],
   "source": [
    "df_anime_reduced = df_anime_reduced.withColumn(\"Studios\", f.split(f.col('Studios'), ', ').cast(ArrayType(StringType())))\n",
    "df_anime_reduced.show(5)"
   ]
  },
  {
   "cell_type": "code",
   "execution_count": 30,
   "metadata": {},
   "outputs": [
    {
     "name": "stdout",
     "output_type": "stream",
     "text": [
      "+-------------------------------------------------------------+\n",
      "|intial_feature                                               |\n",
      "+-------------------------------------------------------------+\n",
      "|[Action, Award Winning, Sci-Fi, cowboy, bebop]               |\n",
      "|[Action, Sci-Fi, cowboy, bebop, tengoku, tobira]             |\n",
      "|[Action, Adventure, Sci-Fi, trigun]                          |\n",
      "|[Action, Drama, Mystery, Supernatural, witch, hunter, robin] |\n",
      "|[Adventure, Fantasy, Supernatural, bouken, ou, beet]         |\n",
      "|[Sports, eyeshield, 21]                                      |\n",
      "|[Comedy, Drama, Romance, hachimitsu, clover]                 |\n",
      "|[Comedy, Slice of Life, Sports, hungry, heart, wild, striker]|\n",
      "|[Action, Drama, initial, d, fourth, stage]                   |\n",
      "|[Drama, Mystery, Suspense, monster]                          |\n",
      "|[Action, Adventure, Fantasy, naruto]                         |\n",
      "|[Action, Adventure, Fantasy, one, piece]                     |\n",
      "|[Sports, tennis, oujisama]                                   |\n",
      "|[Action, Sports, ring, ni, kakero, 1]                        |\n",
      "|[Comedy, Romance, school, rumble]                            |\n",
      "|[Action, Adventure, Comedy, Sci-Fi, Ecchi, sunabouzu]        |\n",
      "|[Action, Drama, Sci-Fi, texhnolyze]                          |\n",
      "|[Action, Supernatural, trinity, blood]                       |\n",
      "|[Comedy, Gourmet, yakitate, japan]                           |\n",
      "|[Action, Drama, Sci-Fi, zipang]                              |\n",
      "+-------------------------------------------------------------+\n",
      "only showing top 20 rows\n",
      "\n"
     ]
    }
   ],
   "source": [
    "# df_anime_reduced = df_anime_reduced.withColumn('intial_feature', f.concat(f.col('Genres'), f.col('Name_tokens_removed'), f.col('Synopsis_tokens_stemmed')))\n",
    "# df_anime_reduced = df_anime_reduced.withColumn('intial_feature', f.concat(f.col('Genres'), f.col('Name_tokens_removed'), f.col('Studios')))\n",
    "df_anime_reduced = df_anime_reduced.withColumn('intial_feature', f.concat(f.col('Genres'), f.col('Name_tokens_removed')))\n",
    "\n",
    "\n",
    "df_anime_reduced.select('intial_feature').show(truncate=False)"
   ]
  },
  {
   "cell_type": "code",
   "execution_count": 31,
   "metadata": {},
   "outputs": [],
   "source": [
    "hashingTF = HashingTF(inputCol=\"intial_feature\", outputCol=\"rawFeatures\")\n",
    "featurizedData = hashingTF.transform(df_anime_reduced)"
   ]
  },
  {
   "cell_type": "code",
   "execution_count": 32,
   "metadata": {},
   "outputs": [
    {
     "name": "stdout",
     "output_type": "stream",
     "text": [
      "+--------+--------------------+--------------------+--------------------+----------------+-----------------------+--------------------+--------------------+\n",
      "|anime_id|                Name|              Genres| Name_tokens_removed|         Studios|Synopsis_tokens_stemmed|      intial_feature|         rawFeatures|\n",
      "+--------+--------------------+--------------------+--------------------+----------------+-----------------------+--------------------+--------------------+\n",
      "|       1|        Cowboy Bebop|[Action, Award Wi...|     [cowboy, bebop]|       [Sunrise]|   [crime, timeless,...|[Action, Award Wi...|(262144,[15444,61...|\n",
      "|       5|Cowboy Bebop: Ten...|    [Action, Sci-Fi]|[cowboy, bebop, t...|         [Bones]|   [anoth, day, anot...|[Action, Sci-Fi, ...|(262144,[15444,61...|\n",
      "|       6|              Trigun|[Action, Adventur...|            [trigun]|      [Madhouse]|   [vash, stamped, m...|[Action, Adventur...|(262144,[15444,42...|\n",
      "|       7|  Witch Hunter Robin|[Action, Drama, M...|[witch, hunter, r...|       [Sunrise]|   [robin, sena, pow...|[Action, Drama, M...|(262144,[4973,954...|\n",
      "|       8|      Bouken Ou Beet|[Adventure, Fanta...|  [bouken, ou, beet]|[Toei Animation]|   [dark, centuri, p...|[Adventure, Fanta...|(262144,[4973,382...|\n",
      "+--------+--------------------+--------------------+--------------------+----------------+-----------------------+--------------------+--------------------+\n",
      "only showing top 5 rows\n",
      "\n"
     ]
    },
    {
     "name": "stderr",
     "output_type": "stream",
     "text": [
      "                                                                                \r"
     ]
    }
   ],
   "source": [
    "featurizedData.show(5)"
   ]
  },
  {
   "cell_type": "code",
   "execution_count": 33,
   "metadata": {},
   "outputs": [
    {
     "name": "stderr",
     "output_type": "stream",
     "text": [
      "                                                                                \r"
     ]
    }
   ],
   "source": [
    "idf = IDF(inputCol=\"rawFeatures\", outputCol=\"features\")\n",
    "idfModel = idf.fit(featurizedData)\n",
    "rescaledData = idfModel.transform(featurizedData)"
   ]
  },
  {
   "cell_type": "code",
   "execution_count": 34,
   "metadata": {},
   "outputs": [
    {
     "name": "stderr",
     "output_type": "stream",
     "text": [
      "24/08/01 09:55:22 WARN DAGScheduler: Broadcasting large task binary with size 4.1 MiB\n"
     ]
    },
    {
     "name": "stdout",
     "output_type": "stream",
     "text": [
      "+--------+--------------------+--------------------+--------------------+----------------+-----------------------+--------------------+--------------------+--------------------+\n",
      "|anime_id|                Name|              Genres| Name_tokens_removed|         Studios|Synopsis_tokens_stemmed|      intial_feature|         rawFeatures|            features|\n",
      "+--------+--------------------+--------------------+--------------------+----------------+-----------------------+--------------------+--------------------+--------------------+\n",
      "|       1|        Cowboy Bebop|[Action, Award Wi...|     [cowboy, bebop]|       [Sunrise]|   [crime, timeless,...|[Action, Award Wi...|(262144,[15444,61...|(262144,[15444,61...|\n",
      "|       5|Cowboy Bebop: Ten...|    [Action, Sci-Fi]|[cowboy, bebop, t...|         [Bones]|   [anoth, day, anot...|[Action, Sci-Fi, ...|(262144,[15444,61...|(262144,[15444,61...|\n",
      "|       6|              Trigun|[Action, Adventur...|            [trigun]|      [Madhouse]|   [vash, stamped, m...|[Action, Adventur...|(262144,[15444,42...|(262144,[15444,42...|\n",
      "|       7|  Witch Hunter Robin|[Action, Drama, M...|[witch, hunter, r...|       [Sunrise]|   [robin, sena, pow...|[Action, Drama, M...|(262144,[4973,954...|(262144,[4973,954...|\n",
      "|       8|      Bouken Ou Beet|[Adventure, Fanta...|  [bouken, ou, beet]|[Toei Animation]|   [dark, centuri, p...|[Adventure, Fanta...|(262144,[4973,382...|(262144,[4973,382...|\n",
      "+--------+--------------------+--------------------+--------------------+----------------+-----------------------+--------------------+--------------------+--------------------+\n",
      "only showing top 5 rows\n",
      "\n"
     ]
    },
    {
     "name": "stderr",
     "output_type": "stream",
     "text": [
      "                                                                                \r"
     ]
    }
   ],
   "source": [
    "rescaledData.show(5)"
   ]
  },
  {
   "cell_type": "code",
   "execution_count": 35,
   "metadata": {},
   "outputs": [],
   "source": [
    "import numpy as np \n",
    "\n",
    "def cos_sim(u, v):\n",
    "    # result = (np.dot(u, p))/(np.linalg.norm(u) * np.linalg.norm(p))\n",
    "    # result = result.item()\n",
    "    return float(u.dot(v) / (u.norm(2) * v.norm(2)))\n",
    "    # return result\n",
    "\n",
    "compute_sim = f.udf(cos_sim, FloatType())"
   ]
  },
  {
   "cell_type": "code",
   "execution_count": 36,
   "metadata": {},
   "outputs": [],
   "source": [
    "df_anime_reduced = rescaledData.select('anime_id', 'features')"
   ]
  },
  {
   "cell_type": "code",
   "execution_count": 37,
   "metadata": {},
   "outputs": [
    {
     "name": "stderr",
     "output_type": "stream",
     "text": [
      "24/08/01 09:55:23 WARN DAGScheduler: Broadcasting large task binary with size 4.1 MiB\n"
     ]
    },
    {
     "name": "stdout",
     "output_type": "stream",
     "text": [
      "+--------+--------------------+\n",
      "|anime_id|            features|\n",
      "+--------+--------------------+\n",
      "|       1|(262144,[15444,61...|\n",
      "|       5|(262144,[15444,61...|\n",
      "|       6|(262144,[15444,42...|\n",
      "|       7|(262144,[4973,954...|\n",
      "|       8|(262144,[4973,382...|\n",
      "+--------+--------------------+\n",
      "only showing top 5 rows\n",
      "\n"
     ]
    }
   ],
   "source": [
    "df_anime_reduced.show(5)"
   ]
  },
  {
   "cell_type": "code",
   "execution_count": 38,
   "metadata": {},
   "outputs": [],
   "source": [
    "df_anime_reduced = df_anime_reduced.crossJoin(df_anime_reduced.withColumnRenamed('anime_id', 'anime_id_2').withColumnRenamed('features', 'features2'))"
   ]
  },
  {
   "cell_type": "code",
   "execution_count": 39,
   "metadata": {},
   "outputs": [
    {
     "name": "stderr",
     "output_type": "stream",
     "text": [
      "24/08/01 09:55:23 WARN DAGScheduler: Broadcasting large task binary with size 4.1 MiB\n",
      "24/08/01 09:55:24 WARN DAGScheduler: Broadcasting large task binary with size 4.1 MiB\n"
     ]
    },
    {
     "name": "stdout",
     "output_type": "stream",
     "text": [
      "+--------+--------------------+----------+--------------------+\n",
      "|anime_id|            features|anime_id_2|           features2|\n",
      "+--------+--------------------+----------+--------------------+\n",
      "|       1|(262144,[15444,61...|         1|(262144,[15444,61...|\n",
      "|       1|(262144,[15444,61...|         5|(262144,[15444,61...|\n",
      "|       1|(262144,[15444,61...|         6|(262144,[15444,42...|\n",
      "|       1|(262144,[15444,61...|         7|(262144,[4973,954...|\n",
      "|       1|(262144,[15444,61...|         8|(262144,[4973,382...|\n",
      "+--------+--------------------+----------+--------------------+\n",
      "only showing top 5 rows\n",
      "\n"
     ]
    }
   ],
   "source": [
    "df_anime_reduced.show(5)"
   ]
  },
  {
   "cell_type": "code",
   "execution_count": 40,
   "metadata": {},
   "outputs": [
    {
     "data": {
      "text/plain": [
       "141610000"
      ]
     },
     "execution_count": 40,
     "metadata": {},
     "output_type": "execute_result"
    }
   ],
   "source": [
    "df_anime_reduced.count()"
   ]
  },
  {
   "cell_type": "code",
   "execution_count": 41,
   "metadata": {},
   "outputs": [
    {
     "name": "stderr",
     "output_type": "stream",
     "text": [
      "                                                                                \r"
     ]
    },
    {
     "data": {
      "text/plain": [
       "141598100"
      ]
     },
     "execution_count": 41,
     "metadata": {},
     "output_type": "execute_result"
    }
   ],
   "source": [
    "df_anime_reduced = df_anime_reduced.filter(df_anime_reduced.anime_id != df_anime_reduced.anime_id_2)\n",
    "df_anime_reduced.count()"
   ]
  },
  {
   "cell_type": "code",
   "execution_count": 42,
   "metadata": {},
   "outputs": [],
   "source": [
    "computed_df = df_anime_reduced.withColumn('cos_sim', compute_sim(f.col('features'), f.col('features2')))"
   ]
  },
  {
   "cell_type": "code",
   "execution_count": 43,
   "metadata": {},
   "outputs": [
    {
     "name": "stderr",
     "output_type": "stream",
     "text": [
      "24/08/01 09:55:27 WARN DAGScheduler: Broadcasting large task binary with size 4.1 MiB\n",
      "24/08/01 09:55:28 WARN DAGScheduler: Broadcasting large task binary with size 4.1 MiB\n"
     ]
    },
    {
     "name": "stdout",
     "output_type": "stream",
     "text": [
      "+--------+--------------------+----------+--------------------+-----------+\n",
      "|anime_id|            features|anime_id_2|           features2|    cos_sim|\n",
      "+--------+--------------------+----------+--------------------+-----------+\n",
      "|       1|(262144,[15444,61...|         5|(262144,[15444,61...|  0.6602944|\n",
      "|       1|(262144,[15444,61...|         6|(262144,[15444,42...| 0.03865153|\n",
      "|       1|(262144,[15444,61...|         7|(262144,[4973,954...|0.008507955|\n",
      "|       1|(262144,[15444,61...|         8|(262144,[4973,382...|        0.0|\n",
      "|       1|(262144,[15444,61...|        15|(262144,[87466,16...|        0.0|\n",
      "+--------+--------------------+----------+--------------------+-----------+\n",
      "only showing top 5 rows\n",
      "\n"
     ]
    },
    {
     "name": "stderr",
     "output_type": "stream",
     "text": [
      "                                                                                \r"
     ]
    }
   ],
   "source": [
    "computed_df.show(5)"
   ]
  },
  {
   "cell_type": "code",
   "execution_count": 61,
   "metadata": {},
   "outputs": [
    {
     "name": "stdout",
     "output_type": "stream",
     "text": [
      "+--------+------------------+-----------------+\n",
      "|anime_id|Name              |English name     |\n",
      "+--------+------------------+-----------------+\n",
      "|5680    |K-On!             |K-ON!            |\n",
      "|6862    |K-On!: Live House!|K-ON! Live House!|\n",
      "|7017    |K-On!: Ura-On!    |K-On!: Ura-On!   |\n",
      "|7791    |K-On!!            |K-ON! Season 2   |\n",
      "|9203    |K-On!!: Ura-On!!  |K-ON!!: Ura-On!! |\n",
      "|9617    |K-On! Movie       |K-ON! The Movie  |\n",
      "|9734    |K-On!!: Keikaku!  |K-On!!: Plan!    |\n",
      "+--------+------------------+-----------------+\n",
      "\n"
     ]
    }
   ],
   "source": [
    "df_anime.filter(f.col('Name').contains('K-On')).select('anime_id', 'Name', 'English name').show(truncate=False)"
   ]
  },
  {
   "cell_type": "code",
   "execution_count": 62,
   "metadata": {},
   "outputs": [
    {
     "name": "stdout",
     "output_type": "stream",
     "text": [
      "Chosen anime: \n",
      "+--------+-----+-----+------+---------------+\n",
      "|anime_id|Name |Score|Genres|Studios        |\n",
      "+--------+-----+-----+------+---------------+\n",
      "|5680    |K-On!|7.85 |Comedy|Kyoto Animation|\n",
      "+--------+-----+-----+------+---------------+\n",
      "\n"
     ]
    }
   ],
   "source": [
    "anime_id = 5680\n",
    "\n",
    "print(\"Chosen anime: \")\n",
    "chosen_anime = df_anime.filter(df_anime.anime_id == anime_id).select('anime_id', 'Name', 'Score', 'Genres', 'Studios')\n",
    "chosen_anime.show(truncate=False)"
   ]
  },
  {
   "cell_type": "code",
   "execution_count": 63,
   "metadata": {},
   "outputs": [
    {
     "name": "stderr",
     "output_type": "stream",
     "text": [
      "24/08/01 09:57:59 WARN DAGScheduler: Broadcasting large task binary with size 4.1 MiB\n",
      "24/08/01 09:57:59 WARN DAGScheduler: Broadcasting large task binary with size 4.1 MiB\n",
      "[Stage 78:>                                                         (0 + 1) / 1]\r"
     ]
    },
    {
     "name": "stdout",
     "output_type": "stream",
     "text": [
      "+--------+--------------------+----------+--------------------+------------+\n",
      "|anime_id|            features|anime_id_2|           features2|     cos_sim|\n",
      "+--------+--------------------+----------+--------------------+------------+\n",
      "|    5680|(262144,[4915,204...|      7791|(262144,[4915,833...|   0.8679531|\n",
      "|    5680|(262144,[4915,204...|      9617|(262144,[4915,833...|   0.8217346|\n",
      "|    5680|(262144,[4915,204...|      9734|(262144,[4915,937...|   0.7107434|\n",
      "|    5680|(262144,[4915,204...|      7017|(262144,[4915,265...|   0.6638239|\n",
      "|    5680|(262144,[4915,204...|      9203|(262144,[4915,265...|   0.6638239|\n",
      "|    5680|(262144,[4915,204...|      6862|(262144,[4915,330...|  0.63034767|\n",
      "|    5680|(262144,[4915,204...|      3470|(262144,[4915,205...| 0.021373251|\n",
      "|    5680|(262144,[4915,204...|       527|(262144,[4915,154...| 0.018533273|\n",
      "|    5680|(262144,[4915,204...|     34009|(262144,[4915,335...| 0.017481092|\n",
      "|    5680|(262144,[4915,204...|     37286|(262144,[4915,172...| 0.015772797|\n",
      "|    5680|(262144,[4915,204...|     52022|(262144,[4915,172...| 0.015639778|\n",
      "|    5680|(262144,[4915,204...|     10165|(262144,[4915,195...| 0.015531302|\n",
      "|    5680|(262144,[4915,204...|     14045|(262144,[4915,899...|  0.01530865|\n",
      "|    5680|(262144,[4915,204...|     41916|(262144,[4915,354...| 0.015303672|\n",
      "|    5680|(262144,[4915,204...|     43807|(262144,[4915,224...| 0.014930413|\n",
      "|    5680|(262144,[4915,204...|       918|(262144,[4915,154...|0.0148495445|\n",
      "|    5680|(262144,[4915,204...|      9969|(262144,[4915,154...|0.0148495445|\n",
      "|    5680|(262144,[4915,204...|     28977|(262144,[4915,154...|0.0148495445|\n",
      "|    5680|(262144,[4915,204...|     34096|(262144,[4915,154...|0.0148495445|\n",
      "|    5680|(262144,[4915,204...|     31174|(262144,[4915,122...| 0.014507501|\n",
      "+--------+--------------------+----------+--------------------+------------+\n",
      "only showing top 20 rows\n",
      "\n"
     ]
    },
    {
     "name": "stderr",
     "output_type": "stream",
     "text": [
      "                                                                                \r"
     ]
    }
   ],
   "source": [
    "recommendation_result = computed_df.filter(computed_df.anime_id == anime_id).orderBy('cos_sim', ascending=False)\n",
    "recommendation_result.show(20)"
   ]
  },
  {
   "cell_type": "code",
   "execution_count": 64,
   "metadata": {},
   "outputs": [
    {
     "name": "stderr",
     "output_type": "stream",
     "text": [
      "24/08/01 09:58:04 WARN DAGScheduler: Broadcasting large task binary with size 4.1 MiB\n",
      "24/08/01 09:58:05 WARN DAGScheduler: Broadcasting large task binary with size 4.1 MiB\n",
      "[Stage 80:>                                                         (0 + 1) / 1]\r"
     ]
    },
    {
     "name": "stdout",
     "output_type": "stream",
     "text": [
      "+----------+------------+\n",
      "|anime_id_2|     cos_sim|\n",
      "+----------+------------+\n",
      "|      7791|   0.8679531|\n",
      "|      9617|   0.8217346|\n",
      "|      9734|   0.7107434|\n",
      "|      7017|   0.6638239|\n",
      "|      9203|   0.6638239|\n",
      "|      6862|  0.63034767|\n",
      "|      3470| 0.021373251|\n",
      "|       527| 0.018533273|\n",
      "|     34009| 0.017481092|\n",
      "|     37286| 0.015772797|\n",
      "|     52022| 0.015639778|\n",
      "|     10165| 0.015531302|\n",
      "|     14045|  0.01530865|\n",
      "|     41916| 0.015303672|\n",
      "|     43807| 0.014930413|\n",
      "|       918|0.0148495445|\n",
      "|      9969|0.0148495445|\n",
      "|     28977|0.0148495445|\n",
      "|     34096|0.0148495445|\n",
      "|     31174| 0.014507501|\n",
      "+----------+------------+\n",
      "only showing top 20 rows\n",
      "\n"
     ]
    },
    {
     "name": "stderr",
     "output_type": "stream",
     "text": [
      "                                                                                \r"
     ]
    }
   ],
   "source": [
    "recommendation_result_reduced = recommendation_result.select('anime_id_2', 'cos_sim')\n",
    "recommendation_result_reduced.show()"
   ]
  },
  {
   "cell_type": "code",
   "execution_count": 65,
   "metadata": {},
   "outputs": [
    {
     "name": "stderr",
     "output_type": "stream",
     "text": [
      "24/08/01 09:58:09 WARN DAGScheduler: Broadcasting large task binary with size 4.1 MiB\n",
      "24/08/01 09:58:09 WARN DAGScheduler: Broadcasting large task binary with size 4.1 MiB\n",
      "[Stage 83:>                                                         (0 + 1) / 1]\r"
     ]
    },
    {
     "name": "stdout",
     "output_type": "stream",
     "text": [
      "+--------+------------+------------------+-----+----------------------------------+------------------------------+\n",
      "|anime_id|cos_sim     |Name              |Score|Genres                            |Studios                       |\n",
      "+--------+------------+------------------+-----+----------------------------------+------------------------------+\n",
      "|7791    |0.8679531   |K-On!!            |8.17 |Award Winning, Comedy             |Kyoto Animation               |\n",
      "|9617    |0.8217346   |K-On! Movie       |8.35 |Award Winning, Comedy             |Kyoto Animation               |\n",
      "|9734    |0.7107434   |K-On!!: Keikaku!  |7.85 |Comedy, Slice of Life             |Kyoto Animation               |\n",
      "|7017    |0.6638239   |K-On!: Ura-On!    |6.36 |Comedy                            |Kyoto Animation               |\n",
      "|9203    |0.6638239   |K-On!!: Ura-On!!  |6.54 |Comedy                            |Kyoto Animation               |\n",
      "|6862    |0.63034767  |K-On!: Live House!|7.84 |Comedy                            |Kyoto Animation               |\n",
      "|3470    |0.021373251 |Special A         |7.51 |Comedy, Romance                   |Gonzo, AIC                    |\n",
      "|527     |0.018533273 |Pokemon           |7.37 |Action, Adventure, Comedy, Fantasy|OLM                           |\n",
      "|34009   |0.017481092 |To Be Hero        |6.96 |Comedy                            |Haoliners Animation League    |\n",
      "|37286   |0.015772797 |It's My Life      |5.67 |Comedy, Fantasy                   |Creators in Pack              |\n",
      "|52022   |0.015639778 |In the Film       |6.38 |Comedy                            |Uguisu Kobo                   |\n",
      "|10165   |0.015531302 |Nichijou          |8.46 |Comedy                            |Kyoto Animation               |\n",
      "|14045   |0.01530865  |Mangirl!          |5.8  |Comedy, Slice of Life             |Doga Kobo                     |\n",
      "|41916   |0.015303672 |You Yao           |6.76 |Comedy                            |Shengying Animation           |\n",
      "|43807   |0.014930413 |San               |6.38 |Comedy                            |Shanghai Animation Film Studio|\n",
      "|918     |0.0148495445|Gintama           |8.94 |Action, Comedy, Sci-Fi            |Sunrise                       |\n",
      "|9969    |0.0148495445|Gintama'          |9.04 |Action, Comedy, Sci-Fi            |Sunrise                       |\n",
      "|28977   |0.0148495445|Gintama°          |9.06 |Action, Comedy, Sci-Fi            |Bandai Namco Pictures         |\n",
      "|34096   |0.0148495445|Gintama.          |8.98 |Action, Comedy, Sci-Fi            |Bandai Namco Pictures         |\n",
      "|31174   |0.014507501 |Osomatsu-san      |7.94 |Comedy                            |Pierrot                       |\n",
      "+--------+------------+------------------+-----+----------------------------------+------------------------------+\n",
      "only showing top 20 rows\n",
      "\n"
     ]
    },
    {
     "name": "stderr",
     "output_type": "stream",
     "text": [
      "                                                                                \r"
     ]
    }
   ],
   "source": [
    "df_anime_joined = recommendation_result_reduced \\\n",
    "                    .join(df_anime, recommendation_result_reduced.anime_id_2 == df_anime.anime_id) \\\n",
    "                    .orderBy('cos_sim', ascending=False) \\\n",
    "                    .select('anime_id', 'cos_sim', 'Name', 'Score', 'Genres', 'Studios')\n",
    "\n",
    "df_anime_joined.show(truncate=False)"
   ]
  },
  {
   "cell_type": "code",
   "execution_count": 66,
   "metadata": {},
   "outputs": [
    {
     "name": "stderr",
     "output_type": "stream",
     "text": [
      "24/08/01 09:58:14 WARN DAGScheduler: Broadcasting large task binary with size 4.1 MiB\n",
      "24/08/01 09:58:14 WARN DAGScheduler: Broadcasting large task binary with size 4.1 MiB\n",
      "[Stage 89:>                                                         (0 + 1) / 1]\r"
     ]
    },
    {
     "name": "stdout",
     "output_type": "stream",
     "text": [
      "+--------+------------+-------------------------------+-----+------------------------------------+-----------------------------+\n",
      "|anime_id|cos_sim     |Name                           |Score|Genres                              |Studios                      |\n",
      "+--------+------------+-------------------------------+-----+------------------------------------+-----------------------------+\n",
      "|7791    |0.8679531   |K-On!!                         |8.17 |Award Winning, Comedy               |Kyoto Animation              |\n",
      "|9617    |0.8217346   |K-On! Movie                    |8.35 |Award Winning, Comedy               |Kyoto Animation              |\n",
      "|9734    |0.7107434   |K-On!!: Keikaku!               |7.85 |Comedy, Slice of Life               |Kyoto Animation              |\n",
      "|7017    |0.6638239   |K-On!: Ura-On!                 |6.36 |Comedy                              |Kyoto Animation              |\n",
      "|9203    |0.6638239   |K-On!!: Ura-On!!               |6.54 |Comedy                              |Kyoto Animation              |\n",
      "|6862    |0.63034767  |K-On!: Live House!             |7.84 |Comedy                              |Kyoto Animation              |\n",
      "|10165   |0.015531302 |Nichijou                       |8.46 |Comedy                              |Kyoto Animation              |\n",
      "|48590   |0.013525484 |Mini Dragon                    |7.35 |Comedy                              |Kyoto Animation              |\n",
      "|49483   |0.012111333 |Mini Dragon Specials           |7.46 |Comedy                              |Kyoto Animation              |\n",
      "|1887    |0.01019436  |Lucky☆Star                     |7.74 |Comedy                              |Kyoto Animation              |\n",
      "|656     |0.0096801305|Air in Summer                  |7.29 |Comedy, Drama, Romance, Supernatural|Kyoto Animation              |\n",
      "|34204   |0.008897845 |Hibike! Euphonium 2 Specials   |6.75 |Comedy                              |Kyoto Animation              |\n",
      "|31442   |0.008213214 |Musaigen no Phantom World      |6.86 |Action, Comedy, Fantasy, Ecchi      |Kyoto Animation              |\n",
      "|17879   |0.00814933  |Tamako Market Specials         |6.43 |Comedy                              |Kyoto Animation              |\n",
      "|5957    |0.008005593 |Nyoro-n Churuya-san            |6.49 |Comedy                              |Kyoto Animation              |\n",
      "|14741   |0.007459769 |Chuunibyou demo Koi ga Shitai! |7.71 |Comedy, Romance                     |Kyoto Animation              |\n",
      "|19671   |0.00735249  |Free!: FrFr - Short Movie      |7.63 |Comedy, Sports                      |Kyoto Animation, Animation Do|\n",
      "|22147   |0.007139474 |Amagi Brilliant Park           |7.46 |Comedy, Fantasy                     |Kyoto Animation              |\n",
      "|5118    |0.007117545 |Suzumiya Haruhi-chan no Yuuutsu|7.46 |Comedy                              |Kyoto Animation              |\n",
      "|72      |0.0070087817|Full Metal Panic? Fumoffu      |8.03 |Action, Comedy                      |Kyoto Animation              |\n",
      "+--------+------------+-------------------------------+-----+------------------------------------+-----------------------------+\n",
      "only showing top 20 rows\n",
      "\n"
     ]
    },
    {
     "name": "stderr",
     "output_type": "stream",
     "text": [
      "                                                                                \r"
     ]
    }
   ],
   "source": [
    "number_of_recommendations = 20\n",
    "studio = chosen_anime.select(f.collect_list('Studios')).first()[0][0]\n",
    "\n",
    "df_anime_joined.filter(f.col('Studios').contains(studio)).show(int(number_of_recommendations), truncate=False)"
   ]
  },
  {
   "cell_type": "code",
   "execution_count": 67,
   "metadata": {},
   "outputs": [
    {
     "name": "stderr",
     "output_type": "stream",
     "text": [
      "24/08/01 09:58:59 WARN DAGScheduler: Broadcasting large task binary with size 4.1 MiB\n",
      "24/08/01 09:58:59 WARN DAGScheduler: Broadcasting large task binary with size 4.1 MiB\n",
      "[Stage 92:>                                                         (0 + 1) / 1]\r"
     ]
    },
    {
     "name": "stdout",
     "output_type": "stream",
     "text": [
      "+--------+------------+----------------+-----+----------------------------------+------------------------------+\n",
      "|anime_id|cos_sim     |Name            |Score|Genres                            |Studios                       |\n",
      "+--------+------------+----------------+-----+----------------------------------+------------------------------+\n",
      "|3470    |0.021373251 |Special A       |7.51 |Comedy, Romance                   |Gonzo, AIC                    |\n",
      "|527     |0.018533273 |Pokemon         |7.37 |Action, Adventure, Comedy, Fantasy|OLM                           |\n",
      "|34009   |0.017481092 |To Be Hero      |6.96 |Comedy                            |Haoliners Animation League    |\n",
      "|37286   |0.015772797 |It's My Life    |5.67 |Comedy, Fantasy                   |Creators in Pack              |\n",
      "|52022   |0.015639778 |In the Film     |6.38 |Comedy                            |Uguisu Kobo                   |\n",
      "|14045   |0.01530865  |Mangirl!        |5.8  |Comedy, Slice of Life             |Doga Kobo                     |\n",
      "|41916   |0.015303672 |You Yao         |6.76 |Comedy                            |Shengying Animation           |\n",
      "|43807   |0.014930413 |San             |6.38 |Comedy                            |Shanghai Animation Film Studio|\n",
      "|918     |0.0148495445|Gintama         |8.94 |Action, Comedy, Sci-Fi            |Sunrise                       |\n",
      "|9969    |0.0148495445|Gintama'        |9.04 |Action, Comedy, Sci-Fi            |Sunrise                       |\n",
      "|28977   |0.0148495445|Gintama°        |9.06 |Action, Comedy, Sci-Fi            |Bandai Namco Pictures         |\n",
      "|34096   |0.0148495445|Gintama.        |8.98 |Action, Comedy, Sci-Fi            |Bandai Namco Pictures         |\n",
      "|31174   |0.014507501 |Osomatsu-san    |7.94 |Comedy                            |Pierrot                       |\n",
      "|210     |0.014192374 |Ranma ½         |7.76 |Action, Comedy, Fantasy           |Studio Deen                   |\n",
      "|52225   |0.014093307 |Over the Rainbow|6.38 |Comedy, Fantasy                   |Orange                        |\n",
      "|534     |0.013784356 |Slayers         |7.73 |Adventure, Comedy, Fantasy        |E&G Films                     |\n",
      "|15125   |0.013752051 |Teekyuu         |6.55 |Comedy, Sports                    |MAPPA                         |\n",
      "|28297   |0.013745536 |Ore Monogatari!!|7.91 |Comedy, Romance                   |Madhouse                      |\n",
      "|12145   |0.013628397 |Backkom         |5.82 |Comedy                            |RG Animation Studios          |\n",
      "|471     |0.013424264 |To Heart 2      |6.51 |Comedy, Drama, Romance            |OLM                           |\n",
      "+--------+------------+----------------+-----+----------------------------------+------------------------------+\n",
      "only showing top 20 rows\n",
      "\n"
     ]
    },
    {
     "name": "stderr",
     "output_type": "stream",
     "text": [
      "                                                                                \r"
     ]
    }
   ],
   "source": [
    "df_anime_joined.filter(~f.col('Studios').contains(studio)).show(int(number_of_recommendations), truncate=False)"
   ]
  }
 ],
 "metadata": {
  "kernelspec": {
   "display_name": ".venv",
   "language": "python",
   "name": "python3"
  },
  "language_info": {
   "codemirror_mode": {
    "name": "ipython",
    "version": 3
   },
   "file_extension": ".py",
   "mimetype": "text/x-python",
   "name": "python",
   "nbconvert_exporter": "python",
   "pygments_lexer": "ipython3",
   "version": "3.11.9"
  }
 },
 "nbformat": 4,
 "nbformat_minor": 2
}
